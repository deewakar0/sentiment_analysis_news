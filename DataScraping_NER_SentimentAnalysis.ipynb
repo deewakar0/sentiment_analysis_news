{
 "cells": [
  {
   "cell_type": "markdown",
   "metadata": {},
   "source": [
    "# Data Scrapping and importing libraries\n"
   ]
  },
  {
   "cell_type": "code",
   "execution_count": 5,
   "metadata": {},
   "outputs": [],
   "source": [
    "import requests\n",
    "from bs4 import BeautifulSoup\n",
    "import pandas as pd\n",
    "import numpy as np\n",
    "import matplotlib.pyplot as plt\n",
    "import seaborn as sns\n",
    "import os\n",
    "\n",
    "%matplotlib inline"
   ]
  },
  {
   "cell_type": "code",
   "execution_count": 6,
   "metadata": {},
   "outputs": [],
   "source": [
    "url = 'https://inshorts.com/en/read/technology'"
   ]
  },
  {
   "cell_type": "code",
   "execution_count": 7,
   "metadata": {},
   "outputs": [],
   "source": [
    "news_data = []"
   ]
  },
  {
   "cell_type": "code",
   "execution_count": 8,
   "metadata": {},
   "outputs": [
    {
     "data": {
      "text/plain": [
       "['https:', '', 'inshorts.com', 'en', 'read', 'technology']"
      ]
     },
     "execution_count": 8,
     "metadata": {},
     "output_type": "execute_result"
    }
   ],
   "source": [
    "news_category = url.split('/')\n",
    "news_category"
   ]
  },
  {
   "cell_type": "code",
   "execution_count": 9,
   "metadata": {},
   "outputs": [
    {
     "data": {
      "text/plain": [
       "'technology'"
      ]
     },
     "execution_count": 9,
     "metadata": {},
     "output_type": "execute_result"
    }
   ],
   "source": [
    "news_category = news_category[-1]\n",
    "news_category"
   ]
  },
  {
   "cell_type": "code",
   "execution_count": 10,
   "metadata": {},
   "outputs": [
    {
     "data": {
      "text/plain": [
       "b'<!doctype html>\\n<html lang=\"en\">\\n\\n<head>\\n  <meta charset=\"utf-8\" />\\n  <style>\\n    /* The Modal (background) */\\n    .modal_contact {\\n        display: none; /* Hidden by default */\\n        position: fixed; /* Stay in place */\\n        z-index: 8; /* Sit on top */\\n        left: 0;\\n        top: 0;\\n        width: 100%; /* Full width */\\n        height: 100%;\\n        overflow: auto; /* Enable scroll if needed */\\n        background-color: rgb(0,0,0); /* Fallback color */\\n        background-color: rgba(0,0,0,0.4); /* Black w/ opacity */\\n    }\\n\\n    /* Modal Content/Box */\\n    .modal-content {\\n        background-color: #fefefe;\\n        margin: 15% auto;\\n        padding: 20px !important;\\n        padding-top: 0 !important;\\n        /* border: 1px solid #888; */\\n        text-align: center;\\n        position: relative;\\n        border-radius: 6px;\\n    }\\n\\n    /* The Close Button */\\n    .close {\\n      left: 90%;\\n      color: #aaa;\\n      float: right;\\n      font-size: 28px;\\n      font-weight: bold;\\n    /* position: absolute; */\\n    /* bottom: 86%; */\\n    /* display: inline-block; */\\n    /* padding-left: 5%; */\\n    }\\n\\n    .close:hover,\\n    .close:focus {\\n        color: black;\\n        text-decoration: none;\\n        cursor: pointer;\\n    }\\n\\n    #myBtn {\\n      background: #999999;\\n      color: #ffffff;\\n      text-transform: uppercase;\\n      font-weight: bold;\\n      box-shadow: none;\\n      border-radius: 4px;\\n      border: none;\\n      font-size: .8rem;\\n      /* width: 8rem; */\\n      height: 2rem;\\n      line-height: 2rem;\\n    }\\n\\n    .contact {\\n      margin-bottom: 4%;\\n      clear: both;\\n    }\\n  </style>\\n\\n  \\n    \\n  <meta http-equiv=\"Content-Type\" content=\"text/html; charset=UTF-8\"/>\\n  <meta name=\"viewport\" content=\"width=device-width, initial-scale=1, maximum-scale=1.0, user-scalable=no\"/>\\n\\n  <meta http-equiv=\"X-UA-Compatible\" content=\"IE=edge\">\\n  <link rel=\"manifest\" href=\"manifest.json\">\\n\\n  <!-- Fallback to homescreen for Chrome   <39 on Android -->\\n  <meta name=\"mobile-web-app-capable\" content=\"yes\">\\n  <meta name=\"application-name\" content=\"inshorts\">\\n  <link rel=\"icon\" sizes=\"192x192\" href=\"https://assets.inshorts.com/website_assets/images/favicon.png\">\\n\\n  <!-- Add to homescreen for Safari on iOS -->\\n  <meta name=\"apple-mobile-web-app-capable\" content=\"yes\">\\n  <meta name=\"apple-mobile-web-app-status-bar-style\" content=\"#424242\">\\n  <meta name=\"apple-mobile-web-app-title\" content=\"inshorts\">\\n  <link rel=\"apple-touch-icon\" href=\"https://assets.inshorts.com/website_assets/images/favicon.png\">\\n\\n  <!-- Tile icon for Win8 (144x144 + tile color) -->\\n  <meta name=\"msapplication-TileImage\" content=\"fav/favicon.png\">\\n  <meta name=\"msapplication-TileColor\" content=\"#424242\">\\n\\n  <meta name=\"theme-color\" content=\"#424242\">\\n  <meta http-equiv=\"content-type\" content=\"text/html; charset=UTF-8\"/>\\n  <meta name=\"msapplication-navbutton-color\" content=\"#424242\">\\n  <meta name=\"apple-mobile-web-app-status-bar-style\" content=\"#424242\">\\n  <link rel=\"apple-touch-startup-image\" href=\"https://assets.inshorts.com/website_assets/images/favicon.png\">\\n  <meta name=\"apple-mobile-web-app-status-bar-style\" content=\"black-translucent\">\\n    <meta name=\"twitter:card\" content=\"app\"/>\\n  <meta name=\"twitter:site\" content=\"@inshorts\"/>\\n  <meta name=\"twitter:creator\" content=\"@inshorts\"/>\\n  <meta name=\"twitter:description\" content=\"Inshorts delivers news in less than 60 words, containing only the essential facts, compromising on anything that is close to opinionating and storytelling.\"/>\\n  <meta name=\"twitter:app:country\" content=\"IN\"/>\\n  <meta name=\"twitter:app:name:iphone\" content=\"Inshorts - Stay Informed\"/>\\n  <meta name=\"twitter:app:id:iphone\" content=\"892146527\"/>\\n  <meta name=\"twitter:app:url:iphone\" content=\"nis://news\"/>\\n  <meta name=\"twitter:app:name:ipad\" content=\"Inshorts - Stay Informed\"/>\\n  <meta name=\"twitter:app:id:ipad\" content=\"892146527\"/>\\n  <meta name=\"twitter:app:url:ipad\" content=\"nis://news\"/>\\n  <meta name=\"twitter:app:name:googleplay\" content=\"Inshorts - Stay Informed\"/>\\n  <meta name=\"twitter:app:id:googleplay\" content=\"com.nis.app\"/>\\n  <meta name=\"twitter:app:url:googleplay\" content=\"nis://news\"/>\\n\\n  <meta name=\"description\" content=\"Read technology news in English in less that 60 words and get updated with all top news and current affairs related to mobile, internet and computer in a fast and easy way with inshorts.\"/>\\n  <link href=\"https://inshorts.com/en/read/technology\" rel=\"canonical\" />\\n  <link href=\"https://inshorts.com/en/read/technology\" rel=\"alternate\" reflang=\"en\" />\\n  <meta name=\"apple-itunes-app\" content=\"app-id=892146527\">\\n  <meta name=\"google-play-app\" content=\"app-id=com.nis.app\">\\n\\n  <title>Technology News: Moblie News, Computer News in English with Inshorts</title>\\n  <!-- CSS  -->\\n  <link href=\\'https://fonts.googleapis.com/css?family=Roboto\\' rel=\\'stylesheet\\' type=\\'text/css\\'>\\n  <link href=\"https://fonts.googleapis.com/icon?family=Material+Icons\" rel=\"stylesheet\">\\n  <link rel=\"stylesheet\" href=\"https://cdnjs.cloudflare.com/ajax/libs/materialize/0.97.1/css/materialize.min.css\">\\n  <link href=\\'https://fonts.googleapis.com/css?family=Hind:500,600,400&subset=latin,devanagari\\' rel=\\'stylesheet\\' type=\\'text/css\\'>\\n  <link href=\"/dist/styles/main.css\" type=\"text/css\" rel=\"stylesheet\" media=\"screen,projection\"/>\\n  <link href=\"/dist/styles/index.css\" type=\"text/css\" rel=\"stylesheet\" media=\"screen,projection\"/>\\n  <link href=\"/dist/styles/read.css\" type=\"text/css\" rel=\"stylesheet\" media=\"screen,projection\"/>\\n  <link href=\"/dist/styles/news-card.css\" type=\"text/css\" rel=\"stylesheet\" media=\"screen,projection\"/>\\n  <link rel=\"icon\" type=\"image/png\" href=\"https://assets.inshorts.com/website_assets/images/favicon.png\" />\\n  <link rel=\"manifest\" href=\"/dist/manifest.json\">\\n  <script async=\\'async\\' src=\\'https://www.googletagservices.com/tag/js/gpt.js\\'></script>\\n  <script>\\n    var googletag = googletag || {};\\n    googletag.cmd = googletag.cmd || [];\\n    let top_banner_slot;\\n  </script>\\n\\n  <!-- Top banner for desktop-->\\n  <script>\\n    googletag.cmd.push(function() {\\n      \\n      \\n        //Top banner for desktop\\n        top_banner_slot = googletag.defineSlot(\\'/142919096/inshorts_website_728x90\\', [728, 90], \\'div-gpt-ad-1536585015617-0\\')\\n        .addService(googletag.pubads())\\n        .setCollapseEmptyDiv(true,true);\\n      \\n\\n      googletag.pubads().disableInitialLoad();\\n      googletag.pubads().enableSingleRequest();\\n      googletag.enableServices();\\n    });\\n  </script>\\n\\n  <!-- Facebook Pixel Code -->\\n  <script>\\n    !function(f,b,e,v,n,t,s)\\n    {if(f.fbq)return;n=f.fbq=function(){n.callMethod?\\n    n.callMethod.apply(n,arguments):n.queue.push(arguments)};\\n    if(!f._fbq)f._fbq=n;n.push=n;n.loaded=!0;n.version=\\'2.0\\';\\n    n.queue=[];t=b.createElement(e);t.async=!0;\\n    t.src=v;s=b.getElementsByTagName(e)[0];\\n    s.parentNode.insertBefore(t,s)}(window, document,\\'script\\',\\n    \\'https://connect.facebook.net/en_US/fbevents.js\\');\\n    fbq(\\'init\\', \\'822966517773327\\');\\n    fbq(\\'track\\', \\'PageView\\');\\n  </script>\\n  <noscript><img height=\"1\" width=\"1\" style=\"display:none\"\\n    src=\"https://www.facebook.com/tr?id=822966517773327&ev=PageView&noscript=1\"\\n  /></noscript>\\n  <!-- End Facebook Pixel Code -->\\n  <!-- Mix panel script start -->\\n<script>\\n  (function(f,b){if(!b.__SV){var e,g,i,h;window.mixpanel=b;b._i=[];b.init=function(e,f,c){function g(a,d){var b=d.split(\".\");2==b.length&&(a=a[b[0]],d=b[1]);a[d]=function(){a.push([d].concat(Array.prototype.slice.call(arguments,0)))}}var a=b;\"undefined\"!==typeof c?a=b[c]=[]:c=\"mixpanel\";a.people=a.people||[];a.toString=function(a){var d=\"mixpanel\";\"mixpanel\"!==c&&(d+=\".\"+c);a||(d+=\" (stub)\");return d};a.people.toString=function(){return a.toString(1)+\".people (stub)\"};i=\"disable time_event track track_pageview track_links track_forms track_with_groups add_group set_group remove_group register register_once alias unregister identify name_tag set_config reset opt_in_tracking opt_out_tracking has_opted_in_tracking has_opted_out_tracking clear_opt_in_out_tracking start_batch_senders people.set people.set_once people.unset people.increment people.append people.union people.track_charge people.clear_charges people.delete_user people.remove\".split(\" \");\\n  for(h=0;h<i.length;h++)g(a,i[h]);var j=\"set set_once union unset remove delete\".split(\" \");a.get_group=function(){function b(c){d[c]=function(){call2_args=arguments;call2=[c].concat(Array.prototype.slice.call(call2_args,0));a.push([e,call2])}}for(var d={},e=[\"get_group\"].concat(Array.prototype.slice.call(arguments,0)),c=0;c<j.length;c++)b(j[c]);return d};b._i.push([e,f,c])};b.__SV=1.2;e=f.createElement(\"script\");e.type=\"text/javascript\";e.async=!0;e.src=\"undefined\"!==typeof MIXPANEL_CUSTOM_LIB_URL?\\n  MIXPANEL_CUSTOM_LIB_URL:\"file:\"===f.location.protocol&&\"//cdn.mxpnl.com/libs/mixpanel-2-latest.min.js\".match(/^\\\\/\\\\//)?\"https://cdn.mxpnl.com/libs/mixpanel-2-latest.min.js\":\"//cdn.mxpnl.com/libs/mixpanel-2-latest.min.js\";g=f.getElementsByTagName(\"script\")[0];g.parentNode.insertBefore(e,g)}})(document,window.mixpanel||[]);\\n  mixpanel.init(\"a99a1037068944b00a0cc8ee56c94e8c\")\\n  mixpanel.track(\"pageview\")\\n  </script>\\n<!-- Mix panel script end -->\\n</head>\\n<script>\\n  (function(i,s,o,g,r,a,m){i[\\'GoogleAnalyticsObject\\']=r;i[r]=i[r]||function(){\\n  (i[r].q=i[r].q||[]).push(arguments)},i[r].l=1*new Date();a=s.createElement(o),\\n  m=s.getElementsByTagName(o)[0];a.async=1;a.src=g;m.parentNode.insertBefore(a,m)\\n  })(window,document,\\'script\\',\\'//www.google-analytics.com/analytics.js\\',\\'ga\\');\\n\\n  ga(\\'create\\', \\'UA-55157535-6\\', \\'auto\\');\\n  ga(\\'send\\', \\'pageview\\');  \\n</script>\\n  <!-- Add After importing GA and Mixpanel scripts -->\\n<script>\\n  function track_GA_Mixpanel({hitType, category, action, label, value = 1}){\\n    if (window && window.ga) {\\n      ga(\\'send\\', {\\n            hitType: \\'event\\',\\n            eventCategory: category,\\n            eventAction: action,\\n            eventLabel: label,\\n            eventValue: value\\n        });\\n    }\\n    // mix panel analytics\\n    if(window && window.mixpanel){\\n        mixpanel.track(\"event\", {category, action, label, value});\\n    }\\n  }\\n</script>\\n<body>\\n\\n\\n  <!-- Begin comScore Tag -->\\n  <script>\\n    var _comscore = _comscore || [];\\n    _comscore.push({ c1: \"2\", c2: \"28268321\" });\\n    (function() {\\n      var s = document.createElement(\"script\"), el = document.getElementsByTagName(\"script\")[0]; s.async = true;\\n      s.src = (document.location.protocol == \"https:\" ? \"https://sb\" : \"http://b\") + \".scorecardresearch.com/beacon.js\";\\n      el.parentNode.insertBefore(s, el);\\n    })();\\n  </script>\\n  <noscript>\\n    <img src=\"https://sb.scorecardresearch.com/p?c1=2&c2=28268321&cv=2.0&cj=1\" />\\n  </noscript>\\n  \\n  \\n  <!-- HEADER START -->\\n  <div class=\"header z-depth-1\">\\n    <div class=\"menu clickable\">\\n      <button class=\"c-hamburger c-hamburger--htx\" ><span>toggle menu</span></button><span class=\"unselectable\">Menu</span>\\n    </div>\\n    <!--\\n    <div class=\"search-wrapper hide-on-small-only\">\\n      <input class=\"search-box\" placeholder=\"Search\" id=\"search\"/>\\n      <i id=\"search_icon\" class=\"material-icons search-icon\">search</i>\\n      <div class=\"search-box-ul\">&nbsp;</div>\\n    </div>\\n    -->\\n    <a href=\"/\"><img src=\"https://assets.inshorts.com/website_assets/images/logo_inshorts.png\" class=\"logo\"/></a>\\n  </div>\\n  <!-- HEADER END -->\\n\\n  \\n<!--SIDEBAR START -->\\n    <div class=\"hide-on-med-and-up sidebar-bg\" style=\"display: none;\">&nbsp;</div>\\n    <div class=\"sidebar\" style=\"overflow-y: scroll;\">\\n      <div class=\"lang-bar\" style=\"\">\\n        <div class=\"lang-selector clickable\">\\n          <a href=\\'/en/read/technology\\'><div class=\"lang-en selected\">English</div></a>\\n          <a href=\\'/hi/read/technology\\'><div class=\"lang-hi \">\\xe0\\xa4\\xb9\\xe0\\xa4\\xbf\\xe0\\xa4\\xa8\\xe0\\xa5\\x8d\\xe0\\xa4\\xa6\\xe0\\xa5\\x80</div></a>\\n        </div>\\n      </div>\\n\\n      <div>\\n        <div class=\"category-header\">Categories</div>\\n        <ul class=\"category-list\">\\n\\n          <a onclick=\"track_GA_Mixpanel({\\'hitType\\': \\'event\\', \\'category\\': \\'LinkToAllNews\\', \\'action\\': \\'clicked\\', \\'label\\': \\'RedirectedToAllNews\\' });\" href=\\'/en/read\\'> <li class=\"active-category \" >All News</li> </a>\\n\\n\\n          <a onclick=\"track_GA_Mixpanel({\\'hitType\\': \\'event\\', \\'category\\': \\'LinkToIndiaNews\\', \\'action\\': \\'clicked\\', \\'label\\': \\'RedirectedToIndiaNews\\' });\" href=\\'/en/read/national\\'> <li class=\"active-category \">India</li> </a>\\n\\n          <a onclick=\"track_GA_Mixpanel({\\'hitType\\': \\'event\\', \\'category\\': \\'LinkToBusinessNews\\', \\'action\\': \\'clicked\\', \\'label\\':  \\'RedirectedToBusinessNews\\' });\"  href=\\'/en/read/business\\'> <li class=\"active-category \">Business</li> </a>\\n\\n          <a onclick=\"track_GA_Mixpanel({\\'hitType\\': \\'event\\', \\'category\\': \\'LinkTosportsNews\\', \\'action\\': \\'clicked\\', \\'label\\': \\'RedirectedToSportsNews\\' });\"  href=\\'/en/read/sports\\'> <li class=\"active-category \">Sports</li> </a>\\n          <a onclick=\"track_GA_Mixpanel({\\'hitType\\': \\'event\\', \\'category\\': \\'LinkToworldNews\\', \\'action\\': \\'clicked\\', \\'label\\': \\'RedirectedToworldNews\\' });\" href=\\'/en/read/world\\'> <li class=\"active-category \">World</li> </a>\\n\\n          <a onclick=\"track_GA_Mixpanel({\\'hitType\\': \\'event\\', \\'category\\': \\'LinkToworldNews\\', \\'action\\': \\'clicked\\',   \\'label\\': \\'RedirectedToworldNews\\' });\"  href=\\'/en/read/politics\\'> <li class=\"active-category \">Politics</li> </a>\\n          <a onclick=\"track_GA_Mixpanel({\\'hitType\\': \\'event\\', \\'category\\': \\'LinkTotechnologyNews\\', \\'action\\': \\'clicked\\', \\'label\\': \\'RedirectedTotechnologyNews\\' });\" href=\\'/en/read/technology\\'> <li class=\"active-category selected\">Technology</li> </a>\\n\\n          <a onclick=\"track_GA_Mixpanel({\\'hitType\\': \\'event\\', \\'category\\': \\'LinkTostartupNews\\', \\'action\\': \\'clicked\\', \\'label\\': \\'RedirectedTostartupNews\\' });\"  href=\\'/en/read/startup\\'> <li class=\"active-category \">Startup</li> </a>\\n\\n\\n          <a onclick=\"track_GA_Mixpanel({\\'hitType\\': \\'event\\', \\'category\\': \\'LinkToEntertainmentNews\\', \\'action\\': \\'clicked\\', \\'label\\': \\'RedirectedToEntertainmentNews\\' });\"  href=\\'/en/read/entertainment\\'> <li class=\"active-category \">Entertainment</li> </a>\\n\\n\\n          <a onclick=\"track_GA_Mixpanel({\\'hitType\\': \\'event\\', \\'category\\': \\'LinkToMiscellaneousNews\\', \\'action\\': \\'clicked\\', \\'label\\': \\'RedirectedToMiscellaneousNews\\' });\"  href=\\'/en/read/miscellaneous\\'> <li class=\"active-category \">Miscellaneous</li> </a>\\n\\n          <a onclick=\"track_GA_Mixpanel({\\'hitType\\': \\'event\\', \\'category\\': \\'LinkTohatkeNews\\', \\'action\\': \\'clicked\\', \\'label\\': \\'RedirectedTohatkeNews\\' });\"  href=\\'/en/read/hatke\\'> <li class=\"active-category \">Hatke</li> </a>\\n\\n          <a onclick=\"track_GA_Mixpanel({\\'hitType\\': \\'event\\', \\'category\\': \\'LinkToscienceNews\\', \\'action\\': \\'clicked\\', \\'label\\': \\'RedirectedToscienceNews\\' });\"  href=\\'/en/read/science\\'> <li class=\"active-category \">Science</li> </a>\\n\\n          <a onclick=\"track_GA_Mixpanel({\\'hitType\\': \\'event\\', \\'category\\': \\'LinkToautomobileNews\\', \\'action\\': \\'clicked\\', \\'label\\': \\'RedirectedToautomobileNews\\' });\"  href=\\'/en/read/automobile\\'> <li class=\"active-category \">Automobile</li> </a>\\n\\n        </ul>\\n      </div>\\n    </div>\\n<!--SIDEBAR END -->\\n\\n  <!-- BODY START -->\\n  <div class=\"container\" style=\"min-height:550px;\">\\n    <div class=\"row\" style=\"padding-top:110px;\">\\n      \\n        <div id=\\'div-gpt-ad-1536585015617-0\\' style=\\'height:90px; width:728px;margin: auto; margin-bottom: 1%;\\'>\\n          <script>\\n          googletag.cmd.push(function() { \\n            googletag.display(\\'div-gpt-ad-1536585015617-0\\'); \\n            googletag.pubads().refresh([top_banner_slot]);\\n          });\\n          </script>\\n        </div>\\n      \\n      \\n\\n      \\n      <div class=\"hide-on-med-and-down z-depth-1\" style=\"margin-left : auto;margin-right : auto;margin-bottom: 32px;width : 900px;height:48px;background: #f44336\">\\n        <div style=\"font-weight: 300;color:white !important;font-size:14px;margin-left: 48px;margin-top: 13px;position: absolute;display: block;\">\\n          For the best experience use <a target=\"_blank\" href=\"https://inshorts.com/mobile\" style=\"color:white;appearance: none;font-weight: 500;\">inshorts</a> app on your smartphone\\n        </div>\\n        \\n        \\n      </div>\\n      \\n      <div class=\"card-stack\">\\n        \\n\\n\\n\\n\\n\\n<div class=\"\">\\n<div class=\"news-card z-depth-1\" itemscope itemtype=\"http://schema.org/NewsArticle\">\\n  <span content=\"\" itemscope itemprop=\"mainEntityOfPage\" itemType=\"https://schema.org/WebPage\" itemid=\"https://inshorts.com/en/news/singapore-provisionally-approves-60second-covid19-breath-test-1621870089042\"></span>\\n  <span itemtype=\"https://schema.org/Person\" itemscope=\"itemscope\" itemprop=\"author\">\\n    <span itemprop=\"name\" content=\"Pragya Swastik\"></span>\\n  </span>\\n  <span itemprop=\"description\" content=\"Singapore provisionally approves 60-second COVID-19 breath test\"></span>\\n  <span itemprop=\"image\" itemscope itemtype=\"https://schema.org/ImageObject\">\\n    <meta itemprop=\"url\" content=\"https://static.inshorts.com/inshorts/images/v1/variants/jpg/m/2021/05_may/24_mon/img_1621867926907_408.jpg?\"></meta>\\n    <meta itemprop=\"width\" content=\"864\"></meta>\\n    <meta itemprop=\"height\" content=\"483\"></meta>\\n  </span>\\n  <span itemtype=\"https://schema.org/Organization\" itemscope=\"itemscope\" itemprop=\"publisher\">\\n    <span itemprop=\"url\" content=\"https://inshorts.com/\"></span>\\n    <span itemprop=\"name\" content=\"Inshorts\"></span>\\n    <span itemprop=\"logo\" itemscope itemtype=\"https://schema.org/ImageObject\">\\n      <span itemprop=\"url\" content=\"https://assets.inshorts.com/inshorts/images/v1/variants/jpg/m/2018/11_nov/21_wed/img_1542823931298_497.jpg\"></span>\\n      <meta itemprop=\"width\" content=\"400\"></meta>\\n      <meta itemprop=\"height\" content=\"60\"></meta>\\n    </span>\\n  </span>\\n  <div class=\"news-card-image\" style= \"background-image: url(\\'https://static.inshorts.com/inshorts/images/v1/variants/jpg/m/2021/05_may/24_mon/img_1621867926907_408.jpg?\\')\">\\n  </div>\\n  <div class=\"news-card-title news-right-box\">\\n    <a class=\"clickable\" onclick=\"track_GA_Mixpanel({\\'hitType\\': \\'event\\', \\'category\\': \\'TitleOfNews\\', \\'action\\': \\'clicked\\', \\'label\\': \\'Singapore%20provisionally%20approves%2060-second%20COVID-19%20breath%20test)\\' });\"  style=\"color:#44444d!important\" href=\"/en/news/singapore-provisionally-approves-60second-covid19-breath-test-1621870089042\">\\n      <span itemprop=\"headline\">Singapore provisionally approves 60-second COVID-19 breath test</span>\\n    </a>\\n    <div class=\"news-card-author-time news-card-author-time-in-title\">\\n      <a href=\"/prev/en/news/singapore-provisionally-approves-60second-covid19-breath-test-1621870089042\"><span class=\"short\">short</span></a> by <span class=\"author\">Pragya Swastik</span> / \\n      <span class=\"time\" itemprop=\"datePublished\" content=\"2021-05-24T15:28:09.000Z\">08:58 pm</span> on <span clas=\"date\">24 May 2021,Monday</span>\\n    </div>\\n  </div>\\n  <div class=\"news-card-content news-right-box\">\\n    <div itemprop=\"articleBody\">Singapore has provisionally approved a COVID-19 breath test that can detect if someone is infected with COVID-19 within 60 seconds. The test, developed by the National University of Singapore&#39;s spin-off Breathonix, achieved more than 90% accuracy in a Singapore-based pilot clinical trial last year. A trial of the technology is now expected at one of Singapore&#39;s border points with Malaysia.</div>\\n    <div class=\"news-card-author-time news-card-author-time-in-content\">\\n      <a href=\"/prev/en/news/singapore-provisionally-approves-60second-covid19-breath-test-1621870089042\"><span class=\"short\">short</span></a> by <span class=\"author\">Pragya Swastik</span> / \\n      <span class=\"time\" itemprop=\"dateModified\" content=\"2021-05-24T15:28:09.000Z\" >08:58 pm</span> on <span class=\"date\">24 May</span>\\n    </div>\\n  </div>\\n  \\n    <div class=\"news-card-footer news-right-box\">\\n      <div class=\"read-more\">read more at <a class=\"source\" onclick=\"track_GA_Mixpanel({\\'hitType\\': \\'event\\', \\'category\\': \\'ReadMore\\', \\'action\\': \\'clicked\\', \\'label\\': \\'Reuters\\' });\" target=\"_blank\" href=\"https://mobile.reuters.com/article/amp/idUSKCN2D50AJ?utm_campaign=fullarticle&amp;utm_medium=referral&amp;utm_source=inshorts \">Reuters</a></div>\\n    </div>\\n  \\n\\n</div>\\n\\n  \\n</div>\\n\\n\\n\\n\\n<div class=\"\">\\n<div class=\"news-card z-depth-1\" itemscope itemtype=\"http://schema.org/NewsArticle\">\\n  <span content=\"\" itemscope itemprop=\"mainEntityOfPage\" itemType=\"https://schema.org/WebPage\" itemid=\"https://inshorts.com/en/news/gates-trust-sold-all-apple-twitter-shares-weeks-before-divorce-announcement-1621922166704\"></span>\\n  <span itemtype=\"https://schema.org/Person\" itemscope=\"itemscope\" itemprop=\"author\">\\n    <span itemprop=\"name\" content=\"Kiran Khatri\"></span>\\n  </span>\\n  <span itemprop=\"description\" content=\"Gates&#39; trust sold all Apple, Twitter shares weeks before divorce announcement\"></span>\\n  <span itemprop=\"image\" itemscope itemtype=\"https://schema.org/ImageObject\">\\n    <meta itemprop=\"url\" content=\"https://static.inshorts.com/inshorts/images/v1/variants/jpg/m/2021/05_may/25_tue/img_1621921155848_598.jpg?\"></meta>\\n    <meta itemprop=\"width\" content=\"864\"></meta>\\n    <meta itemprop=\"height\" content=\"483\"></meta>\\n  </span>\\n  <span itemtype=\"https://schema.org/Organization\" itemscope=\"itemscope\" itemprop=\"publisher\">\\n    <span itemprop=\"url\" content=\"https://inshorts.com/\"></span>\\n    <span itemprop=\"name\" content=\"Inshorts\"></span>\\n    <span itemprop=\"logo\" itemscope itemtype=\"https://schema.org/ImageObject\">\\n      <span itemprop=\"url\" content=\"https://assets.inshorts.com/inshorts/images/v1/variants/jpg/m/2018/11_nov/21_wed/img_1542823931298_497.jpg\"></span>\\n      <meta itemprop=\"width\" content=\"400\"></meta>\\n      <meta itemprop=\"height\" content=\"60\"></meta>\\n    </span>\\n  </span>\\n  <div class=\"news-card-image\" style= \"background-image: url(\\'https://static.inshorts.com/inshorts/images/v1/variants/jpg/m/2021/05_may/25_tue/img_1621921155848_598.jpg?\\')\">\\n  </div>\\n  <div class=\"news-card-title news-right-box\">\\n    <a class=\"clickable\" onclick=\"track_GA_Mixpanel({\\'hitType\\': \\'event\\', \\'category\\': \\'TitleOfNews\\', \\'action\\': \\'clicked\\', \\'label\\': \\'Gates&#39;%20trust%20sold%20all%20Apple%2C%20Twitter%20shares%20weeks%20before%20divorce%20announcement)\\' });\"  style=\"color:#44444d!important\" href=\"/en/news/gates-trust-sold-all-apple-twitter-shares-weeks-before-divorce-announcement-1621922166704\">\\n      <span itemprop=\"headline\">Gates&#39; trust sold all Apple, Twitter shares weeks before divorce announcement</span>\\n    </a>\\n    <div class=\"news-card-author-time news-card-author-time-in-title\">\\n      <a href=\"/prev/en/news/gates-trust-sold-all-apple-twitter-shares-weeks-before-divorce-announcement-1621922166704\"><span class=\"short\">short</span></a> by <span class=\"author\">Kiran Khatri</span> / \\n      <span class=\"time\" itemprop=\"datePublished\" content=\"2021-05-25T05:56:06.000Z\">11:26 am</span> on <span clas=\"date\">25 May 2021,Tuesday</span>\\n    </div>\\n  </div>\\n  <div class=\"news-card-content news-right-box\">\\n    <div itemprop=\"articleBody\">The Bill &amp; Melinda Gates Foundation sold its entire stakes in Apple and Twitter, weeks before the Gates announced their divorce earlier this month. The trust sold 1 million of shares it owned in Apple at the end of 2020 and 272,420 Twitter shares. Since the divorce announcement, about $4 billion in stock has been transferred from Bill to Melinda.</div>\\n    <div class=\"news-card-author-time news-card-author-time-in-content\">\\n      <a href=\"/prev/en/news/gates-trust-sold-all-apple-twitter-shares-weeks-before-divorce-announcement-1621922166704\"><span class=\"short\">short</span></a> by <span class=\"author\">Kiran Khatri</span> / \\n      <span class=\"time\" itemprop=\"dateModified\" content=\"2021-05-25T05:56:06.000Z\" >11:26 am</span> on <span class=\"date\">25 May</span>\\n    </div>\\n  </div>\\n  \\n    <div class=\"news-card-footer news-right-box\">\\n      <div class=\"read-more\">read more at <a class=\"source\" onclick=\"track_GA_Mixpanel({\\'hitType\\': \\'event\\', \\'category\\': \\'ReadMore\\', \\'action\\': \\'clicked\\', \\'label\\': \\'Business%20Insider%20India\\' });\" target=\"_blank\" href=\"https://www.businessinsider.in/tech/news/the-bill-and-melinda-gates-foundation-sold-all-its-shares-of-apple-and-twitter-right-before-the-billionaire-couple-announced-their-divorce/amp_articleshow/82915656.cms?utm_campaign=fullarticle&amp;utm_medium=referral&amp;utm_source=inshorts \">Business Insider India</a></div>\\n    </div>\\n  \\n\\n</div>\\n\\n  \\n</div>\\n\\n\\n\\n\\n<div class=\"\">\\n<div class=\"news-card z-depth-1\" itemscope itemtype=\"http://schema.org/NewsArticle\">\\n  <span content=\"\" itemscope itemprop=\"mainEntityOfPage\" itemType=\"https://schema.org/WebPage\" itemid=\"https://inshorts.com/en/news/trick-to-relaunch-pubg-mobile-mla-urges-pm-to-ban-battlegrounds-mobile-india-1621855450893\"></span>\\n  <span itemtype=\"https://schema.org/Person\" itemscope=\"itemscope\" itemprop=\"author\">\\n    <span itemprop=\"name\" content=\"Pragya Swastik\"></span>\\n  </span>\\n  <span itemprop=\"description\" content=\"Trick to relaunch PUBG Mobile: MLA urges PM to ban Battlegrounds Mobile India\"></span>\\n  <span itemprop=\"image\" itemscope itemtype=\"https://schema.org/ImageObject\">\\n    <meta itemprop=\"url\" content=\"https://static.inshorts.com/inshorts/images/v1/variants/jpg/m/2021/05_may/24_mon/img_1621853447660_207.jpg?\"></meta>\\n    <meta itemprop=\"width\" content=\"864\"></meta>\\n    <meta itemprop=\"height\" content=\"483\"></meta>\\n  </span>\\n  <span itemtype=\"https://schema.org/Organization\" itemscope=\"itemscope\" itemprop=\"publisher\">\\n    <span itemprop=\"url\" content=\"https://inshorts.com/\"></span>\\n    <span itemprop=\"name\" content=\"Inshorts\"></span>\\n    <span itemprop=\"logo\" itemscope itemtype=\"https://schema.org/ImageObject\">\\n      <span itemprop=\"url\" content=\"https://assets.inshorts.com/inshorts/images/v1/variants/jpg/m/2018/11_nov/21_wed/img_1542823931298_497.jpg\"></span>\\n      <meta itemprop=\"width\" content=\"400\"></meta>\\n      <meta itemprop=\"height\" content=\"60\"></meta>\\n    </span>\\n  </span>\\n  <div class=\"news-card-image\" style= \"background-image: url(\\'https://static.inshorts.com/inshorts/images/v1/variants/jpg/m/2021/05_may/24_mon/img_1621853447660_207.jpg?\\')\">\\n  </div>\\n  <div class=\"news-card-title news-right-box\">\\n    <a class=\"clickable\" onclick=\"track_GA_Mixpanel({\\'hitType\\': \\'event\\', \\'category\\': \\'TitleOfNews\\', \\'action\\': \\'clicked\\', \\'label\\': \\'Trick%20to%20relaunch%20PUBG%20Mobile%3A%20MLA%20urges%20PM%20to%20ban%20Battlegrounds%20Mobile%20India)\\' });\"  style=\"color:#44444d!important\" href=\"/en/news/trick-to-relaunch-pubg-mobile-mla-urges-pm-to-ban-battlegrounds-mobile-india-1621855450893\">\\n      <span itemprop=\"headline\">Trick to relaunch PUBG Mobile: MLA urges PM to ban Battlegrounds Mobile India</span>\\n    </a>\\n    <div class=\"news-card-author-time news-card-author-time-in-title\">\\n      <a href=\"/prev/en/news/trick-to-relaunch-pubg-mobile-mla-urges-pm-to-ban-battlegrounds-mobile-india-1621855450893\"><span class=\"short\">short</span></a> by <span class=\"author\">Pragya Swastik</span> / \\n      <span class=\"time\" itemprop=\"datePublished\" content=\"2021-05-24T11:24:10.000Z\">04:54 pm</span> on <span clas=\"date\">24 May 2021,Monday</span>\\n    </div>\\n  </div>\\n  <div class=\"news-card-content news-right-box\">\\n    <div itemprop=\"articleBody\">Ninong Ering, an MLA from Arunachal Pradesh, has written to PM Narendra Modi demanding a ban on &#39;Battlegrounds Mobile India&#39;, an alternative for PUBG Mobile that was banned in India. The MLA alleged that the move is simply a &#34;trick to relaunch&#34; PUBG Mobile in India with minor modifications. &#34;It&#39;s a big threat to the security of India,&#34; he added.</div>\\n    <div class=\"news-card-author-time news-card-author-time-in-content\">\\n      <a href=\"/prev/en/news/trick-to-relaunch-pubg-mobile-mla-urges-pm-to-ban-battlegrounds-mobile-india-1621855450893\"><span class=\"short\">short</span></a> by <span class=\"author\">Pragya Swastik</span> / \\n      <span class=\"time\" itemprop=\"dateModified\" content=\"2021-05-24T11:24:10.000Z\" >04:54 pm</span> on <span class=\"date\">24 May</span>\\n    </div>\\n  </div>\\n  \\n    <div class=\"news-card-footer news-right-box\">\\n      <div class=\"read-more\">read more at <a class=\"source\" onclick=\"track_GA_Mixpanel({\\'hitType\\': \\'event\\', \\'category\\': \\'ReadMore\\', \\'action\\': \\'clicked\\', \\'label\\': \\'Zee%20News\\' });\" target=\"_blank\" href=\"https://zeenews.india.com/technology/pubg-alert-battleground-mobile-india-might-get-banned-here-s-why-2363717.html/amp?utm_campaign=fullarticle&amp;utm_medium=referral&amp;utm_source=inshorts \">Zee News</a></div>\\n    </div>\\n  \\n\\n</div>\\n\\n  \\n</div>\\n\\n\\n\\n\\n<div class=\"\">\\n<div class=\"news-card z-depth-1\" itemscope itemtype=\"http://schema.org/NewsArticle\">\\n  <span content=\"\" itemscope itemprop=\"mainEntityOfPage\" itemType=\"https://schema.org/WebPage\" itemid=\"https://inshorts.com/en/news/paytm-ceo-shares-old-video-of-googles-exceo-telling-how-chrome-was-invented-1621852472342\"></span>\\n  <span itemtype=\"https://schema.org/Person\" itemscope=\"itemscope\" itemprop=\"author\">\\n    <span itemprop=\"name\" content=\"Pragya Swastik\"></span>\\n  </span>\\n  <span itemprop=\"description\" content=\"Paytm CEO shares old video of Google&#39;s ex-CEO telling how Chrome was invented\"></span>\\n  <span itemprop=\"image\" itemscope itemtype=\"https://schema.org/ImageObject\">\\n    <meta itemprop=\"url\" content=\"https://static.inshorts.com/inshorts/images/v1/variants/jpg/m/2021/05_may/24_mon/img_1621851584560_839.jpg?\"></meta>\\n    <meta itemprop=\"width\" content=\"864\"></meta>\\n    <meta itemprop=\"height\" content=\"483\"></meta>\\n  </span>\\n  <span itemtype=\"https://schema.org/Organization\" itemscope=\"itemscope\" itemprop=\"publisher\">\\n    <span itemprop=\"url\" content=\"https://inshorts.com/\"></span>\\n    <span itemprop=\"name\" content=\"Inshorts\"></span>\\n    <span itemprop=\"logo\" itemscope itemtype=\"https://schema.org/ImageObject\">\\n      <span itemprop=\"url\" content=\"https://assets.inshorts.com/inshorts/images/v1/variants/jpg/m/2018/11_nov/21_wed/img_1542823931298_497.jpg\"></span>\\n      <meta itemprop=\"width\" content=\"400\"></meta>\\n      <meta itemprop=\"height\" content=\"60\"></meta>\\n    </span>\\n  </span>\\n  <div class=\"news-card-image\" style= \"background-image: url(\\'https://static.inshorts.com/inshorts/images/v1/variants/jpg/m/2021/05_may/24_mon/img_1621851584560_839.jpg?\\')\">\\n  </div>\\n  <div class=\"news-card-title news-right-box\">\\n    <a class=\"clickable\" onclick=\"track_GA_Mixpanel({\\'hitType\\': \\'event\\', \\'category\\': \\'TitleOfNews\\', \\'action\\': \\'clicked\\', \\'label\\': \\'Paytm%20CEO%20shares%20old%20video%20of%20Google&#39;s%20ex-CEO%20telling%20how%20Chrome%20was%20invented)\\' });\"  style=\"color:#44444d!important\" href=\"/en/news/paytm-ceo-shares-old-video-of-googles-exceo-telling-how-chrome-was-invented-1621852472342\">\\n      <span itemprop=\"headline\">Paytm CEO shares old video of Google&#39;s ex-CEO telling how Chrome was invented</span>\\n    </a>\\n    <div class=\"news-card-author-time news-card-author-time-in-title\">\\n      <a href=\"/prev/en/news/paytm-ceo-shares-old-video-of-googles-exceo-telling-how-chrome-was-invented-1621852472342\"><span class=\"short\">short</span></a> by <span class=\"author\">Pragya Swastik</span> / \\n      <span class=\"time\" itemprop=\"datePublished\" content=\"2021-05-24T10:34:32.000Z\">04:04 pm</span> on <span clas=\"date\">24 May 2021,Monday</span>\\n    </div>\\n  </div>\\n  <div class=\"news-card-content news-right-box\">\\n    <div itemprop=\"articleBody\">Paytm CEO Vijay Shekhar Sharma took to Twitter to share an old video of Google&#39;s ex-CEO Eric Schmidt telling how Google Chrome was invented. In the video, Schmidt said Google founders would often &#34;play tricks&#34; on him and expressed their desire to build a browser. &#34;They hired somebody to improve Firefox&#39;s performance...and this person managed to invent Chrome,&#34; Schmidt added.</div>\\n    <div class=\"news-card-author-time news-card-author-time-in-content\">\\n      <a href=\"/prev/en/news/paytm-ceo-shares-old-video-of-googles-exceo-telling-how-chrome-was-invented-1621852472342\"><span class=\"short\">short</span></a> by <span class=\"author\">Pragya Swastik</span> / \\n      <span class=\"time\" itemprop=\"dateModified\" content=\"2021-05-24T10:34:32.000Z\" >04:04 pm</span> on <span class=\"date\">24 May</span>\\n    </div>\\n  </div>\\n  \\n    <div class=\"news-card-footer news-right-box\">\\n      <div class=\"read-more\">read more at <a class=\"source\" onclick=\"track_GA_Mixpanel({\\'hitType\\': \\'event\\', \\'category\\': \\'ReadMore\\', \\'action\\': \\'clicked\\', \\'label\\': \\'Twitter\\' });\" target=\"_blank\" href=\"https://twitter.com/vijayshekhar/status/1396504951048732679?s=20&amp;utm_campaign=fullarticle&amp;utm_medium=referral&amp;utm_source=inshorts \">Twitter</a></div>\\n    </div>\\n  \\n\\n</div>\\n\\n  \\n</div>\\n\\n\\n\\n\\n  \\n    <div id=\\'div-gpt-ad-1536748319959-9kvbjgvc-1\\' style=\\'height:250px; width:900px; margin: auto; margin-bottom: 2%;\\'>\\n      <script>\\n        googletag.cmd.push(function() { \\n          //News banner for desktop\\n          var slotIdWeb = \\'div-gpt-ad-1536748319959-9kvbjgvc-1\\';\\n          var slot = googletag.defineSlot(\\'/142919096/inshorts_website_900x250\\', [900, 250], slotIdWeb)\\n          .addService(googletag.pubads())\\n          .setCollapseEmptyDiv(true,true);\\n\\n          googletag.display(\\'div-gpt-ad-1536748319959-9kvbjgvc-1\\');\\n          googletag.pubads().refresh([slot]);\\n        });\\n      </script>\\n    </div>\\n  \\n\\n<div class=\"\">\\n<div class=\"news-card z-depth-1\" itemscope itemtype=\"http://schema.org/NewsArticle\">\\n  <span content=\"\" itemscope itemprop=\"mainEntityOfPage\" itemType=\"https://schema.org/WebPage\" itemid=\"https://inshorts.com/en/news/delhi-police-sends-notice-to-twitter-over-manipulated-tag-on-bjp-leaders-tweets-1621868459691\"></span>\\n  <span itemtype=\"https://schema.org/Person\" itemscope=\"itemscope\" itemprop=\"author\">\\n    <span itemprop=\"name\" content=\"Sakshita Khosla\"></span>\\n  </span>\\n  <span itemprop=\"description\" content=\"Delhi Police sends notice to Twitter over &#39;manipulated&#39; tag on BJP leader&#39;s tweet\"></span>\\n  <span itemprop=\"image\" itemscope itemtype=\"https://schema.org/ImageObject\">\\n    <meta itemprop=\"url\" content=\"https://static.inshorts.com/inshorts/images/v1/variants/jpg/m/2021/05_may/24_mon/img_1621867366311_929.jpg?\"></meta>\\n    <meta itemprop=\"width\" content=\"864\"></meta>\\n    <meta itemprop=\"height\" content=\"483\"></meta>\\n  </span>\\n  <span itemtype=\"https://schema.org/Organization\" itemscope=\"itemscope\" itemprop=\"publisher\">\\n    <span itemprop=\"url\" content=\"https://inshorts.com/\"></span>\\n    <span itemprop=\"name\" content=\"Inshorts\"></span>\\n    <span itemprop=\"logo\" itemscope itemtype=\"https://schema.org/ImageObject\">\\n      <span itemprop=\"url\" content=\"https://assets.inshorts.com/inshorts/images/v1/variants/jpg/m/2018/11_nov/21_wed/img_1542823931298_497.jpg\"></span>\\n      <meta itemprop=\"width\" content=\"400\"></meta>\\n      <meta itemprop=\"height\" content=\"60\"></meta>\\n    </span>\\n  </span>\\n  <div class=\"news-card-image\" style= \"background-image: url(\\'https://static.inshorts.com/inshorts/images/v1/variants/jpg/m/2021/05_may/24_mon/img_1621867366311_929.jpg?\\')\">\\n  </div>\\n  <div class=\"news-card-title news-right-box\">\\n    <a class=\"clickable\" onclick=\"track_GA_Mixpanel({\\'hitType\\': \\'event\\', \\'category\\': \\'TitleOfNews\\', \\'action\\': \\'clicked\\', \\'label\\': \\'Delhi%20Police%20sends%20notice%20to%20Twitter%20over%20&#39;manipulated&#39;%20tag%20on%20BJP%20leader&#39;s%20tweet)\\' });\"  style=\"color:#44444d!important\" href=\"/en/news/delhi-police-sends-notice-to-twitter-over-manipulated-tag-on-bjp-leaders-tweets-1621868459691\">\\n      <span itemprop=\"headline\">Delhi Police sends notice to Twitter over &#39;manipulated&#39; tag on BJP leader&#39;s tweet</span>\\n    </a>\\n    <div class=\"news-card-author-time news-card-author-time-in-title\">\\n      <a href=\"/prev/en/news/delhi-police-sends-notice-to-twitter-over-manipulated-tag-on-bjp-leaders-tweets-1621868459691\"><span class=\"short\">short</span></a> by <span class=\"author\">Sakshita Khosla</span> / \\n      <span class=\"time\" itemprop=\"datePublished\" content=\"2021-05-24T15:00:59.000Z\">08:30 pm</span> on <span clas=\"date\">24 May 2021,Monday</span>\\n    </div>\\n  </div>\\n  <div class=\"news-card-content news-right-box\">\\n    <div itemprop=\"articleBody\">Delhi Police has sent a notice to Twitter demanding an explanation for adding the &#39;manipulated media&#39; tag on tweets by BJP leader Sambit Patra on the alleged Congress &#39;toolkit&#39; against PM Narendra Modi. It asked Twitter to share the information that it has in regard to the alleged toolkit and explain why it used the tag.</div>\\n    <div class=\"news-card-author-time news-card-author-time-in-content\">\\n      <a href=\"/prev/en/news/delhi-police-sends-notice-to-twitter-over-manipulated-tag-on-bjp-leaders-tweets-1621868459691\"><span class=\"short\">short</span></a> by <span class=\"author\">Sakshita Khosla</span> / \\n      <span class=\"time\" itemprop=\"dateModified\" content=\"2021-05-24T15:00:59.000Z\" >08:30 pm</span> on <span class=\"date\">24 May</span>\\n    </div>\\n  </div>\\n  \\n    <div class=\"news-card-footer news-right-box\">\\n      <div class=\"read-more\">read more at <a class=\"source\" onclick=\"track_GA_Mixpanel({\\'hitType\\': \\'event\\', \\'category\\': \\'ReadMore\\', \\'action\\': \\'clicked\\', \\'label\\': \\'ABP\\' });\" target=\"_blank\" href=\"https://news.abplive.com/news/india/delhi-police-sends-notice-to-twitter-over-manipulated-tag-for-toolkit-tweets-1459934/amp?utm_campaign=fullarticle&amp;utm_medium=referral&amp;utm_source=inshorts \">ABP</a></div>\\n    </div>\\n  \\n\\n</div>\\n\\n  \\n</div>\\n\\n\\n\\n\\n<div class=\"\">\\n<div class=\"news-card z-depth-1\" itemscope itemtype=\"http://schema.org/NewsArticle\">\\n  <span content=\"\" itemscope itemprop=\"mainEntityOfPage\" itemType=\"https://schema.org/WebPage\" itemid=\"https://inshorts.com/en/news/comedians-enjoy-heavy-metal-music-with-french-prez-after-winning-youtube-bet-1621791407353\"></span>\\n  <span itemtype=\"https://schema.org/Person\" itemscope=\"itemscope\" itemprop=\"author\">\\n    <span itemprop=\"name\" content=\"Pragya Swastik\"></span>\\n  </span>\\n  <span itemprop=\"description\" content=\"Comedians enjoy heavy metal music with French Prez after winning YouTube bet\"></span>\\n  <span itemprop=\"image\" itemscope itemtype=\"https://schema.org/ImageObject\">\\n    <meta itemprop=\"url\" content=\"https://static.inshorts.com/inshorts/images/v1/variants/jpg/m/2021/05_may/23_sun/img_1621791162613_795.jpg?\"></meta>\\n    <meta itemprop=\"width\" content=\"864\"></meta>\\n    <meta itemprop=\"height\" content=\"483\"></meta>\\n  </span>\\n  <span itemtype=\"https://schema.org/Organization\" itemscope=\"itemscope\" itemprop=\"publisher\">\\n    <span itemprop=\"url\" content=\"https://inshorts.com/\"></span>\\n    <span itemprop=\"name\" content=\"Inshorts\"></span>\\n    <span itemprop=\"logo\" itemscope itemtype=\"https://schema.org/ImageObject\">\\n      <span itemprop=\"url\" content=\"https://assets.inshorts.com/inshorts/images/v1/variants/jpg/m/2018/11_nov/21_wed/img_1542823931298_497.jpg\"></span>\\n      <meta itemprop=\"width\" content=\"400\"></meta>\\n      <meta itemprop=\"height\" content=\"60\"></meta>\\n    </span>\\n  </span>\\n  <div class=\"news-card-image\" style= \"background-image: url(\\'https://static.inshorts.com/inshorts/images/v1/variants/jpg/m/2021/05_may/23_sun/img_1621791162613_795.jpg?\\')\">\\n  </div>\\n  <div class=\"news-card-title news-right-box\">\\n    <a class=\"clickable\" onclick=\"track_GA_Mixpanel({\\'hitType\\': \\'event\\', \\'category\\': \\'TitleOfNews\\', \\'action\\': \\'clicked\\', \\'label\\': \\'Comedians%20enjoy%20heavy%20metal%20music%20with%20French%20Prez%20after%20winning%20YouTube%20bet)\\' });\"  style=\"color:#44444d!important\" href=\"/en/news/comedians-enjoy-heavy-metal-music-with-french-prez-after-winning-youtube-bet-1621791407353\">\\n      <span itemprop=\"headline\">Comedians enjoy heavy metal music with French Prez after winning YouTube bet</span>\\n    </a>\\n    <div class=\"news-card-author-time news-card-author-time-in-title\">\\n      <a href=\"/prev/en/news/comedians-enjoy-heavy-metal-music-with-french-prez-after-winning-youtube-bet-1621791407353\"><span class=\"short\">short</span></a> by <span class=\"author\">Pragya Swastik</span> / \\n      <span class=\"time\" itemprop=\"datePublished\" content=\"2021-05-23T17:36:47.000Z\">11:06 pm</span> on <span clas=\"date\">23 May 2021,Sunday</span>\\n    </div>\\n  </div>\\n  <div class=\"news-card-content news-right-box\">\\n    <div itemprop=\"articleBody\">Comedians McFly and Carlito enjoyed a heavy metal gig with French President Emmanuel Macron in the gardens of the presidential palace after winning a bet. Macron had pledged in February to welcome the duo to the presidential palace if they succeeded in garnering more than 10 million views on a video. The video promoted social distancing measures during the pandemic.</div>\\n    <div class=\"news-card-author-time news-card-author-time-in-content\">\\n      <a href=\"/prev/en/news/comedians-enjoy-heavy-metal-music-with-french-prez-after-winning-youtube-bet-1621791407353\"><span class=\"short\">short</span></a> by <span class=\"author\">Pragya Swastik</span> / \\n      <span class=\"time\" itemprop=\"dateModified\" content=\"2021-05-23T17:36:47.000Z\" >11:06 pm</span> on <span class=\"date\">23 May</span>\\n    </div>\\n  </div>\\n  \\n    <div class=\"news-card-footer news-right-box\">\\n      <div class=\"read-more\">read more at <a class=\"source\" onclick=\"track_GA_Mixpanel({\\'hitType\\': \\'event\\', \\'category\\': \\'ReadMore\\', \\'action\\': \\'clicked\\', \\'label\\': \\'Hindustan%20Times\\' });\" target=\"_blank\" href=\"https://tech.hindustantimes.com/amp/tech/news/comedians-win-youtube-video-bet-rock-french-president-s-palace-with-heavy-metal-music-71621785153516.html?utm_campaign=fullarticle&amp;utm_medium=referral&amp;utm_source=inshorts \">Hindustan Times</a></div>\\n    </div>\\n  \\n\\n</div>\\n\\n  \\n</div>\\n\\n\\n\\n\\n<div class=\"\">\\n<div class=\"news-card z-depth-1\" itemscope itemtype=\"http://schema.org/NewsArticle\">\\n  <span content=\"\" itemscope itemprop=\"mainEntityOfPage\" itemType=\"https://schema.org/WebPage\" itemid=\"https://inshorts.com/en/news/jack-ma-to-step-down-as-president-of-his-business-school-report-1621869058687\"></span>\\n  <span itemtype=\"https://schema.org/Person\" itemscope=\"itemscope\" itemprop=\"author\">\\n    <span itemprop=\"name\" content=\"Krishna Raj\"></span>\\n  </span>\\n  <span itemprop=\"description\" content=\"Jack Ma to step down as President of his business school: Report\"></span>\\n  <span itemprop=\"image\" itemscope itemtype=\"https://schema.org/ImageObject\">\\n    <meta itemprop=\"url\" content=\"https://static.inshorts.com/inshorts/images/v1/variants/jpg/m/2021/05_may/24_mon/img_1621864424566_158.jpg?\"></meta>\\n    <meta itemprop=\"width\" content=\"864\"></meta>\\n    <meta itemprop=\"height\" content=\"483\"></meta>\\n  </span>\\n  <span itemtype=\"https://schema.org/Organization\" itemscope=\"itemscope\" itemprop=\"publisher\">\\n    <span itemprop=\"url\" content=\"https://inshorts.com/\"></span>\\n    <span itemprop=\"name\" content=\"Inshorts\"></span>\\n    <span itemprop=\"logo\" itemscope itemtype=\"https://schema.org/ImageObject\">\\n      <span itemprop=\"url\" content=\"https://assets.inshorts.com/inshorts/images/v1/variants/jpg/m/2018/11_nov/21_wed/img_1542823931298_497.jpg\"></span>\\n      <meta itemprop=\"width\" content=\"400\"></meta>\\n      <meta itemprop=\"height\" content=\"60\"></meta>\\n    </span>\\n  </span>\\n  <div class=\"news-card-image\" style= \"background-image: url(\\'https://static.inshorts.com/inshorts/images/v1/variants/jpg/m/2021/05_may/24_mon/img_1621864424566_158.jpg?\\')\">\\n  </div>\\n  <div class=\"news-card-title news-right-box\">\\n    <a class=\"clickable\" onclick=\"track_GA_Mixpanel({\\'hitType\\': \\'event\\', \\'category\\': \\'TitleOfNews\\', \\'action\\': \\'clicked\\', \\'label\\': \\'Jack%20Ma%20to%20step%20down%20as%20President%20of%20his%20business%20school%3A%20Report)\\' });\"  style=\"color:#44444d!important\" href=\"/en/news/jack-ma-to-step-down-as-president-of-his-business-school-report-1621869058687\">\\n      <span itemprop=\"headline\">Jack Ma to step down as President of his business school: Report</span>\\n    </a>\\n    <div class=\"news-card-author-time news-card-author-time-in-title\">\\n      <a href=\"/prev/en/news/jack-ma-to-step-down-as-president-of-his-business-school-report-1621869058687\"><span class=\"short\">short</span></a> by <span class=\"author\">Krishna Raj</span> / \\n      <span class=\"time\" itemprop=\"datePublished\" content=\"2021-05-24T15:10:58.000Z\">08:40 pm</span> on <span clas=\"date\">24 May 2021,Monday</span>\\n    </div>\\n  </div>\\n  <div class=\"news-card-content news-right-box\">\\n    <div itemprop=\"articleBody\">Alibaba Group&#39;s Co-founder Jack Ma is going to step down as President of his elite business school, Financial Times reported. Hupan University, which was founded by Ma in 2015 to train entrepreneurs, has changed its name and will restructure its curriculum, the report said citing sources. Ma will not hold any high-level title at the restructured organisation, the report added.</div>\\n    <div class=\"news-card-author-time news-card-author-time-in-content\">\\n      <a href=\"/prev/en/news/jack-ma-to-step-down-as-president-of-his-business-school-report-1621869058687\"><span class=\"short\">short</span></a> by <span class=\"author\">Krishna Raj</span> / \\n      <span class=\"time\" itemprop=\"dateModified\" content=\"2021-05-24T15:10:58.000Z\" >08:40 pm</span> on <span class=\"date\">24 May</span>\\n    </div>\\n  </div>\\n  \\n    <div class=\"news-card-footer news-right-box\">\\n      <div class=\"read-more\">read more at <a class=\"source\" onclick=\"track_GA_Mixpanel({\\'hitType\\': \\'event\\', \\'category\\': \\'ReadMore\\', \\'action\\': \\'clicked\\', \\'label\\': \\'Times%20Now\\' });\" target=\"_blank\" href=\"https://www.timesnownews.com/amp/business-economy/world-news/article/jack-ma-to-step-down-as-president-of-his-business-school/761187?utm_campaign=fullarticle&amp;utm_medium=referral&amp;utm_source=inshorts \">Times Now</a></div>\\n    </div>\\n  \\n\\n</div>\\n\\n  \\n</div>\\n\\n\\n\\n\\n<div class=\"\">\\n<div class=\"news-card z-depth-1\" itemscope itemtype=\"http://schema.org/NewsArticle\">\\n  <span content=\"\" itemscope itemprop=\"mainEntityOfPage\" itemType=\"https://schema.org/WebPage\" itemid=\"https://inshorts.com/en/news/delhi-police-carries-out-raids-at-twitter-indias-offices-in-delhi-ncr-1621870513172\"></span>\\n  <span itemtype=\"https://schema.org/Person\" itemscope=\"itemscope\" itemprop=\"author\">\\n    <span itemprop=\"name\" content=\"Sakshita Khosla\"></span>\\n  </span>\\n  <span itemprop=\"description\" content=\"Delhi Police carries out raids at Twitter India&#39;s offices in Delhi &amp; NCR\"></span>\\n  <span itemprop=\"image\" itemscope itemtype=\"https://schema.org/ImageObject\">\\n    <meta itemprop=\"url\" content=\"https://static.inshorts.com/inshorts/images/v1/variants/jpg/m/2021/05_may/24_mon/img_1621868063098_479.jpg?\"></meta>\\n    <meta itemprop=\"width\" content=\"864\"></meta>\\n    <meta itemprop=\"height\" content=\"483\"></meta>\\n  </span>\\n  <span itemtype=\"https://schema.org/Organization\" itemscope=\"itemscope\" itemprop=\"publisher\">\\n    <span itemprop=\"url\" content=\"https://inshorts.com/\"></span>\\n    <span itemprop=\"name\" content=\"Inshorts\"></span>\\n    <span itemprop=\"logo\" itemscope itemtype=\"https://schema.org/ImageObject\">\\n      <span itemprop=\"url\" content=\"https://assets.inshorts.com/inshorts/images/v1/variants/jpg/m/2018/11_nov/21_wed/img_1542823931298_497.jpg\"></span>\\n      <meta itemprop=\"width\" content=\"400\"></meta>\\n      <meta itemprop=\"height\" content=\"60\"></meta>\\n    </span>\\n  </span>\\n  <div class=\"news-card-image\" style= \"background-image: url(\\'https://static.inshorts.com/inshorts/images/v1/variants/jpg/m/2021/05_may/24_mon/img_1621868063098_479.jpg?\\')\">\\n  </div>\\n  <div class=\"news-card-title news-right-box\">\\n    <a class=\"clickable\" onclick=\"track_GA_Mixpanel({\\'hitType\\': \\'event\\', \\'category\\': \\'TitleOfNews\\', \\'action\\': \\'clicked\\', \\'label\\': \\'Delhi%20Police%20carries%20out%20raids%20at%20Twitter%20India&#39;s%20offices%20in%20Delhi%20%26%20NCR)\\' });\"  style=\"color:#44444d!important\" href=\"/en/news/delhi-police-carries-out-raids-at-twitter-indias-offices-in-delhi-ncr-1621870513172\">\\n      <span itemprop=\"headline\">Delhi Police carries out raids at Twitter India&#39;s offices in Delhi &amp; NCR</span>\\n    </a>\\n    <div class=\"news-card-author-time news-card-author-time-in-title\">\\n      <a href=\"/prev/en/news/delhi-police-carries-out-raids-at-twitter-indias-offices-in-delhi-ncr-1621870513172\"><span class=\"short\">short</span></a> by <span class=\"author\">Sakshita Khosla</span> / \\n      <span class=\"time\" itemprop=\"datePublished\" content=\"2021-05-24T15:35:13.000Z\">09:05 pm</span> on <span clas=\"date\">24 May 2021,Monday</span>\\n    </div>\\n  </div>\\n  <div class=\"news-card-content news-right-box\">\\n    <div itemprop=\"articleBody\">A Delhi Police Special Cell team on Monday carried out a search at Twitter India&#39;s offices in Delhi and NCR. Police officials conducted raids at the tech giant&#39;s offices in Lado Sarai and Gurugram. Police earlier sent a notice to Twitter in connection with the &#39;manipulated media&#39; tag on BJP leader Sambit Patra&#39;s tweet on an alleged Congress &#39;toolkit&#39;.</div>\\n    <div class=\"news-card-author-time news-card-author-time-in-content\">\\n      <a href=\"/prev/en/news/delhi-police-carries-out-raids-at-twitter-indias-offices-in-delhi-ncr-1621870513172\"><span class=\"short\">short</span></a> by <span class=\"author\">Sakshita Khosla</span> / \\n      <span class=\"time\" itemprop=\"dateModified\" content=\"2021-05-24T15:35:13.000Z\" >09:05 pm</span> on <span class=\"date\">24 May</span>\\n    </div>\\n  </div>\\n  \\n    <div class=\"news-card-footer news-right-box\">\\n      <div class=\"read-more\">read more at <a class=\"source\" onclick=\"track_GA_Mixpanel({\\'hitType\\': \\'event\\', \\'category\\': \\'ReadMore\\', \\'action\\': \\'clicked\\', \\'label\\': \\'ANI\\' });\" target=\"_blank\" href=\"https://twitter.com/ANI/status/1396835009382600710?utm_campaign=fullarticle&amp;utm_medium=referral&amp;utm_source=inshorts \">ANI</a></div>\\n    </div>\\n  \\n\\n</div>\\n\\n  \\n</div>\\n\\n\\n\\n\\n<div class=\"\">\\n<div class=\"news-card z-depth-1\" itemscope itemtype=\"http://schema.org/NewsArticle\">\\n  <span content=\"\" itemscope itemprop=\"mainEntityOfPage\" itemType=\"https://schema.org/WebPage\" itemid=\"https://inshorts.com/en/news/bernard-arnault-family-beat-bezos-as-worlds-richest-with-$1862-bn-wealth-forbes-1621848505855\"></span>\\n  <span itemtype=\"https://schema.org/Person\" itemscope=\"itemscope\" itemprop=\"author\">\\n    <span itemprop=\"name\" content=\"Pragya Swastik\"></span>\\n  </span>\\n  <span itemprop=\"description\" content=\"Bernard Arnault &amp; family beat Bezos as world&#39;s richest with $186.2 bn wealth: Forbes\"></span>\\n  <span itemprop=\"image\" itemscope itemtype=\"https://schema.org/ImageObject\">\\n    <meta itemprop=\"url\" content=\"https://static.inshorts.com/inshorts/images/v1/variants/jpg/m/2021/05_may/24_mon/img_1621846628184_72.jpg?\"></meta>\\n    <meta itemprop=\"width\" content=\"864\"></meta>\\n    <meta itemprop=\"height\" content=\"483\"></meta>\\n  </span>\\n  <span itemtype=\"https://schema.org/Organization\" itemscope=\"itemscope\" itemprop=\"publisher\">\\n    <span itemprop=\"url\" content=\"https://inshorts.com/\"></span>\\n    <span itemprop=\"name\" content=\"Inshorts\"></span>\\n    <span itemprop=\"logo\" itemscope itemtype=\"https://schema.org/ImageObject\">\\n      <span itemprop=\"url\" content=\"https://assets.inshorts.com/inshorts/images/v1/variants/jpg/m/2018/11_nov/21_wed/img_1542823931298_497.jpg\"></span>\\n      <meta itemprop=\"width\" content=\"400\"></meta>\\n      <meta itemprop=\"height\" content=\"60\"></meta>\\n    </span>\\n  </span>\\n  <div class=\"news-card-image\" style= \"background-image: url(\\'https://static.inshorts.com/inshorts/images/v1/variants/jpg/m/2021/05_may/24_mon/img_1621846628184_72.jpg?\\')\">\\n  </div>\\n  <div class=\"news-card-title news-right-box\">\\n    <a class=\"clickable\" onclick=\"track_GA_Mixpanel({\\'hitType\\': \\'event\\', \\'category\\': \\'TitleOfNews\\', \\'action\\': \\'clicked\\', \\'label\\': \\'Bernard%20Arnault%20%26%20family%20beat%20Bezos%20as%20world&#39;s%20richest%20with%20%24186.2%20bn%20wealth%3A%20Forbes)\\' });\"  style=\"color:#44444d!important\" href=\"/en/news/bernard-arnault-family-beat-bezos-as-worlds-richest-with-$1862-bn-wealth-forbes-1621848505855\">\\n      <span itemprop=\"headline\">Bernard Arnault &amp; family beat Bezos as world&#39;s richest with $186.2 bn wealth: Forbes</span>\\n    </a>\\n    <div class=\"news-card-author-time news-card-author-time-in-title\">\\n      <a href=\"/prev/en/news/bernard-arnault-family-beat-bezos-as-worlds-richest-with-$1862-bn-wealth-forbes-1621848505855\"><span class=\"short\">short</span></a> by <span class=\"author\">Pragya Swastik</span> / \\n      <span class=\"time\" itemprop=\"datePublished\" content=\"2021-05-24T09:28:25.000Z\">02:58 pm</span> on <span clas=\"date\">24 May 2021,Monday</span>\\n    </div>\\n  </div>\\n  <div class=\"news-card-content news-right-box\">\\n    <div itemprop=\"articleBody\">Bernard Arnault and family, the owners of LVMH Mo\\xc3\\xabt Hennessy Louis Vuitton, have beat Amazon Founder Jeff Bezos to become the world&#39;s richest, according to Forbes. It pegged Bernard Arnault and his family&#39;s wealth at $186.2 billion compared to Jeff Bezos&#39; $186 billion wealth. Arnault spent $538 million in recent months to acquire shares of his own French label brand. </div>\\n    <div class=\"news-card-author-time news-card-author-time-in-content\">\\n      <a href=\"/prev/en/news/bernard-arnault-family-beat-bezos-as-worlds-richest-with-$1862-bn-wealth-forbes-1621848505855\"><span class=\"short\">short</span></a> by <span class=\"author\">Pragya Swastik</span> / \\n      <span class=\"time\" itemprop=\"dateModified\" content=\"2021-05-24T09:28:25.000Z\" >02:58 pm</span> on <span class=\"date\">24 May</span>\\n    </div>\\n  </div>\\n  \\n    <div class=\"news-card-footer news-right-box\">\\n      <div class=\"read-more\">read more at <a class=\"source\" onclick=\"track_GA_Mixpanel({\\'hitType\\': \\'event\\', \\'category\\': \\'ReadMore\\', \\'action\\': \\'clicked\\', \\'label\\': \\'Business%20Insider%20India\\' });\" target=\"_blank\" href=\"https://www.businessinsider.in/international/news/bernard-arnault-and-family-beat-jeff-bezoz-become-the-richest-in-the-world-as-per-forbes-real-time/amp_articleshow/82904356.cms?utm_campaign=fullarticle&amp;utm_medium=referral&amp;utm_source=inshorts \">Business Insider India</a></div>\\n    </div>\\n  \\n\\n</div>\\n\\n  \\n</div>\\n\\n\\n\\n\\n<div class=\"\">\\n<div class=\"news-card z-depth-1\" itemscope itemtype=\"http://schema.org/NewsArticle\">\\n  <span content=\"\" itemscope itemprop=\"mainEntityOfPage\" itemType=\"https://schema.org/WebPage\" itemid=\"https://inshorts.com/en/news/kerala-student-designs-masks-with-mics-to-ease-communication-1621835556571\"></span>\\n  <span itemtype=\"https://schema.org/Person\" itemscope=\"itemscope\" itemprop=\"author\">\\n    <span itemprop=\"name\" content=\"Medhaa Gupta\"></span>\\n  </span>\\n  <span itemprop=\"description\" content=\"Kerala student designs &#39;masks with mics&#39; to ease communication\"></span>\\n  <span itemprop=\"image\" itemscope itemtype=\"https://schema.org/ImageObject\">\\n    <meta itemprop=\"url\" content=\"https://static.inshorts.com/inshorts/images/v1/variants/jpg/m/2021/05_may/24_mon/img_1621833132544_884.jpg?\"></meta>\\n    <meta itemprop=\"width\" content=\"864\"></meta>\\n    <meta itemprop=\"height\" content=\"483\"></meta>\\n  </span>\\n  <span itemtype=\"https://schema.org/Organization\" itemscope=\"itemscope\" itemprop=\"publisher\">\\n    <span itemprop=\"url\" content=\"https://inshorts.com/\"></span>\\n    <span itemprop=\"name\" content=\"Inshorts\"></span>\\n    <span itemprop=\"logo\" itemscope itemtype=\"https://schema.org/ImageObject\">\\n      <span itemprop=\"url\" content=\"https://assets.inshorts.com/inshorts/images/v1/variants/jpg/m/2018/11_nov/21_wed/img_1542823931298_497.jpg\"></span>\\n      <meta itemprop=\"width\" content=\"400\"></meta>\\n      <meta itemprop=\"height\" content=\"60\"></meta>\\n    </span>\\n  </span>\\n  <div class=\"news-card-image\" style= \"background-image: url(\\'https://static.inshorts.com/inshorts/images/v1/variants/jpg/m/2021/05_may/24_mon/img_1621833132544_884.jpg?\\')\">\\n  </div>\\n  <div class=\"news-card-title news-right-box\">\\n    <a class=\"clickable\" onclick=\"track_GA_Mixpanel({\\'hitType\\': \\'event\\', \\'category\\': \\'TitleOfNews\\', \\'action\\': \\'clicked\\', \\'label\\': \\'Kerala%20student%20designs%20&#39;masks%20with%20mics&#39;%20to%20ease%20communication)\\' });\"  style=\"color:#44444d!important\" href=\"/en/news/kerala-student-designs-masks-with-mics-to-ease-communication-1621835556571\">\\n      <span itemprop=\"headline\">Kerala student designs &#39;masks with mics&#39; to ease communication</span>\\n    </a>\\n    <div class=\"news-card-author-time news-card-author-time-in-title\">\\n      <a href=\"/prev/en/news/kerala-student-designs-masks-with-mics-to-ease-communication-1621835556571\"><span class=\"short\">short</span></a> by <span class=\"author\">Medhaa Gupta</span> / \\n      <span class=\"time\" itemprop=\"datePublished\" content=\"2021-05-24T05:52:36.000Z\">11:22 am</span> on <span clas=\"date\">24 May 2021,Monday</span>\\n    </div>\\n  </div>\\n  <div class=\"news-card-content news-right-box\">\\n    <div itemprop=\"articleBody\">A first-year student from Government Engineering College in Kerala&#39;s Thrissur has designed &#34;masks with mics&#34; to help health workers communicate with ease amid coronavirus pandemic. Kevin Jacob said that he came up with the idea after seeing his parents, who&#39;re doctors, struggling to communicate with patients. The gadget can be used for four to six hours on a 30-minute charge.</div>\\n    <div class=\"news-card-author-time news-card-author-time-in-content\">\\n      <a href=\"/prev/en/news/kerala-student-designs-masks-with-mics-to-ease-communication-1621835556571\"><span class=\"short\">short</span></a> by <span class=\"author\">Medhaa Gupta</span> / \\n      <span class=\"time\" itemprop=\"dateModified\" content=\"2021-05-24T05:52:36.000Z\" >11:22 am</span> on <span class=\"date\">24 May</span>\\n    </div>\\n  </div>\\n  \\n    <div class=\"news-card-footer news-right-box\">\\n      <div class=\"read-more\">read more at <a class=\"source\" onclick=\"track_GA_Mixpanel({\\'hitType\\': \\'event\\', \\'category\\': \\'ReadMore\\', \\'action\\': \\'clicked\\', \\'label\\': \\'ANI%20News\\' });\" target=\"_blank\" href=\"https://www.aninews.in/news/national/general-news/thrissur-student-designs-masks-with-mics-to-ease-communication-amid-covid20210523221440/?utm_campaign=fullarticle&amp;utm_medium=referral&amp;utm_source=inshorts \">ANI News</a></div>\\n    </div>\\n  \\n\\n</div>\\n\\n  \\n</div>\\n\\n\\n\\n\\n  \\n    <div id=\\'div-gpt-ad-1536748319959-siftcrm3-1\\' style=\\'height:250px; width:900px; margin: auto; margin-bottom: 2%;\\'>\\n      <script>\\n        googletag.cmd.push(function() { \\n          //News banner for desktop\\n          var slotIdWeb = \\'div-gpt-ad-1536748319959-siftcrm3-1\\';\\n          var slot = googletag.defineSlot(\\'/142919096/inshorts_website_900x250\\', [900, 250], slotIdWeb)\\n          .addService(googletag.pubads())\\n          .setCollapseEmptyDiv(true,true);\\n\\n          googletag.display(\\'div-gpt-ad-1536748319959-siftcrm3-1\\');\\n          googletag.pubads().refresh([slot]);\\n        });\\n      </script>\\n    </div>\\n  \\n\\n<div class=\"\">\\n<div class=\"news-card z-depth-1\" itemscope itemtype=\"http://schema.org/NewsArticle\">\\n  <span content=\"\" itemscope itemprop=\"mainEntityOfPage\" itemType=\"https://schema.org/WebPage\" itemid=\"https://inshorts.com/en/news/norway-tesla-users-to-get-$16k-each-for-charging-speed-issue-report-1621917073117\"></span>\\n  <span itemtype=\"https://schema.org/Person\" itemscope=\"itemscope\" itemprop=\"author\">\\n    <span itemprop=\"name\" content=\"Aishwarya Awasthi\"></span>\\n  </span>\\n  <span itemprop=\"description\" content=\"Norway Tesla users to get $16k each for charging speed issue: Report\"></span>\\n  <span itemprop=\"image\" itemscope itemtype=\"https://schema.org/ImageObject\">\\n    <meta itemprop=\"url\" content=\"https://static.inshorts.com/inshorts/images/v1/variants/jpg/m/2021/05_may/24_mon/img_1621878185075_531.jpg?\"></meta>\\n    <meta itemprop=\"width\" content=\"864\"></meta>\\n    <meta itemprop=\"height\" content=\"483\"></meta>\\n  </span>\\n  <span itemtype=\"https://schema.org/Organization\" itemscope=\"itemscope\" itemprop=\"publisher\">\\n    <span itemprop=\"url\" content=\"https://inshorts.com/\"></span>\\n    <span itemprop=\"name\" content=\"Inshorts\"></span>\\n    <span itemprop=\"logo\" itemscope itemtype=\"https://schema.org/ImageObject\">\\n      <span itemprop=\"url\" content=\"https://assets.inshorts.com/inshorts/images/v1/variants/jpg/m/2018/11_nov/21_wed/img_1542823931298_497.jpg\"></span>\\n      <meta itemprop=\"width\" content=\"400\"></meta>\\n      <meta itemprop=\"height\" content=\"60\"></meta>\\n    </span>\\n  </span>\\n  <div class=\"news-card-image\" style= \"background-image: url(\\'https://static.inshorts.com/inshorts/images/v1/variants/jpg/m/2021/05_may/24_mon/img_1621878185075_531.jpg?\\')\">\\n  </div>\\n  <div class=\"news-card-title news-right-box\">\\n    <a class=\"clickable\" onclick=\"track_GA_Mixpanel({\\'hitType\\': \\'event\\', \\'category\\': \\'TitleOfNews\\', \\'action\\': \\'clicked\\', \\'label\\': \\'Norway%20Tesla%20users%20to%20get%20%2416k%20each%20for%20charging%20speed%20issue%3A%20Report)\\' });\"  style=\"color:#44444d!important\" href=\"/en/news/norway-tesla-users-to-get-$16k-each-for-charging-speed-issue-report-1621917073117\">\\n      <span itemprop=\"headline\">Norway Tesla users to get $16k each for charging speed issue: Report</span>\\n    </a>\\n    <div class=\"news-card-author-time news-card-author-time-in-title\">\\n      <a href=\"/prev/en/news/norway-tesla-users-to-get-$16k-each-for-charging-speed-issue-report-1621917073117\"><span class=\"short\">short</span></a> by <span class=\"author\">Aishwarya Awasthi</span> / \\n      <span class=\"time\" itemprop=\"datePublished\" content=\"2021-05-25T04:31:13.000Z\">10:01 am</span> on <span clas=\"date\">25 May 2021,Tuesday</span>\\n    </div>\\n  </div>\\n  <div class=\"news-card-content news-right-box\">\\n    <div itemprop=\"articleBody\">Tesla has been found guilty of throttling charging speed and battery capacity through a software update in Norway, Nettavisen reported. It has been ordered to pay $16,000 to thousands of users who have been affected by the issue. A 2019 software update was found to have affected the battery life in Tesla Model S vehicles manufactured between 2013 and 2015.</div>\\n    <div class=\"news-card-author-time news-card-author-time-in-content\">\\n      <a href=\"/prev/en/news/norway-tesla-users-to-get-$16k-each-for-charging-speed-issue-report-1621917073117\"><span class=\"short\">short</span></a> by <span class=\"author\">Aishwarya Awasthi</span> / \\n      <span class=\"time\" itemprop=\"dateModified\" content=\"2021-05-25T04:31:13.000Z\" >10:01 am</span> on <span class=\"date\">25 May</span>\\n    </div>\\n  </div>\\n  \\n    <div class=\"news-card-footer news-right-box\">\\n      <div class=\"read-more\">read more at <a class=\"source\" onclick=\"track_GA_Mixpanel({\\'hitType\\': \\'event\\', \\'category\\': \\'ReadMore\\', \\'action\\': \\'clicked\\', \\'label\\': \\'Hindustan%20Times\\' });\" target=\"_blank\" href=\"https://auto.hindustantimes.com/auto/cars/tesla-now-in-trouble-in-norway-may-have-to-pay-thousands-in-fine/amp-41621855777377.html?utm_campaign=fullarticle&amp;utm_medium=referral&amp;utm_source=inshorts \">Hindustan Times</a></div>\\n    </div>\\n  \\n\\n</div>\\n\\n  \\n</div>\\n\\n\\n\\n\\n<div class=\"\">\\n<div class=\"news-card z-depth-1\" itemscope itemtype=\"http://schema.org/NewsArticle\">\\n  <span content=\"\" itemscope itemprop=\"mainEntityOfPage\" itemType=\"https://schema.org/WebPage\" itemid=\"https://inshorts.com/en/news/google-gets-1-day-to-remove-prohibited-content-in-russia-1621870877186\"></span>\\n  <span itemtype=\"https://schema.org/Person\" itemscope=\"itemscope\" itemprop=\"author\">\\n    <span itemprop=\"name\" content=\"Aishwarya Awasthi\"></span>\\n  </span>\\n  <span itemprop=\"description\" content=\"Google gets 1 day to remove prohibited content in Russia\"></span>\\n  <span itemprop=\"image\" itemscope itemtype=\"https://schema.org/ImageObject\">\\n    <meta itemprop=\"url\" content=\"https://static.inshorts.com/inshorts/images/v1/variants/jpg/m/2021/05_may/24_mon/img_1621869947520_824.jpg?\"></meta>\\n    <meta itemprop=\"width\" content=\"864\"></meta>\\n    <meta itemprop=\"height\" content=\"483\"></meta>\\n  </span>\\n  <span itemtype=\"https://schema.org/Organization\" itemscope=\"itemscope\" itemprop=\"publisher\">\\n    <span itemprop=\"url\" content=\"https://inshorts.com/\"></span>\\n    <span itemprop=\"name\" content=\"Inshorts\"></span>\\n    <span itemprop=\"logo\" itemscope itemtype=\"https://schema.org/ImageObject\">\\n      <span itemprop=\"url\" content=\"https://assets.inshorts.com/inshorts/images/v1/variants/jpg/m/2018/11_nov/21_wed/img_1542823931298_497.jpg\"></span>\\n      <meta itemprop=\"width\" content=\"400\"></meta>\\n      <meta itemprop=\"height\" content=\"60\"></meta>\\n    </span>\\n  </span>\\n  <div class=\"news-card-image\" style= \"background-image: url(\\'https://static.inshorts.com/inshorts/images/v1/variants/jpg/m/2021/05_may/24_mon/img_1621869947520_824.jpg?\\')\">\\n  </div>\\n  <div class=\"news-card-title news-right-box\">\\n    <a class=\"clickable\" onclick=\"track_GA_Mixpanel({\\'hitType\\': \\'event\\', \\'category\\': \\'TitleOfNews\\', \\'action\\': \\'clicked\\', \\'label\\': \\'Google%20gets%201%20day%20to%20remove%20prohibited%20content%20in%20Russia)\\' });\"  style=\"color:#44444d!important\" href=\"/en/news/google-gets-1-day-to-remove-prohibited-content-in-russia-1621870877186\">\\n      <span itemprop=\"headline\">Google gets 1 day to remove prohibited content in Russia</span>\\n    </a>\\n    <div class=\"news-card-author-time news-card-author-time-in-title\">\\n      <a href=\"/prev/en/news/google-gets-1-day-to-remove-prohibited-content-in-russia-1621870877186\"><span class=\"short\">short</span></a> by <span class=\"author\">Aishwarya Awasthi</span> / \\n      <span class=\"time\" itemprop=\"datePublished\" content=\"2021-05-24T15:41:17.000Z\">09:11 pm</span> on <span clas=\"date\">24 May 2021,Monday</span>\\n    </div>\\n  </div>\\n  <div class=\"news-card-content news-right-box\">\\n    <div itemprop=\"articleBody\">Russia&#39;s communications watchdog has given Google 24 hours to delete prohibited content or be fined and possibly face a slow down in its traffic eventually. The agency said it has sent over 26,000 calls to Google to remove illegal information, including videos containing information on drugs or violence. Earlier, Russia had slowed down Twitter&#39;s traffic in the country.</div>\\n    <div class=\"news-card-author-time news-card-author-time-in-content\">\\n      <a href=\"/prev/en/news/google-gets-1-day-to-remove-prohibited-content-in-russia-1621870877186\"><span class=\"short\">short</span></a> by <span class=\"author\">Aishwarya Awasthi</span> / \\n      <span class=\"time\" itemprop=\"dateModified\" content=\"2021-05-24T15:41:17.000Z\" >09:11 pm</span> on <span class=\"date\">24 May</span>\\n    </div>\\n  </div>\\n  \\n    <div class=\"news-card-footer news-right-box\">\\n      <div class=\"read-more\">read more at <a class=\"source\" onclick=\"track_GA_Mixpanel({\\'hitType\\': \\'event\\', \\'category\\': \\'ReadMore\\', \\'action\\': \\'clicked\\', \\'label\\': \\'Reuters\\' });\" target=\"_blank\" href=\"https://www.reuters.com/technology/russia-gives-google-one-day-delete-banned-content-threatens-slowdown-2021-05-24/?utm_campaign=fullarticle&amp;utm_medium=referral&amp;utm_source=inshorts \">Reuters</a></div>\\n    </div>\\n  \\n\\n</div>\\n\\n  \\n</div>\\n\\n\\n\\n\\n<div class=\"\">\\n<div class=\"news-card z-depth-1\" itemscope itemtype=\"http://schema.org/NewsArticle\">\\n  <span content=\"\" itemscope itemprop=\"mainEntityOfPage\" itemType=\"https://schema.org/WebPage\" itemid=\"https://inshorts.com/en/news/cryptocurrencies-are-danger-to-public-bank-of-england-governor-1621909800455\"></span>\\n  <span itemtype=\"https://schema.org/Person\" itemscope=\"itemscope\" itemprop=\"author\">\\n    <span itemprop=\"name\" content=\"Aishwarya Awasthi\"></span>\\n  </span>\\n  <span itemprop=\"description\" content=\"Cryptocurrencies are danger to public: Bank of England Governor\"></span>\\n  <span itemprop=\"image\" itemscope itemtype=\"https://schema.org/ImageObject\">\\n    <meta itemprop=\"url\" content=\"https://static.inshorts.com/inshorts/images/v1/variants/jpg/m/2021/05_may/24_mon/img_1621876089534_566.jpg?\"></meta>\\n    <meta itemprop=\"width\" content=\"864\"></meta>\\n    <meta itemprop=\"height\" content=\"483\"></meta>\\n  </span>\\n  <span itemtype=\"https://schema.org/Organization\" itemscope=\"itemscope\" itemprop=\"publisher\">\\n    <span itemprop=\"url\" content=\"https://inshorts.com/\"></span>\\n    <span itemprop=\"name\" content=\"Inshorts\"></span>\\n    <span itemprop=\"logo\" itemscope itemtype=\"https://schema.org/ImageObject\">\\n      <span itemprop=\"url\" content=\"https://assets.inshorts.com/inshorts/images/v1/variants/jpg/m/2018/11_nov/21_wed/img_1542823931298_497.jpg\"></span>\\n      <meta itemprop=\"width\" content=\"400\"></meta>\\n      <meta itemprop=\"height\" content=\"60\"></meta>\\n    </span>\\n  </span>\\n  <div class=\"news-card-image\" style= \"background-image: url(\\'https://static.inshorts.com/inshorts/images/v1/variants/jpg/m/2021/05_may/24_mon/img_1621876089534_566.jpg?\\')\">\\n  </div>\\n  <div class=\"news-card-title news-right-box\">\\n    <a class=\"clickable\" onclick=\"track_GA_Mixpanel({\\'hitType\\': \\'event\\', \\'category\\': \\'TitleOfNews\\', \\'action\\': \\'clicked\\', \\'label\\': \\'Cryptocurrencies%20are%20danger%20to%20public%3A%20Bank%20of%20England%20Governor)\\' });\"  style=\"color:#44444d!important\" href=\"/en/news/cryptocurrencies-are-danger-to-public-bank-of-england-governor-1621909800455\">\\n      <span itemprop=\"headline\">Cryptocurrencies are danger to public: Bank of England Governor</span>\\n    </a>\\n    <div class=\"news-card-author-time news-card-author-time-in-title\">\\n      <a href=\"/prev/en/news/cryptocurrencies-are-danger-to-public-bank-of-england-governor-1621909800455\"><span class=\"short\">short</span></a> by <span class=\"author\">Aishwarya Awasthi</span> / \\n      <span class=\"time\" itemprop=\"datePublished\" content=\"2021-05-25T02:30:00.000Z\">08:00 am</span> on <span clas=\"date\">25 May 2021,Tuesday</span>\\n    </div>\\n  </div>\\n  <div class=\"news-card-content news-right-box\">\\n    <div itemprop=\"articleBody\">Bank of England Governor Andrew Bailey has said cryptocurrencies and similar assets are a danger to the public. &#34;I&#39;m sceptical about crypto-assets, frankly, because they&#39;re dangerous and there&#39;s a huge enthusiasm out there,&#34; he told the British parliament&#39;s Treasury Committee. Earlier this month, Bailey had said people should only buy cryptocurrencies if they are ready to lose all their money.</div>\\n    <div class=\"news-card-author-time news-card-author-time-in-content\">\\n      <a href=\"/prev/en/news/cryptocurrencies-are-danger-to-public-bank-of-england-governor-1621909800455\"><span class=\"short\">short</span></a> by <span class=\"author\">Aishwarya Awasthi</span> / \\n      <span class=\"time\" itemprop=\"dateModified\" content=\"2021-05-25T02:30:00.000Z\" >08:00 am</span> on <span class=\"date\">25 May</span>\\n    </div>\\n  </div>\\n  \\n    <div class=\"news-card-footer news-right-box\">\\n      <div class=\"read-more\">read more at <a class=\"source\" onclick=\"track_GA_Mixpanel({\\'hitType\\': \\'event\\', \\'category\\': \\'ReadMore\\', \\'action\\': \\'clicked\\', \\'label\\': \\'Reuters\\' });\" target=\"_blank\" href=\"https://www.reuters.com/technology/bank-englands-bailey-calls-crypto-currencies-dangerous-2021-05-24/?utm_campaign=fullarticle&amp;utm_medium=referral&amp;utm_source=inshorts \">Reuters</a></div>\\n    </div>\\n  \\n\\n</div>\\n\\n  \\n</div>\\n\\n\\n\\n\\n<div class=\"\">\\n<div class=\"news-card z-depth-1\" itemscope itemtype=\"http://schema.org/NewsArticle\">\\n  <span content=\"\" itemscope itemprop=\"mainEntityOfPage\" itemType=\"https://schema.org/WebPage\" itemid=\"https://inshorts.com/en/news/i-dont-sell-crypto-i-use-it-to-buy-companies-binance-ceo-1621789720879\"></span>\\n  <span itemtype=\"https://schema.org/Person\" itemscope=\"itemscope\" itemprop=\"author\">\\n    <span itemprop=\"name\" content=\"Hiral Goyal\"></span>\\n  </span>\\n  <span itemprop=\"description\" content=\"I don&#39;t sell crypto, I use it to buy companies: Binance CEO\"></span>\\n  <span itemprop=\"image\" itemscope itemtype=\"https://schema.org/ImageObject\">\\n    <meta itemprop=\"url\" content=\"https://static.inshorts.com/inshorts/images/v1/variants/jpg/m/2021/05_may/23_sun/img_1621787357386_639.jpg?\"></meta>\\n    <meta itemprop=\"width\" content=\"864\"></meta>\\n    <meta itemprop=\"height\" content=\"483\"></meta>\\n  </span>\\n  <span itemtype=\"https://schema.org/Organization\" itemscope=\"itemscope\" itemprop=\"publisher\">\\n    <span itemprop=\"url\" content=\"https://inshorts.com/\"></span>\\n    <span itemprop=\"name\" content=\"Inshorts\"></span>\\n    <span itemprop=\"logo\" itemscope itemtype=\"https://schema.org/ImageObject\">\\n      <span itemprop=\"url\" content=\"https://assets.inshorts.com/inshorts/images/v1/variants/jpg/m/2018/11_nov/21_wed/img_1542823931298_497.jpg\"></span>\\n      <meta itemprop=\"width\" content=\"400\"></meta>\\n      <meta itemprop=\"height\" content=\"60\"></meta>\\n    </span>\\n  </span>\\n  <div class=\"news-card-image\" style= \"background-image: url(\\'https://static.inshorts.com/inshorts/images/v1/variants/jpg/m/2021/05_may/23_sun/img_1621787357386_639.jpg?\\')\">\\n  </div>\\n  <div class=\"news-card-title news-right-box\">\\n    <a class=\"clickable\" onclick=\"track_GA_Mixpanel({\\'hitType\\': \\'event\\', \\'category\\': \\'TitleOfNews\\', \\'action\\': \\'clicked\\', \\'label\\': \\'I%20don&#39;t%20sell%20crypto%2C%20I%20use%20it%20to%20buy%20companies%3A%20Binance%20CEO)\\' });\"  style=\"color:#44444d!important\" href=\"/en/news/i-dont-sell-crypto-i-use-it-to-buy-companies-binance-ceo-1621789720879\">\\n      <span itemprop=\"headline\">I don&#39;t sell crypto, I use it to buy companies: Binance CEO</span>\\n    </a>\\n    <div class=\"news-card-author-time news-card-author-time-in-title\">\\n      <a href=\"/prev/en/news/i-dont-sell-crypto-i-use-it-to-buy-companies-binance-ceo-1621789720879\"><span class=\"short\">short</span></a> by <span class=\"author\">Hiral Goyal</span> / \\n      <span class=\"time\" itemprop=\"datePublished\" content=\"2021-05-23T17:08:40.000Z\">10:38 pm</span> on <span clas=\"date\">23 May 2021,Sunday</span>\\n    </div>\\n  </div>\\n  <div class=\"news-card-content news-right-box\">\\n    <div itemprop=\"articleBody\">Cryptocurrency exchange Binance&#39;s Founder and CEO Changpeng Zhao took to Twitter to say that he has not sold a single cryptocurrency in the last few days or months and has no plans to do so in the future either. &#34;I don&#39;t &#39;sell&#39; cryptocurrency. I do use cryptocurrency to buy things, from groceries to companies, except fiat,&#34; Zhao added.</div>\\n    <div class=\"news-card-author-time news-card-author-time-in-content\">\\n      <a href=\"/prev/en/news/i-dont-sell-crypto-i-use-it-to-buy-companies-binance-ceo-1621789720879\"><span class=\"short\">short</span></a> by <span class=\"author\">Hiral Goyal</span> / \\n      <span class=\"time\" itemprop=\"dateModified\" content=\"2021-05-23T17:08:40.000Z\" >10:38 pm</span> on <span class=\"date\">23 May</span>\\n    </div>\\n  </div>\\n  \\n    <div class=\"news-card-footer news-right-box\">\\n      <div class=\"read-more\">read more at <a class=\"source\" onclick=\"track_GA_Mixpanel({\\'hitType\\': \\'event\\', \\'category\\': \\'ReadMore\\', \\'action\\': \\'clicked\\', \\'label\\': \\'Twitter\\' });\" target=\"_blank\" href=\"https://twitter.com/cz_binance/status/1396496745803091976?utm_campaign=fullarticle&amp;utm_medium=referral&amp;utm_source=inshorts \">Twitter</a></div>\\n    </div>\\n  \\n\\n</div>\\n\\n  \\n</div>\\n\\n\\n\\n\\n<div class=\"\">\\n<div class=\"news-card z-depth-1\" itemscope itemtype=\"http://schema.org/NewsArticle\">\\n  <span content=\"\" itemscope itemprop=\"mainEntityOfPage\" itemType=\"https://schema.org/WebPage\" itemid=\"https://inshorts.com/en/news/good-chance-to-buy-cryptos-rich-dad-poor-dad-coauthor-on-falling-prices-1621859912330\"></span>\\n  <span itemtype=\"https://schema.org/Person\" itemscope=\"itemscope\" itemprop=\"author\">\\n    <span itemprop=\"name\" content=\"Krishna Raj\"></span>\\n  </span>\\n  <span itemprop=\"description\" content=\"Good chance to buy cryptos: &#39;Rich Dad Poor Dad&#39; co-author on falling prices\"></span>\\n  <span itemprop=\"image\" itemscope itemtype=\"https://schema.org/ImageObject\">\\n    <meta itemprop=\"url\" content=\"https://static.inshorts.com/inshorts/images/v1/variants/jpg/m/2021/05_may/24_mon/img_1621852737034_40.jpg?\"></meta>\\n    <meta itemprop=\"width\" content=\"864\"></meta>\\n    <meta itemprop=\"height\" content=\"483\"></meta>\\n  </span>\\n  <span itemtype=\"https://schema.org/Organization\" itemscope=\"itemscope\" itemprop=\"publisher\">\\n    <span itemprop=\"url\" content=\"https://inshorts.com/\"></span>\\n    <span itemprop=\"name\" content=\"Inshorts\"></span>\\n    <span itemprop=\"logo\" itemscope itemtype=\"https://schema.org/ImageObject\">\\n      <span itemprop=\"url\" content=\"https://assets.inshorts.com/inshorts/images/v1/variants/jpg/m/2018/11_nov/21_wed/img_1542823931298_497.jpg\"></span>\\n      <meta itemprop=\"width\" content=\"400\"></meta>\\n      <meta itemprop=\"height\" content=\"60\"></meta>\\n    </span>\\n  </span>\\n  <div class=\"news-card-image\" style= \"background-image: url(\\'https://static.inshorts.com/inshorts/images/v1/variants/jpg/m/2021/05_may/24_mon/img_1621852737034_40.jpg?\\')\">\\n  </div>\\n  <div class=\"news-card-title news-right-box\">\\n    <a class=\"clickable\" onclick=\"track_GA_Mixpanel({\\'hitType\\': \\'event\\', \\'category\\': \\'TitleOfNews\\', \\'action\\': \\'clicked\\', \\'label\\': \\'Good%20chance%20to%20buy%20cryptos%3A%20&#39;Rich%20Dad%20Poor%20Dad&#39;%20co-author%20on%20falling%20prices)\\' });\"  style=\"color:#44444d!important\" href=\"/en/news/good-chance-to-buy-cryptos-rich-dad-poor-dad-coauthor-on-falling-prices-1621859912330\">\\n      <span itemprop=\"headline\">Good chance to buy cryptos: &#39;Rich Dad Poor Dad&#39; co-author on falling prices</span>\\n    </a>\\n    <div class=\"news-card-author-time news-card-author-time-in-title\">\\n      <a href=\"/prev/en/news/good-chance-to-buy-cryptos-rich-dad-poor-dad-coauthor-on-falling-prices-1621859912330\"><span class=\"short\">short</span></a> by <span class=\"author\">Krishna Raj</span> / \\n      <span class=\"time\" itemprop=\"datePublished\" content=\"2021-05-24T12:38:32.000Z\">06:08 pm</span> on <span clas=\"date\">24 May 2021,Monday</span>\\n    </div>\\n  </div>\\n  <div class=\"news-card-content news-right-box\">\\n    <div itemprop=\"articleBody\">Robert Kiyosaki, co-author of the book &#39;Rich Dad Poor Dad&#39;, has said that the fall in prices of cryptocurrencies is &#34;good news&#34; and a buying opportunity for investors. &#34;I hear &#39;I can&#39;t afford Bitcoin&#39;...Good news. Now is your chance,&#34; he wrote on Twitter. &#34;Get educated. Buy coins that outperform Bitcoin...Stop whining and take action,&#34; Kiyosaki added.</div>\\n    <div class=\"news-card-author-time news-card-author-time-in-content\">\\n      <a href=\"/prev/en/news/good-chance-to-buy-cryptos-rich-dad-poor-dad-coauthor-on-falling-prices-1621859912330\"><span class=\"short\">short</span></a> by <span class=\"author\">Krishna Raj</span> / \\n      <span class=\"time\" itemprop=\"dateModified\" content=\"2021-05-24T12:38:32.000Z\" >06:08 pm</span> on <span class=\"date\">24 May</span>\\n    </div>\\n  </div>\\n  \\n    <div class=\"news-card-footer news-right-box\">\\n      <div class=\"read-more\">read more at <a class=\"source\" onclick=\"track_GA_Mixpanel({\\'hitType\\': \\'event\\', \\'category\\': \\'ReadMore\\', \\'action\\': \\'clicked\\', \\'label\\': \\'Twitter\\' });\" target=\"_blank\" href=\"https://twitter.com/theRealKiyosaki/status/1395188626187636736?s=20&amp;utm_campaign=fullarticle&amp;utm_medium=referral&amp;utm_source=inshorts \">Twitter</a></div>\\n    </div>\\n  \\n\\n</div>\\n\\n  \\n</div>\\n\\n\\n\\n\\n<div class=\"\">\\n<div class=\"news-card z-depth-1\" itemscope itemtype=\"http://schema.org/NewsArticle\">\\n  <span content=\"\" itemscope itemprop=\"mainEntityOfPage\" itemType=\"https://schema.org/WebPage\" itemid=\"https://inshorts.com/en/news/its-risky-crypto-expert-on-owner-of-$12b-dogecoin-coming-forward-1621819835093\"></span>\\n  <span itemtype=\"https://schema.org/Person\" itemscope=\"itemscope\" itemprop=\"author\">\\n    <span itemprop=\"name\" content=\"Hiral Goyal\"></span>\\n  </span>\\n  <span itemprop=\"description\" content=\"It&#39;s risky: Crypto expert on owner of $12B Dogecoin coming forward\"></span>\\n  <span itemprop=\"image\" itemscope itemtype=\"https://schema.org/ImageObject\">\\n    <meta itemprop=\"url\" content=\"https://static.inshorts.com/inshorts/images/v1/variants/jpg/m/2021/05_may/23_sun/img_1621786611855_82.jpg?\"></meta>\\n    <meta itemprop=\"width\" content=\"864\"></meta>\\n    <meta itemprop=\"height\" content=\"483\"></meta>\\n  </span>\\n  <span itemtype=\"https://schema.org/Organization\" itemscope=\"itemscope\" itemprop=\"publisher\">\\n    <span itemprop=\"url\" content=\"https://inshorts.com/\"></span>\\n    <span itemprop=\"name\" content=\"Inshorts\"></span>\\n    <span itemprop=\"logo\" itemscope itemtype=\"https://schema.org/ImageObject\">\\n      <span itemprop=\"url\" content=\"https://assets.inshorts.com/inshorts/images/v1/variants/jpg/m/2018/11_nov/21_wed/img_1542823931298_497.jpg\"></span>\\n      <meta itemprop=\"width\" content=\"400\"></meta>\\n      <meta itemprop=\"height\" content=\"60\"></meta>\\n    </span>\\n  </span>\\n  <div class=\"news-card-image\" style= \"background-image: url(\\'https://static.inshorts.com/inshorts/images/v1/variants/jpg/m/2021/05_may/23_sun/img_1621786611855_82.jpg?\\')\">\\n  </div>\\n  <div class=\"news-card-title news-right-box\">\\n    <a class=\"clickable\" onclick=\"track_GA_Mixpanel({\\'hitType\\': \\'event\\', \\'category\\': \\'TitleOfNews\\', \\'action\\': \\'clicked\\', \\'label\\': \\'It&#39;s%20risky%3A%20Crypto%20expert%20on%20owner%20of%20%2412B%20Dogecoin%20coming%20forward)\\' });\"  style=\"color:#44444d!important\" href=\"/en/news/its-risky-crypto-expert-on-owner-of-$12b-dogecoin-coming-forward-1621819835093\">\\n      <span itemprop=\"headline\">It&#39;s risky: Crypto expert on owner of $12B Dogecoin coming forward</span>\\n    </a>\\n    <div class=\"news-card-author-time news-card-author-time-in-title\">\\n      <a href=\"/prev/en/news/its-risky-crypto-expert-on-owner-of-$12b-dogecoin-coming-forward-1621819835093\"><span class=\"short\">short</span></a> by <span class=\"author\">Hiral Goyal</span> / \\n      <span class=\"time\" itemprop=\"datePublished\" content=\"2021-05-24T01:30:35.000Z\">07:00 am</span> on <span clas=\"date\">24 May 2021,Monday</span>\\n    </div>\\n  </div>\\n  <div class=\"news-card-content news-right-box\">\\n    <div itemprop=\"articleBody\">Cryptocurrency expert Patrick Lodder said the only way to know who owns the address behind $12 billion worth of Dogecoin is when the owner comes forward with the cryptographic proof. This would, however, be risky considering how much money is in the account, Lodder told Insider. Previously, there have been speculations that the address is held by billionaire Elon Musk.</div>\\n    <div class=\"news-card-author-time news-card-author-time-in-content\">\\n      <a href=\"/prev/en/news/its-risky-crypto-expert-on-owner-of-$12b-dogecoin-coming-forward-1621819835093\"><span class=\"short\">short</span></a> by <span class=\"author\">Hiral Goyal</span> / \\n      <span class=\"time\" itemprop=\"dateModified\" content=\"2021-05-24T01:30:35.000Z\" >07:00 am</span> on <span class=\"date\">24 May</span>\\n    </div>\\n  </div>\\n  \\n    <div class=\"news-card-footer news-right-box\">\\n      <div class=\"read-more\">read more at <a class=\"source\" onclick=\"track_GA_Mixpanel({\\'hitType\\': \\'event\\', \\'category\\': \\'ReadMore\\', \\'action\\': \\'clicked\\', \\'label\\': \\'Business%20Insider%20India\\' });\" target=\"_blank\" href=\"https://www.businessinsider.in/stock-market/news/a-crypto-expert-breaks-down-who-could-be-behind-the-dogecoin-whale-address-that-holds-12-billion/amp_articleshow/82881410.cms?utm_campaign=fullarticle&amp;utm_medium=referral&amp;utm_source=inshorts \">Business Insider India</a></div>\\n    </div>\\n  \\n\\n</div>\\n\\n  \\n</div>\\n\\n\\n\\n\\n  \\n    <div id=\\'div-gpt-ad-1536748319959-r78sj4av-1\\' style=\\'height:250px; width:900px; margin: auto; margin-bottom: 2%;\\'>\\n      <script>\\n        googletag.cmd.push(function() { \\n          //News banner for desktop\\n          var slotIdWeb = \\'div-gpt-ad-1536748319959-r78sj4av-1\\';\\n          var slot = googletag.defineSlot(\\'/142919096/inshorts_website_900x250\\', [900, 250], slotIdWeb)\\n          .addService(googletag.pubads())\\n          .setCollapseEmptyDiv(true,true);\\n\\n          googletag.display(\\'div-gpt-ad-1536748319959-r78sj4av-1\\');\\n          googletag.pubads().refresh([slot]);\\n        });\\n      </script>\\n    </div>\\n  \\n\\n<div class=\"\">\\n<div class=\"news-card z-depth-1\" itemscope itemtype=\"http://schema.org/NewsArticle\">\\n  <span content=\"\" itemscope itemprop=\"mainEntityOfPage\" itemType=\"https://schema.org/WebPage\" itemid=\"https://inshorts.com/en/news/bitcoin-surges-by-12-to-reclaim-$37500mark-ether-rises-15-1621869812807\"></span>\\n  <span itemtype=\"https://schema.org/Person\" itemscope=\"itemscope\" itemprop=\"author\">\\n    <span itemprop=\"name\" content=\"Krishna Raj\"></span>\\n  </span>\\n  <span itemprop=\"description\" content=\"Bitcoin surges by 12% to reclaim $37,500-mark, Ether rises 15%\"></span>\\n  <span itemprop=\"image\" itemscope itemtype=\"https://schema.org/ImageObject\">\\n    <meta itemprop=\"url\" content=\"https://static.inshorts.com/inshorts/images/v1/variants/jpg/m/2021/05_may/24_mon/img_1621867204406_432.jpg?\"></meta>\\n    <meta itemprop=\"width\" content=\"864\"></meta>\\n    <meta itemprop=\"height\" content=\"483\"></meta>\\n  </span>\\n  <span itemtype=\"https://schema.org/Organization\" itemscope=\"itemscope\" itemprop=\"publisher\">\\n    <span itemprop=\"url\" content=\"https://inshorts.com/\"></span>\\n    <span itemprop=\"name\" content=\"Inshorts\"></span>\\n    <span itemprop=\"logo\" itemscope itemtype=\"https://schema.org/ImageObject\">\\n      <span itemprop=\"url\" content=\"https://assets.inshorts.com/inshorts/images/v1/variants/jpg/m/2018/11_nov/21_wed/img_1542823931298_497.jpg\"></span>\\n      <meta itemprop=\"width\" content=\"400\"></meta>\\n      <meta itemprop=\"height\" content=\"60\"></meta>\\n    </span>\\n  </span>\\n  <div class=\"news-card-image\" style= \"background-image: url(\\'https://static.inshorts.com/inshorts/images/v1/variants/jpg/m/2021/05_may/24_mon/img_1621867204406_432.jpg?\\')\">\\n  </div>\\n  <div class=\"news-card-title news-right-box\">\\n    <a class=\"clickable\" onclick=\"track_GA_Mixpanel({\\'hitType\\': \\'event\\', \\'category\\': \\'TitleOfNews\\', \\'action\\': \\'clicked\\', \\'label\\': \\'Bitcoin%20surges%20by%2012%25%20to%20reclaim%20%2437%2C500-mark%2C%20Ether%20rises%2015%25)\\' });\"  style=\"color:#44444d!important\" href=\"/en/news/bitcoin-surges-by-12-to-reclaim-$37500mark-ether-rises-15-1621869812807\">\\n      <span itemprop=\"headline\">Bitcoin surges by 12% to reclaim $37,500-mark, Ether rises 15%</span>\\n    </a>\\n    <div class=\"news-card-author-time news-card-author-time-in-title\">\\n      <a href=\"/prev/en/news/bitcoin-surges-by-12-to-reclaim-$37500mark-ether-rises-15-1621869812807\"><span class=\"short\">short</span></a> by <span class=\"author\">Krishna Raj</span> / \\n      <span class=\"time\" itemprop=\"datePublished\" content=\"2021-05-24T15:23:32.000Z\">08:53 pm</span> on <span clas=\"date\">24 May 2021,Monday</span>\\n    </div>\\n  </div>\\n  <div class=\"news-card-content news-right-box\">\\n    <div itemprop=\"articleBody\">The world&#39;s largest cryptocurrency Bitcoin has surged by over 12% to trade around $37,500 on Monday after plunging as much as 18% on Sunday. With this, the total market capitalisation of Bitcoin crossed $709 billion, according to CoinDesk. Ether, the coin linked to the Ethereum blockchain network, also jumped by 15% to around $2,400 on Monday.</div>\\n    <div class=\"news-card-author-time news-card-author-time-in-content\">\\n      <a href=\"/prev/en/news/bitcoin-surges-by-12-to-reclaim-$37500mark-ether-rises-15-1621869812807\"><span class=\"short\">short</span></a> by <span class=\"author\">Krishna Raj</span> / \\n      <span class=\"time\" itemprop=\"dateModified\" content=\"2021-05-24T15:23:32.000Z\" >08:53 pm</span> on <span class=\"date\">24 May</span>\\n    </div>\\n  </div>\\n  \\n    <div class=\"news-card-footer news-right-box\">\\n      <div class=\"read-more\">read more at <a class=\"source\" onclick=\"track_GA_Mixpanel({\\'hitType\\': \\'event\\', \\'category\\': \\'ReadMore\\', \\'action\\': \\'clicked\\', \\'label\\': \\'BloombergQuint\\' });\" target=\"_blank\" href=\"https://www.bloombergquint.com/onweb/bitcoin-bounces-back-above-37-000-after-weekend-selloff?utm_campaign=fullarticle&amp;utm_medium=referral&amp;utm_source=inshorts \">BloombergQuint</a></div>\\n    </div>\\n  \\n\\n</div>\\n\\n  \\n</div>\\n\\n\\n\\n\\n<div class=\"\">\\n<div class=\"news-card z-depth-1\" itemscope itemtype=\"http://schema.org/NewsArticle\">\\n  <span content=\"\" itemscope itemprop=\"mainEntityOfPage\" itemType=\"https://schema.org/WebPage\" itemid=\"https://inshorts.com/en/news/purpose-of-raids-on-twitter-is-intimidation-exindia-news-head-1621876517097\"></span>\\n  <span itemtype=\"https://schema.org/Person\" itemscope=\"itemscope\" itemprop=\"author\">\\n    <span itemprop=\"name\" content=\"Aishwarya Awasthi\"></span>\\n  </span>\\n  <span itemprop=\"description\" content=\"Purpose of raids on Twitter is intimidation: Ex-India News Head\"></span>\\n  <span itemprop=\"image\" itemscope itemtype=\"https://schema.org/ImageObject\">\\n    <meta itemprop=\"url\" content=\"https://static.inshorts.com/inshorts/images/v1/variants/jpg/m/2021/05_may/24_mon/img_1621875433205_853.jpg?\"></meta>\\n    <meta itemprop=\"width\" content=\"864\"></meta>\\n    <meta itemprop=\"height\" content=\"483\"></meta>\\n  </span>\\n  <span itemtype=\"https://schema.org/Organization\" itemscope=\"itemscope\" itemprop=\"publisher\">\\n    <span itemprop=\"url\" content=\"https://inshorts.com/\"></span>\\n    <span itemprop=\"name\" content=\"Inshorts\"></span>\\n    <span itemprop=\"logo\" itemscope itemtype=\"https://schema.org/ImageObject\">\\n      <span itemprop=\"url\" content=\"https://assets.inshorts.com/inshorts/images/v1/variants/jpg/m/2018/11_nov/21_wed/img_1542823931298_497.jpg\"></span>\\n      <meta itemprop=\"width\" content=\"400\"></meta>\\n      <meta itemprop=\"height\" content=\"60\"></meta>\\n    </span>\\n  </span>\\n  <div class=\"news-card-image\" style= \"background-image: url(\\'https://static.inshorts.com/inshorts/images/v1/variants/jpg/m/2021/05_may/24_mon/img_1621875433205_853.jpg?\\')\">\\n  </div>\\n  <div class=\"news-card-title news-right-box\">\\n    <a class=\"clickable\" onclick=\"track_GA_Mixpanel({\\'hitType\\': \\'event\\', \\'category\\': \\'TitleOfNews\\', \\'action\\': \\'clicked\\', \\'label\\': \\'Purpose%20of%20raids%20on%20Twitter%20is%20intimidation%3A%20Ex-India%20News%20Head)\\' });\"  style=\"color:#44444d!important\" href=\"/en/news/purpose-of-raids-on-twitter-is-intimidation-exindia-news-head-1621876517097\">\\n      <span itemprop=\"headline\">Purpose of raids on Twitter is intimidation: Ex-India News Head</span>\\n    </a>\\n    <div class=\"news-card-author-time news-card-author-time-in-title\">\\n      <a href=\"/prev/en/news/purpose-of-raids-on-twitter-is-intimidation-exindia-news-head-1621876517097\"><span class=\"short\">short</span></a> by <span class=\"author\">Aishwarya Awasthi</span> / \\n      <span class=\"time\" itemprop=\"datePublished\" content=\"2021-05-24T17:15:17.000Z\">10:45 pm</span> on <span clas=\"date\">24 May 2021,Monday</span>\\n    </div>\\n  </div>\\n  <div class=\"news-card-content news-right-box\">\\n    <div itemprop=\"articleBody\">Former Twitter India News Head Raheel Khursheed said the purpose of raids at Twitter&#39;s Delhi and NCR offices was &#34;nothing but intimidation&#34;. He added the Delhi Police knows that no data is physically stored at the offices. The police had earlier sent a notice to Twitter in connection with the &#39;manipulated media&#39; tag on BJP leader Sambit Patra&#39;s tweet.</div>\\n    <div class=\"news-card-author-time news-card-author-time-in-content\">\\n      <a href=\"/prev/en/news/purpose-of-raids-on-twitter-is-intimidation-exindia-news-head-1621876517097\"><span class=\"short\">short</span></a> by <span class=\"author\">Aishwarya Awasthi</span> / \\n      <span class=\"time\" itemprop=\"dateModified\" content=\"2021-05-24T17:15:17.000Z\" >10:45 pm</span> on <span class=\"date\">24 May</span>\\n    </div>\\n  </div>\\n  \\n    <div class=\"news-card-footer news-right-box\">\\n      <div class=\"read-more\">read more at <a class=\"source\" onclick=\"track_GA_Mixpanel({\\'hitType\\': \\'event\\', \\'category\\': \\'ReadMore\\', \\'action\\': \\'clicked\\', \\'label\\': \\'ABP\\' });\" target=\"_blank\" href=\"https://news.abplive.com/news/india/congress-toolkit-case-nothing-but-intimidation-former-twitter-india-head-slams-delhi-police-visit-1459982/amp?utm_campaign=fullarticle&amp;utm_medium=referral&amp;utm_source=inshorts \">ABP</a></div>\\n    </div>\\n  \\n\\n</div>\\n\\n  \\n</div>\\n\\n\\n\\n\\n<div class=\"\">\\n<div class=\"news-card z-depth-1\" itemscope itemtype=\"http://schema.org/NewsArticle\">\\n  <span content=\"\" itemscope itemprop=\"mainEntityOfPage\" itemType=\"https://schema.org/WebPage\" itemid=\"https://inshorts.com/en/news/airtel-says-its-ready-for-5g-deploys-more-spectrum-in-ktaka-tn-1621877563268\"></span>\\n  <span itemtype=\"https://schema.org/Person\" itemscope=\"itemscope\" itemprop=\"author\">\\n    <span itemprop=\"name\" content=\"Krishna Raj\"></span>\\n  </span>\\n  <span itemprop=\"description\" content=\"Airtel says it&#39;s ready for 5G, deploys more spectrum in K&#39;taka, TN\"></span>\\n  <span itemprop=\"image\" itemscope itemtype=\"https://schema.org/ImageObject\">\\n    <meta itemprop=\"url\" content=\"https://static.inshorts.com/inshorts/images/v1/variants/jpg/m/2021/05_may/24_mon/img_1621876600759_759.jpg?\"></meta>\\n    <meta itemprop=\"width\" content=\"864\"></meta>\\n    <meta itemprop=\"height\" content=\"483\"></meta>\\n  </span>\\n  <span itemtype=\"https://schema.org/Organization\" itemscope=\"itemscope\" itemprop=\"publisher\">\\n    <span itemprop=\"url\" content=\"https://inshorts.com/\"></span>\\n    <span itemprop=\"name\" content=\"Inshorts\"></span>\\n    <span itemprop=\"logo\" itemscope itemtype=\"https://schema.org/ImageObject\">\\n      <span itemprop=\"url\" content=\"https://assets.inshorts.com/inshorts/images/v1/variants/jpg/m/2018/11_nov/21_wed/img_1542823931298_497.jpg\"></span>\\n      <meta itemprop=\"width\" content=\"400\"></meta>\\n      <meta itemprop=\"height\" content=\"60\"></meta>\\n    </span>\\n  </span>\\n  <div class=\"news-card-image\" style= \"background-image: url(\\'https://static.inshorts.com/inshorts/images/v1/variants/jpg/m/2021/05_may/24_mon/img_1621876600759_759.jpg?\\')\">\\n  </div>\\n  <div class=\"news-card-title news-right-box\">\\n    <a class=\"clickable\" onclick=\"track_GA_Mixpanel({\\'hitType\\': \\'event\\', \\'category\\': \\'TitleOfNews\\', \\'action\\': \\'clicked\\', \\'label\\': \\'Airtel%20says%20it&#39;s%20ready%20for%205G%2C%20deploys%20more%20spectrum%20in%20K&#39;taka%2C%20TN)\\' });\"  style=\"color:#44444d!important\" href=\"/en/news/airtel-says-its-ready-for-5g-deploys-more-spectrum-in-ktaka-tn-1621877563268\">\\n      <span itemprop=\"headline\">Airtel says it&#39;s ready for 5G, deploys more spectrum in K&#39;taka, TN</span>\\n    </a>\\n    <div class=\"news-card-author-time news-card-author-time-in-title\">\\n      <a href=\"/prev/en/news/airtel-says-its-ready-for-5g-deploys-more-spectrum-in-ktaka-tn-1621877563268\"><span class=\"short\">short</span></a> by <span class=\"author\">Krishna Raj</span> / \\n      <span class=\"time\" itemprop=\"datePublished\" content=\"2021-05-24T17:32:43.000Z\">11:02 pm</span> on <span clas=\"date\">24 May 2021,Monday</span>\\n    </div>\\n  </div>\\n  <div class=\"news-card-content news-right-box\">\\n    <div itemprop=\"articleBody\">Bharti Airtel has said that its network is fully ready for 5G and also announced deployment of additional spectrum in Karnataka and Tamil Nadu to boost network quality. The company has deployed 11.2 MHz additional spectrum in Karnataka and 5 MHz in Tamil Nadu, both in 1800 Mhz band. &#34;Airtel now has the largest spectrum bank in Karnataka,&#34; it added.</div>\\n    <div class=\"news-card-author-time news-card-author-time-in-content\">\\n      <a href=\"/prev/en/news/airtel-says-its-ready-for-5g-deploys-more-spectrum-in-ktaka-tn-1621877563268\"><span class=\"short\">short</span></a> by <span class=\"author\">Krishna Raj</span> / \\n      <span class=\"time\" itemprop=\"dateModified\" content=\"2021-05-24T17:32:43.000Z\" >11:02 pm</span> on <span class=\"date\">24 May</span>\\n    </div>\\n  </div>\\n  \\n    <div class=\"news-card-footer news-right-box\">\\n      <div class=\"read-more\">read more at <a class=\"source\" onclick=\"track_GA_Mixpanel({\\'hitType\\': \\'event\\', \\'category\\': \\'ReadMore\\', \\'action\\': \\'clicked\\', \\'label\\': \\'The%20Financial%20Express\\' });\" target=\"_blank\" href=\"https://www.financialexpress.com/industry/airtel-says-ready-for-5g-deploys-additional-spectrum-in-karnataka-tamil-nadu/2258104/lite/?utm_campaign=fullarticle&amp;utm_medium=referral&amp;utm_source=inshorts \">The Financial Express</a></div>\\n    </div>\\n  \\n\\n</div>\\n\\n  \\n</div>\\n\\n\\n\\n\\n<div class=\"\">\\n<div class=\"news-card z-depth-1\" itemscope itemtype=\"http://schema.org/NewsArticle\">\\n  <span content=\"\" itemscope itemprop=\"mainEntityOfPage\" itemType=\"https://schema.org/WebPage\" itemid=\"https://inshorts.com/en/news/wont-limit-features-for-indian-users-till-data-law-arrives-whatsapp-1621874458583\"></span>\\n  <span itemtype=\"https://schema.org/Person\" itemscope=\"itemscope\" itemprop=\"author\">\\n    <span itemprop=\"name\" content=\"Aishwarya Awasthi\"></span>\\n  </span>\\n  <span itemprop=\"description\" content=\"Won&#39;t limit features for Indian users till data law arrives: WhatsApp\"></span>\\n  <span itemprop=\"image\" itemscope itemtype=\"https://schema.org/ImageObject\">\\n    <meta itemprop=\"url\" content=\"https://static.inshorts.com/inshorts/images/v1/variants/jpg/m/2021/05_may/24_mon/img_1621872337330_217.jpg?\"></meta>\\n    <meta itemprop=\"width\" content=\"864\"></meta>\\n    <meta itemprop=\"height\" content=\"483\"></meta>\\n  </span>\\n  <span itemtype=\"https://schema.org/Organization\" itemscope=\"itemscope\" itemprop=\"publisher\">\\n    <span itemprop=\"url\" content=\"https://inshorts.com/\"></span>\\n    <span itemprop=\"name\" content=\"Inshorts\"></span>\\n    <span itemprop=\"logo\" itemscope itemtype=\"https://schema.org/ImageObject\">\\n      <span itemprop=\"url\" content=\"https://assets.inshorts.com/inshorts/images/v1/variants/jpg/m/2018/11_nov/21_wed/img_1542823931298_497.jpg\"></span>\\n      <meta itemprop=\"width\" content=\"400\"></meta>\\n      <meta itemprop=\"height\" content=\"60\"></meta>\\n    </span>\\n  </span>\\n  <div class=\"news-card-image\" style= \"background-image: url(\\'https://static.inshorts.com/inshorts/images/v1/variants/jpg/m/2021/05_may/24_mon/img_1621872337330_217.jpg?\\')\">\\n  </div>\\n  <div class=\"news-card-title news-right-box\">\\n    <a class=\"clickable\" onclick=\"track_GA_Mixpanel({\\'hitType\\': \\'event\\', \\'category\\': \\'TitleOfNews\\', \\'action\\': \\'clicked\\', \\'label\\': \\'Won&#39;t%20limit%20features%20for%20Indian%20users%20till%20data%20law%20arrives%3A%20WhatsApp)\\' });\"  style=\"color:#44444d!important\" href=\"/en/news/wont-limit-features-for-indian-users-till-data-law-arrives-whatsapp-1621874458583\">\\n      <span itemprop=\"headline\">Won&#39;t limit features for Indian users till data law arrives: WhatsApp</span>\\n    </a>\\n    <div class=\"news-card-author-time news-card-author-time-in-title\">\\n      <a href=\"/prev/en/news/wont-limit-features-for-indian-users-till-data-law-arrives-whatsapp-1621874458583\"><span class=\"short\">short</span></a> by <span class=\"author\">Aishwarya Awasthi</span> / \\n      <span class=\"time\" itemprop=\"datePublished\" content=\"2021-05-24T16:40:58.000Z\">10:10 pm</span> on <span clas=\"date\">24 May 2021,Monday</span>\\n    </div>\\n  </div>\\n  <div class=\"news-card-content news-right-box\">\\n    <div itemprop=\"articleBody\">WhatsApp has said that it will not limit the functionality of user accounts in India who do not accept its new policy and will keep sending them reminders to accept it. It said it&#39;ll maintain this approach until at least the forthcoming Personal Data Protection (PDP) law comes into effect. Earlier, the government had asked WhatsApp to withdraw the policy.\\n</div>\\n    <div class=\"news-card-author-time news-card-author-time-in-content\">\\n      <a href=\"/prev/en/news/wont-limit-features-for-indian-users-till-data-law-arrives-whatsapp-1621874458583\"><span class=\"short\">short</span></a> by <span class=\"author\">Aishwarya Awasthi</span> / \\n      <span class=\"time\" itemprop=\"dateModified\" content=\"2021-05-24T16:40:58.000Z\" >10:10 pm</span> on <span class=\"date\">24 May</span>\\n    </div>\\n  </div>\\n  \\n    <div class=\"news-card-footer news-right-box\">\\n      <div class=\"read-more\">read more at <a class=\"source\" onclick=\"track_GA_Mixpanel({\\'hitType\\': \\'event\\', \\'category\\': \\'ReadMore\\', \\'action\\': \\'clicked\\', \\'label\\': \\'Hindustan%20Times\\' });\" target=\"_blank\" href=\"https://tech.hindustantimes.com/amp/mobile/news/whatsapp-says-indian-user-s-features-won-t-be-limited-until-data-protection-law-arrives-71621868254265.html?utm_campaign=fullarticle&amp;utm_medium=referral&amp;utm_source=inshorts \">Hindustan Times</a></div>\\n    </div>\\n  \\n\\n</div>\\n\\n  \\n</div>\\n\\n\\n\\n\\n<div class=\"\">\\n<div class=\"news-card z-depth-1\" itemscope itemtype=\"http://schema.org/NewsArticle\">\\n  <span content=\"\" itemscope itemprop=\"mainEntityOfPage\" itemType=\"https://schema.org/WebPage\" itemid=\"https://inshorts.com/en/news/crypto-exchange-huobi-stops-miner-hosting-services-in-china-1621790093633\"></span>\\n  <span itemtype=\"https://schema.org/Person\" itemscope=\"itemscope\" itemprop=\"author\">\\n    <span itemprop=\"name\" content=\"Aishwarya Awasthi\"></span>\\n  </span>\\n  <span itemprop=\"description\" content=\"Crypto exchange Huobi stops miner hosting services in China\"></span>\\n  <span itemprop=\"image\" itemscope itemtype=\"https://schema.org/ImageObject\">\\n    <meta itemprop=\"url\" content=\"https://static.inshorts.com/inshorts/images/v1/variants/jpg/m/2021/05_may/23_sun/img_1621789116465_136.jpg?\"></meta>\\n    <meta itemprop=\"width\" content=\"864\"></meta>\\n    <meta itemprop=\"height\" content=\"483\"></meta>\\n  </span>\\n  <span itemtype=\"https://schema.org/Organization\" itemscope=\"itemscope\" itemprop=\"publisher\">\\n    <span itemprop=\"url\" content=\"https://inshorts.com/\"></span>\\n    <span itemprop=\"name\" content=\"Inshorts\"></span>\\n    <span itemprop=\"logo\" itemscope itemtype=\"https://schema.org/ImageObject\">\\n      <span itemprop=\"url\" content=\"https://assets.inshorts.com/inshorts/images/v1/variants/jpg/m/2018/11_nov/21_wed/img_1542823931298_497.jpg\"></span>\\n      <meta itemprop=\"width\" content=\"400\"></meta>\\n      <meta itemprop=\"height\" content=\"60\"></meta>\\n    </span>\\n  </span>\\n  <div class=\"news-card-image\" style= \"background-image: url(\\'https://static.inshorts.com/inshorts/images/v1/variants/jpg/m/2021/05_may/23_sun/img_1621789116465_136.jpg?\\')\">\\n  </div>\\n  <div class=\"news-card-title news-right-box\">\\n    <a class=\"clickable\" onclick=\"track_GA_Mixpanel({\\'hitType\\': \\'event\\', \\'category\\': \\'TitleOfNews\\', \\'action\\': \\'clicked\\', \\'label\\': \\'Crypto%20exchange%20Huobi%20stops%20miner%20hosting%20services%20in%20China)\\' });\"  style=\"color:#44444d!important\" href=\"/en/news/crypto-exchange-huobi-stops-miner-hosting-services-in-china-1621790093633\">\\n      <span itemprop=\"headline\">Crypto exchange Huobi stops miner hosting services in China</span>\\n    </a>\\n    <div class=\"news-card-author-time news-card-author-time-in-title\">\\n      <a href=\"/prev/en/news/crypto-exchange-huobi-stops-miner-hosting-services-in-china-1621790093633\"><span class=\"short\">short</span></a> by <span class=\"author\">Aishwarya Awasthi</span> / \\n      <span class=\"time\" itemprop=\"datePublished\" content=\"2021-05-23T17:14:53.000Z\">10:44 pm</span> on <span clas=\"date\">23 May 2021,Sunday</span>\\n    </div>\\n  </div>\\n  <div class=\"news-card-content news-right-box\">\\n    <div itemprop=\"articleBody\">Cryptocurrency exchange Huobi has stopped its miner hosting services in mainland China following warnings from China that it would crackdown on cryptocurrency mining, Coindesk reported citing Huobi&#39;s statement. It has also scaled back or suspended some of its services and products in certain countries. It didn&#39;t name the specific countries and regions where it will stop the services and products. </div>\\n    <div class=\"news-card-author-time news-card-author-time-in-content\">\\n      <a href=\"/prev/en/news/crypto-exchange-huobi-stops-miner-hosting-services-in-china-1621790093633\"><span class=\"short\">short</span></a> by <span class=\"author\">Aishwarya Awasthi</span> / \\n      <span class=\"time\" itemprop=\"dateModified\" content=\"2021-05-23T17:14:53.000Z\" >10:44 pm</span> on <span class=\"date\">23 May</span>\\n    </div>\\n  </div>\\n  \\n    <div class=\"news-card-footer news-right-box\">\\n      <div class=\"read-more\">read more at <a class=\"source\" onclick=\"track_GA_Mixpanel({\\'hitType\\': \\'event\\', \\'category\\': \\'ReadMore\\', \\'action\\': \\'clicked\\', \\'label\\': \\'BloombergQuint\\' });\" target=\"_blank\" href=\"https://www.bloombergquint.com/onweb/huobi-stops-crypto-miner-hosting-in-china-coindesk-says?utm_campaign=fullarticle&amp;utm_medium=referral&amp;utm_source=inshorts \">BloombergQuint</a></div>\\n    </div>\\n  \\n\\n</div>\\n\\n  \\n</div>\\n\\n\\n\\n\\n<div class=\"\">\\n<div class=\"news-card z-depth-1\" itemscope itemtype=\"http://schema.org/NewsArticle\">\\n  <span content=\"\" itemscope itemprop=\"mainEntityOfPage\" itemType=\"https://schema.org/WebPage\" itemid=\"https://inshorts.com/en/news/coinbase-shares-could-rise-36-to-$306-goldman-sachs-1621875928613\"></span>\\n  <span itemtype=\"https://schema.org/Person\" itemscope=\"itemscope\" itemprop=\"author\">\\n    <span itemprop=\"name\" content=\"Aishwarya Awasthi\"></span>\\n  </span>\\n  <span itemprop=\"description\" content=\"Coinbase shares could rise 36% to $306: Goldman Sachs\"></span>\\n  <span itemprop=\"image\" itemscope itemtype=\"https://schema.org/ImageObject\">\\n    <meta itemprop=\"url\" content=\"https://static.inshorts.com/inshorts/images/v1/variants/jpg/m/2021/05_may/24_mon/img_1621873914473_625.jpg?\"></meta>\\n    <meta itemprop=\"width\" content=\"864\"></meta>\\n    <meta itemprop=\"height\" content=\"483\"></meta>\\n  </span>\\n  <span itemtype=\"https://schema.org/Organization\" itemscope=\"itemscope\" itemprop=\"publisher\">\\n    <span itemprop=\"url\" content=\"https://inshorts.com/\"></span>\\n    <span itemprop=\"name\" content=\"Inshorts\"></span>\\n    <span itemprop=\"logo\" itemscope itemtype=\"https://schema.org/ImageObject\">\\n      <span itemprop=\"url\" content=\"https://assets.inshorts.com/inshorts/images/v1/variants/jpg/m/2018/11_nov/21_wed/img_1542823931298_497.jpg\"></span>\\n      <meta itemprop=\"width\" content=\"400\"></meta>\\n      <meta itemprop=\"height\" content=\"60\"></meta>\\n    </span>\\n  </span>\\n  <div class=\"news-card-image\" style= \"background-image: url(\\'https://static.inshorts.com/inshorts/images/v1/variants/jpg/m/2021/05_may/24_mon/img_1621873914473_625.jpg?\\')\">\\n  </div>\\n  <div class=\"news-card-title news-right-box\">\\n    <a class=\"clickable\" onclick=\"track_GA_Mixpanel({\\'hitType\\': \\'event\\', \\'category\\': \\'TitleOfNews\\', \\'action\\': \\'clicked\\', \\'label\\': \\'Coinbase%20shares%20could%20rise%2036%25%20to%20%24306%3A%20Goldman%20Sachs)\\' });\"  style=\"color:#44444d!important\" href=\"/en/news/coinbase-shares-could-rise-36-to-$306-goldman-sachs-1621875928613\">\\n      <span itemprop=\"headline\">Coinbase shares could rise 36% to $306: Goldman Sachs</span>\\n    </a>\\n    <div class=\"news-card-author-time news-card-author-time-in-title\">\\n      <a href=\"/prev/en/news/coinbase-shares-could-rise-36-to-$306-goldman-sachs-1621875928613\"><span class=\"short\">short</span></a> by <span class=\"author\">Aishwarya Awasthi</span> / \\n      <span class=\"time\" itemprop=\"datePublished\" content=\"2021-05-24T17:05:28.000Z\">10:35 pm</span> on <span clas=\"date\">24 May 2021,Monday</span>\\n    </div>\\n  </div>\\n  <div class=\"news-card-content news-right-box\">\\n    <div itemprop=\"articleBody\">Goldman Sachs in a note on Monday said the shares of Coinbase Global could surge 36% to $306 and that it is the best way to gain exposure to cryptocurrency ecosystems. However, it also noted that Coinbase&#39;s longer-term fate will depend on the continued success or failure of cryptocurrencies as an asset class.</div>\\n    <div class=\"news-card-author-time news-card-author-time-in-content\">\\n      <a href=\"/prev/en/news/coinbase-shares-could-rise-36-to-$306-goldman-sachs-1621875928613\"><span class=\"short\">short</span></a> by <span class=\"author\">Aishwarya Awasthi</span> / \\n      <span class=\"time\" itemprop=\"dateModified\" content=\"2021-05-24T17:05:28.000Z\" >10:35 pm</span> on <span class=\"date\">24 May</span>\\n    </div>\\n  </div>\\n  \\n    <div class=\"news-card-footer news-right-box\">\\n      <div class=\"read-more\">read more at <a class=\"source\" onclick=\"track_GA_Mixpanel({\\'hitType\\': \\'event\\', \\'category\\': \\'ReadMore\\', \\'action\\': \\'clicked\\', \\'label\\': \\'Business%20Insider%20India\\' });\" target=\"_blank\" href=\"https://www.businessinsider.in/cryptocurrency/news/coinbase-could-jump-36-as-it-is-the-best-way-to-invest-in-the-cryptocurrency-ecosystem-goldman-sachs-says/amp_articleshow/82911796.cms?utm_campaign=fullarticle&amp;utm_medium=referral&amp;utm_source=inshorts \">Business Insider India</a></div>\\n    </div>\\n  \\n\\n</div>\\n\\n  \\n</div>\\n\\n\\n\\n\\n  \\n    <div id=\\'div-gpt-ad-1536748319959-3xpvdrz7-1\\' style=\\'height:250px; width:900px; margin: auto; margin-bottom: 2%;\\'>\\n      <script>\\n        googletag.cmd.push(function() { \\n          //News banner for desktop\\n          var slotIdWeb = \\'div-gpt-ad-1536748319959-3xpvdrz7-1\\';\\n          var slot = googletag.defineSlot(\\'/142919096/inshorts_website_900x250\\', [900, 250], slotIdWeb)\\n          .addService(googletag.pubads())\\n          .setCollapseEmptyDiv(true,true);\\n\\n          googletag.display(\\'div-gpt-ad-1536748319959-3xpvdrz7-1\\');\\n          googletag.pubads().refresh([slot]);\\n        });\\n      </script>\\n    </div>\\n  \\n\\n<div class=\"\">\\n<div class=\"news-card z-depth-1\" itemscope itemtype=\"http://schema.org/NewsArticle\">\\n  <span content=\"\" itemscope itemprop=\"mainEntityOfPage\" itemType=\"https://schema.org/WebPage\" itemid=\"https://inshorts.com/en/news/cryptocurrencies-are-too-volatile-lack-transparency-hsbc-ceo-1621851811894\"></span>\\n  <span itemtype=\"https://schema.org/Person\" itemscope=\"itemscope\" itemprop=\"author\">\\n    <span itemprop=\"name\" content=\"Aishwarya Awasthi\"></span>\\n  </span>\\n  <span itemprop=\"description\" content=\"Cryptocurrencies are too volatile, lack transparency: HSBC CEO\"></span>\\n  <span itemprop=\"image\" itemscope itemtype=\"https://schema.org/ImageObject\">\\n    <meta itemprop=\"url\" content=\"https://static.inshorts.com/inshorts/images/v1/variants/jpg/m/2021/05_may/24_mon/img_1621850182693_537.jpg?\"></meta>\\n    <meta itemprop=\"width\" content=\"864\"></meta>\\n    <meta itemprop=\"height\" content=\"483\"></meta>\\n  </span>\\n  <span itemtype=\"https://schema.org/Organization\" itemscope=\"itemscope\" itemprop=\"publisher\">\\n    <span itemprop=\"url\" content=\"https://inshorts.com/\"></span>\\n    <span itemprop=\"name\" content=\"Inshorts\"></span>\\n    <span itemprop=\"logo\" itemscope itemtype=\"https://schema.org/ImageObject\">\\n      <span itemprop=\"url\" content=\"https://assets.inshorts.com/inshorts/images/v1/variants/jpg/m/2018/11_nov/21_wed/img_1542823931298_497.jpg\"></span>\\n      <meta itemprop=\"width\" content=\"400\"></meta>\\n      <meta itemprop=\"height\" content=\"60\"></meta>\\n    </span>\\n  </span>\\n  <div class=\"news-card-image\" style= \"background-image: url(\\'https://static.inshorts.com/inshorts/images/v1/variants/jpg/m/2021/05_may/24_mon/img_1621850182693_537.jpg?\\')\">\\n  </div>\\n  <div class=\"news-card-title news-right-box\">\\n    <a class=\"clickable\" onclick=\"track_GA_Mixpanel({\\'hitType\\': \\'event\\', \\'category\\': \\'TitleOfNews\\', \\'action\\': \\'clicked\\', \\'label\\': \\'Cryptocurrencies%20are%20too%20volatile%2C%20lack%20transparency%3A%20HSBC%20CEO)\\' });\"  style=\"color:#44444d!important\" href=\"/en/news/cryptocurrencies-are-too-volatile-lack-transparency-hsbc-ceo-1621851811894\">\\n      <span itemprop=\"headline\">Cryptocurrencies are too volatile, lack transparency: HSBC CEO</span>\\n    </a>\\n    <div class=\"news-card-author-time news-card-author-time-in-title\">\\n      <a href=\"/prev/en/news/cryptocurrencies-are-too-volatile-lack-transparency-hsbc-ceo-1621851811894\"><span class=\"short\">short</span></a> by <span class=\"author\">Aishwarya Awasthi</span> / \\n      <span class=\"time\" itemprop=\"datePublished\" content=\"2021-05-24T10:23:31.000Z\">03:53 pm</span> on <span clas=\"date\">24 May 2021,Monday</span>\\n    </div>\\n  </div>\\n  <div class=\"news-card-content news-right-box\">\\n    <div itemprop=\"articleBody\">HSBC does not plan to launch a cryptocurrency trading desk or offer digital coins as an investment to customers, as they are too volatile and lack transparency, CEO Noel Quinn said. &#34;We are not into Bitcoin as an asset class, if our clients want to be there then of course they are, but we are not promoting it,&#34; he added.</div>\\n    <div class=\"news-card-author-time news-card-author-time-in-content\">\\n      <a href=\"/prev/en/news/cryptocurrencies-are-too-volatile-lack-transparency-hsbc-ceo-1621851811894\"><span class=\"short\">short</span></a> by <span class=\"author\">Aishwarya Awasthi</span> / \\n      <span class=\"time\" itemprop=\"dateModified\" content=\"2021-05-24T10:23:31.000Z\" >03:53 pm</span> on <span class=\"date\">24 May</span>\\n    </div>\\n  </div>\\n  \\n    <div class=\"news-card-footer news-right-box\">\\n      <div class=\"read-more\">read more at <a class=\"source\" onclick=\"track_GA_Mixpanel({\\'hitType\\': \\'event\\', \\'category\\': \\'ReadMore\\', \\'action\\': \\'clicked\\', \\'label\\': \\'Reuters\\' });\" target=\"_blank\" href=\"https://www.reuters.com/technology/exclusive-hsbc-ceo-says-bitcoin-not-us-2021-05-24/?utm_campaign=fullarticle&amp;utm_medium=referral&amp;utm_source=inshorts \">Reuters</a></div>\\n    </div>\\n  \\n\\n</div>\\n\\n  \\n</div>\\n\\n\\n\\n\\n<div class=\"\">\\n<div class=\"news-card z-depth-1\" itemscope itemtype=\"http://schema.org/NewsArticle\">\\n  <span content=\"\" itemscope itemprop=\"mainEntityOfPage\" itemType=\"https://schema.org/WebPage\" itemid=\"https://inshorts.com/en/news/financial-info-wasnt-accessed-dominos-parent-after-data-leak-1621876178052\"></span>\\n  <span itemtype=\"https://schema.org/Person\" itemscope=\"itemscope\" itemprop=\"author\">\\n    <span itemprop=\"name\" content=\"Krishna Raj\"></span>\\n  </span>\\n  <span itemprop=\"description\" content=\"Financial info wasn&#39;t accessed: Domino&#39;s parent after data leak\"></span>\\n  <span itemprop=\"image\" itemscope itemtype=\"https://schema.org/ImageObject\">\\n    <meta itemprop=\"url\" content=\"https://static.inshorts.com/inshorts/images/v1/variants/jpg/m/2021/05_may/24_mon/img_1621873085959_129.jpg?\"></meta>\\n    <meta itemprop=\"width\" content=\"864\"></meta>\\n    <meta itemprop=\"height\" content=\"483\"></meta>\\n  </span>\\n  <span itemtype=\"https://schema.org/Organization\" itemscope=\"itemscope\" itemprop=\"publisher\">\\n    <span itemprop=\"url\" content=\"https://inshorts.com/\"></span>\\n    <span itemprop=\"name\" content=\"Inshorts\"></span>\\n    <span itemprop=\"logo\" itemscope itemtype=\"https://schema.org/ImageObject\">\\n      <span itemprop=\"url\" content=\"https://assets.inshorts.com/inshorts/images/v1/variants/jpg/m/2018/11_nov/21_wed/img_1542823931298_497.jpg\"></span>\\n      <meta itemprop=\"width\" content=\"400\"></meta>\\n      <meta itemprop=\"height\" content=\"60\"></meta>\\n    </span>\\n  </span>\\n  <div class=\"news-card-image\" style= \"background-image: url(\\'https://static.inshorts.com/inshorts/images/v1/variants/jpg/m/2021/05_may/24_mon/img_1621873085959_129.jpg?\\')\">\\n  </div>\\n  <div class=\"news-card-title news-right-box\">\\n    <a class=\"clickable\" onclick=\"track_GA_Mixpanel({\\'hitType\\': \\'event\\', \\'category\\': \\'TitleOfNews\\', \\'action\\': \\'clicked\\', \\'label\\': \\'Financial%20info%20wasn&#39;t%20accessed%3A%20Domino&#39;s%20parent%20after%20data%20leak)\\' });\"  style=\"color:#44444d!important\" href=\"/en/news/financial-info-wasnt-accessed-dominos-parent-after-data-leak-1621876178052\">\\n      <span itemprop=\"headline\">Financial info wasn&#39;t accessed: Domino&#39;s parent after data leak</span>\\n    </a>\\n    <div class=\"news-card-author-time news-card-author-time-in-title\">\\n      <a href=\"/prev/en/news/financial-info-wasnt-accessed-dominos-parent-after-data-leak-1621876178052\"><span class=\"short\">short</span></a> by <span class=\"author\">Krishna Raj</span> / \\n      <span class=\"time\" itemprop=\"datePublished\" content=\"2021-05-24T17:09:38.000Z\">10:39 pm</span> on <span clas=\"date\">24 May 2021,Monday</span>\\n    </div>\\n  </div>\\n  <div class=\"news-card-content news-right-box\">\\n    <div itemprop=\"articleBody\">Jubilant FoodWorks, parent company of Domino&#39;s Pizza India, has acknowledged the data breach and said that the financial information of its customers was not accessed, PTI reported. &#34;As a policy we don&#39;t store financial details or credit card data of our customers,&#34; it added. This comes after a cybersecurity researcher revealed that data from around 18 crore orders was leaked.</div>\\n    <div class=\"news-card-author-time news-card-author-time-in-content\">\\n      <a href=\"/prev/en/news/financial-info-wasnt-accessed-dominos-parent-after-data-leak-1621876178052\"><span class=\"short\">short</span></a> by <span class=\"author\">Krishna Raj</span> / \\n      <span class=\"time\" itemprop=\"dateModified\" content=\"2021-05-24T17:09:38.000Z\" >10:39 pm</span> on <span class=\"date\">24 May</span>\\n    </div>\\n  </div>\\n  \\n    <div class=\"news-card-footer news-right-box\">\\n      <div class=\"read-more\">read more at <a class=\"source\" onclick=\"track_GA_Mixpanel({\\'hitType\\': \\'event\\', \\'category\\': \\'ReadMore\\', \\'action\\': \\'clicked\\', \\'label\\': \\'Hindustan%20Times\\' });\" target=\"_blank\" href=\"https://www.hindustantimes.com/india-news/dominos-pizza-data-breach-company-says-financial-information-safe-as-data-of-180-million-users-compromised-101621855567340-amp.html?utm_campaign=fullarticle&amp;utm_medium=referral&amp;utm_source=inshorts \">Hindustan Times</a></div>\\n    </div>\\n  \\n\\n</div>\\n\\n  \\n</div>\\n\\n\\n\\n\\n<div class=\"\">\\n<div class=\"news-card z-depth-1\" itemscope itemtype=\"http://schema.org/NewsArticle\">\\n  <span content=\"\" itemscope itemprop=\"mainEntityOfPage\" itemType=\"https://schema.org/WebPage\" itemid=\"https://inshorts.com/en/news/fan-bought-knicks-tickets-via-bitcoin-in-2013-misses-$27k-profit-1621832091668\"></span>\\n  <span itemtype=\"https://schema.org/Person\" itemscope=\"itemscope\" itemprop=\"author\">\\n    <span itemprop=\"name\" content=\"Aishwarya Awasthi\"></span>\\n  </span>\\n  <span itemprop=\"description\" content=\"Fan bought Knicks tickets via Bitcoin in 2013, misses $27k profit\"></span>\\n  <span itemprop=\"image\" itemscope itemtype=\"https://schema.org/ImageObject\">\\n    <meta itemprop=\"url\" content=\"https://static.inshorts.com/inshorts/images/v1/variants/jpg/m/2021/05_may/23_sun/img_1621792132461_136.jpg?\"></meta>\\n    <meta itemprop=\"width\" content=\"864\"></meta>\\n    <meta itemprop=\"height\" content=\"483\"></meta>\\n  </span>\\n  <span itemtype=\"https://schema.org/Organization\" itemscope=\"itemscope\" itemprop=\"publisher\">\\n    <span itemprop=\"url\" content=\"https://inshorts.com/\"></span>\\n    <span itemprop=\"name\" content=\"Inshorts\"></span>\\n    <span itemprop=\"logo\" itemscope itemtype=\"https://schema.org/ImageObject\">\\n      <span itemprop=\"url\" content=\"https://assets.inshorts.com/inshorts/images/v1/variants/jpg/m/2018/11_nov/21_wed/img_1542823931298_497.jpg\"></span>\\n      <meta itemprop=\"width\" content=\"400\"></meta>\\n      <meta itemprop=\"height\" content=\"60\"></meta>\\n    </span>\\n  </span>\\n  <div class=\"news-card-image\" style= \"background-image: url(\\'https://static.inshorts.com/inshorts/images/v1/variants/jpg/m/2021/05_may/23_sun/img_1621792132461_136.jpg?\\')\">\\n  </div>\\n  <div class=\"news-card-title news-right-box\">\\n    <a class=\"clickable\" onclick=\"track_GA_Mixpanel({\\'hitType\\': \\'event\\', \\'category\\': \\'TitleOfNews\\', \\'action\\': \\'clicked\\', \\'label\\': \\'Fan%20bought%20Knicks%20tickets%20via%20Bitcoin%20in%202013%2C%20misses%20%2427k%20profit)\\' });\"  style=\"color:#44444d!important\" href=\"/en/news/fan-bought-knicks-tickets-via-bitcoin-in-2013-misses-$27k-profit-1621832091668\">\\n      <span itemprop=\"headline\">Fan bought Knicks tickets via Bitcoin in 2013, misses $27k profit</span>\\n    </a>\\n    <div class=\"news-card-author-time news-card-author-time-in-title\">\\n      <a href=\"/prev/en/news/fan-bought-knicks-tickets-via-bitcoin-in-2013-misses-$27k-profit-1621832091668\"><span class=\"short\">short</span></a> by <span class=\"author\">Aishwarya Awasthi</span> / \\n      <span class=\"time\" itemprop=\"datePublished\" content=\"2021-05-24T04:54:51.000Z\">10:24 am</span> on <span clas=\"date\">24 May 2021,Monday</span>\\n    </div>\\n  </div>\\n  <div class=\"news-card-content news-right-box\">\\n    <div itemprop=\"articleBody\">Alexander Taub, a Knicks fan, bought tickets from a friend using 0.7688 Bitcoin in 2013, missing the opportunity to earn a $27,000 profit in future. Taub bought the tickets when one token was worth $730, however, today the amount he paid would be worth around $27,000. &#34;In hindsight, clearly it would be nice to have the money,&#34; Taub told CNBC.</div>\\n    <div class=\"news-card-author-time news-card-author-time-in-content\">\\n      <a href=\"/prev/en/news/fan-bought-knicks-tickets-via-bitcoin-in-2013-misses-$27k-profit-1621832091668\"><span class=\"short\">short</span></a> by <span class=\"author\">Aishwarya Awasthi</span> / \\n      <span class=\"time\" itemprop=\"dateModified\" content=\"2021-05-24T04:54:51.000Z\" >10:24 am</span> on <span class=\"date\">24 May</span>\\n    </div>\\n  </div>\\n  \\n    <div class=\"news-card-footer news-right-box\">\\n      <div class=\"read-more\">read more at <a class=\"source\" onclick=\"track_GA_Mixpanel({\\'hitType\\': \\'event\\', \\'category\\': \\'ReadMore\\', \\'action\\': \\'clicked\\', \\'label\\': \\'Business%20Insider%20India\\' });\" target=\"_blank\" href=\"https://www.businessinsider.in/cryptocurrency/news/knicks-fan-who-used-bitcoin-to-buy-tickets-in-2013-lost-out-on-almost-30000-worth-of-profit/amp_articleshow/82883826.cms?utm_campaign=fullarticle&amp;utm_medium=referral&amp;utm_source=inshorts \">Business Insider India</a></div>\\n    </div>\\n  \\n\\n</div>\\n\\n  \\n</div>\\n\\n      </div>\\n      \\n      \\n      <div class=\"load-more-wrapper\">\\n        <div id=\"load-more-btn\" onclick=\"loadMoreNews()\" class=\"clickable unselectable load-more z-depth-1 hoverable\">Load More</div>\\n        <div id=\"load-more-gif\" style=\"display:none;\" class=\"clickable unselectable load-more\"><img id=\"load-more-gif\" src=\"https://assets.inshorts.com/website_assets/images/ajax-loader.gif\"/></div>\\n      </div>\\n      \\n\\n      \\n      <div class=\"my-red app-download-pane  hide-on-large-only\">\\n        <div class=\"container\">\\n          <div class=\"row\">\\n            <div class=\"col s12 center\" style=\"color:white;font-weight: 300;font-size:14px;margin-top: 28px;margin-bottom: 18px;\">\\n              For the best experience use <a target=\"_blank\" href=\"/mobile\" style=\"color:white;appearance: none;font-weight: 500;\">inshorts</a> app on your smartphone\\n            </div>\\n            \\n            \\n          </div>\\n        </div>\\n      </div>\\n      \\n\\n    </div>\\n  </div>\\n  <!-- BODY END -->\\n  <footer class=\"page-footer teals\"> \\n  <div class=\"container\">\\n    <div class=\"row\" style=\"margin-bottom: 0px; padding-bottom: 5px;\">\\n\\n      <div class=\"col offset-l3 l3 m4 s12 right social-admin\">\\n        <div class=\"social-share\"><a onclick=\"track_GA_Mixpanel({\\'hitType\\': \\'event\\', \\'category\\': \\'LinkToFaceBookPage\\', \\'action\\': \\'clicked\\', \\'label\\': \\'RedirectedToFaceBook\\' });\" target=\"_blank\" href=\"https://www.facebook.com/inshortsapp\"><img src=\"https://assets.inshorts.com/website_assets/images/facebook.png\"/></a></div>\\n        <div class=\"social-share\"><a onclick=\"track_GA_Mixpanel({\\'hitType\\': \\'event\\', \\'category\\': \\'LinkToTwitterPage\\', \\'action\\': \\'clicked\\', \\'label\\': \\'RedirectedToTwitter\\' });\" target=\"_blank\" href=\"https://twitter.com/inshorts\"><img src=\"https://assets.inshorts.com/website_assets/images/twitter.png\"/></a></div>\\n        <div class=\"social-share\"><a onclick=\"track_GA_Mixpanel({\\'hitType\\': \\'event\\', \\'category\\': \\'LinkToLinkedinPage\\', \\'action\\': \\'clicked\\', \\'label\\': \\'RedirectedToLinkedin\\' });\" target=\"_blank\" href=\"https://www.linkedin.com/company/news-in-shorts\"><img src=\"https://assets.inshorts.com/website_assets/images/linkedin.png\"/></a></div>\\n      </div>\\n\\n\\n      <div class=\"col m4 l3 s6 footer-left-pane\">\\n        <div class=\"right\"><img width=\"160px\" height=\"48px\" src=\"https://assets.inshorts.com/website_assets/images/logo_footer.png\"/></div>\\n\\n        <div class=\"copy-text\" >\\n          <span><span style=\"color:#cfcfcf;font-family: \\'Conv_ClanPro-Bold\\'\">inshorts</span> medialabs pvt. ltd.</span><br/>\\n          &copy;<span style=\"font-size:12px\">COPYRIGHT 2021</span>\\n        </div>\\n      </div>\\n      <div class=\"col m4 l3 s6 footer-right-pane\">\\n        <div id=\"contactUsBtn\" class=\"left clickable\" style=\"margin-top: -5px;\"><img width=\"132px\" height=\"48px\" src=\"https://assets.inshorts.com/website_assets/images/contact_icon.png\"/></div>              \\n        <div class=\"terms-text\">\\n          <a class=\"tnc\" style=\"color: #fff;\" onclick=\"track_GA_Mixpanel({\\'hitType\\': \\'event\\', \\'category\\': \\'LinkToTermsAndConditionsAndPP\\', \\'action\\': \\'clicked\\', \\'label\\': \\'RedirectedToTermsAndConditions\\' });\" target=\"_blank\" href=\"/tnc\"><span>Terms &amp; conditions</span><br/>\\n          <span>Privacy Policies</span>\\n          </a>\\n          <br/>\\n          <a class=\"tnc\" style=\"color: #fff;\" onclick=\"track_GA_Mixpanel({\\'hitType\\': \\'event\\', \\'category\\': \\'LinkToSitemap\\', \\'action\\': \\'clicked\\', \\'label\\': \\'RedirectedToSitemap\\' });\" target=\"_blank\" href=\"/editorial_policy\">\\n          <span>Editorial Policy</span>\\n          </a>\\n        </div>\\n      </div>\\n    </div>\\n  </div>\\n  <div id=\"contactUsModal\" class=\"modal_contact row\">\\n    <!-- Modal content -->\\n      <div class=\"modal-content col l4 m4 s8 offset-s2 offset-l4 offset-m4\">\\n        <span class=\"close\">&times;</span>\\n        <div class=\"contact\">\\n          <a target=\"_blank\" href=\"mailto:careers@inshorts.com?subject=Inshorts%20website%20contact%20form\">\\n            <button id=\"myBtn\">Contact Hiring Team</button>\\n          </a>\\n        </div>\\n        <div class=\"contact\">\\n          <a target=\"_blank\" href=\"mailto:Admin@inshorts.com?subject=Inshorts%20website%20contact%20form\">\\n            <button id=\"myBtn\">Contact Admin Team</button>\\n          </a>\\n        </div>\\n        <div class=\"contact\">\\n          <a target=\"_blank\" href=\"mailto:Marketing@inshorts.com?subject=Inshorts%20website%20contact%20form\">\\n            <button id=\"myBtn\">Contact Marketing Team</button>\\n          </a>\\n        </div>\\n        <div class=\"contact\">\\n          <a target=\"_blank\" href=\"mailto:Editorial@inshorts.com?subject=Inshorts%20website%20contact%20form\">\\n            <button id=\"myBtn\">Contact Editorial Team</button>\\n          </a>\\n        </div>\\n        <div class=\"contact\">\\n          <a target=\"_blank\" href=\"mailto:Sales@inshorts.com?subject=Inshorts%20website%20contact%20form\">\\n            <button id=\"myBtn\">Contact Sales Team</button>\\n          </a>\\n        </div>\\n        <div class=\"contact\">\\n          <a target=\"_blank\" href=\"mailto:Contact@inshorts.com?subject=Inshorts%20website%20contact%20form\">\\n            <button id=\"myBtn\">Contact For Any Other Query</button>\\n          </a>\\n        </div>\\n      </div>\\n  </div>\\n</footer>\\n<script>\\nvar modal = document.getElementById(\\'contactUsModal\\');\\n\\n// Get the button that opens the modal\\nvar btn = document.getElementById(\"contactUsBtn\");\\n\\n// Get the <span> element that closes the modal\\nvar span = document.getElementsByClassName(\"close\")[0];\\n\\n// When the user clicks on the button, open the modal \\nbtn.onclick = function() {\\n    modal.style.display = \"block\";\\n}\\n\\n// When the user clicks on <span> (x), close the modal\\nspan.onclick = function() {\\n    modal.style.display = \"none\";\\n}\\n\\n// When the user clicks anywhere outside of the modal, close it\\nwindow.onclick = function(event) {\\n    if (event.target == modal) {\\n        modal.style.display = \"none\";\\n    }\\n}\\n</script>\\n\\n\\n  <!-- Eliminate render-blocking JavaScript and CSS in above-the-fold content -->\\n  <script src=\"https://ajax.googleapis.com/ajax/libs/jquery/1.8/jquery.min.js\"></script>\\n  <script src=\"https://cdnjs.cloudflare.com/ajax/libs/materialize/0.97.0/js/materialize.min.js\"></script>\\n  \\n  <script type=\"text/javascript\" src=\"/dist/scripts/index.js\"></script>\\n  <script type=\"text/javascript\" src=\"/dist/scripts/read.js\"></script>\\n  <script src=\"/dist/scripts/jquery.scrolldepth.min.js\"></script>\\n  <script type=\"text/javascript\">\\n\\n    var min_news_id = \"07fvcicp-1\";\\n    function loadMoreNews(){\\n      $(\"#load-more-btn\").hide();\\n      $(\"#load-more-gif\").show();\\n      $.post(\"/en/ajax/more_news\",{\\'category\\':\\'technology\\',\\'news_offset\\':min_news_id},function(data){\\n          data = JSON.parse(data);\\n          min_news_id = data.min_news_id||min_news_id;\\n          $(\".card-stack\").append(data.html);\\n      })\\n      .fail(function(){alert(\"Error : unable to load more news\");})\\n      .always(function(){$(\"#load-more-btn\").show();$(\"#load-more-gif\").hide();});\\n    }\\n    jQuery.scrollDepth();\\n  </script>\\n\\n  <!-- Eliminate render-blocking JavaScript and CSS in above-the-fold content -->\\n\\n</body>\\n</html>\\n'"
      ]
     },
     "execution_count": 10,
     "metadata": {},
     "output_type": "execute_result"
    }
   ],
   "source": [
    "data = requests.get(url)\n",
    "data.content"
   ]
  },
  {
   "cell_type": "code",
   "execution_count": 11,
   "metadata": {},
   "outputs": [],
   "source": [
    "soup = BeautifulSoup(data.content, 'html.parser')"
   ]
  },
  {
   "cell_type": "code",
   "execution_count": 12,
   "metadata": {},
   "outputs": [],
   "source": [
    "news_articles = [{'news_headline': headline.find('span', attrs={'itemprop': 'headline'}).string,\n",
    "                  'news_article': article.find('div', attrs={'itemprop': 'articleBody'}).string,\n",
    "                  'news_category': news_category} \n",
    "                 for headline, article in zip(soup.find_all('div', \n",
    "                                                            class_ = ['news-card-title news-right-box']), \n",
    "                                              soup.find_all('div', class_=['news-card-content news-right-box']))]"
   ]
  },
  {
   "cell_type": "code",
   "execution_count": 13,
   "metadata": {},
   "outputs": [
    {
     "data": {
      "text/plain": [
       "[{'news_headline': 'Singapore provisionally approves 60-second COVID-19 breath test',\n",
       "  'news_article': \"Singapore has provisionally approved a COVID-19 breath test that can detect if someone is infected with COVID-19 within 60 seconds. The test, developed by the National University of Singapore's spin-off Breathonix, achieved more than 90% accuracy in a Singapore-based pilot clinical trial last year. A trial of the technology is now expected at one of Singapore's border points with Malaysia.\",\n",
       "  'news_category': 'technology'},\n",
       " {'news_headline': \"Gates' trust sold all Apple, Twitter shares weeks before divorce announcement\",\n",
       "  'news_article': 'The Bill & Melinda Gates Foundation sold its entire stakes in Apple and Twitter, weeks before the Gates announced their divorce earlier this month. The trust sold 1 million of shares it owned in Apple at the end of 2020 and 272,420 Twitter shares. Since the divorce announcement, about $4 billion in stock has been transferred from Bill to Melinda.',\n",
       "  'news_category': 'technology'},\n",
       " {'news_headline': 'Trick to relaunch PUBG Mobile: MLA urges PM to ban Battlegrounds Mobile India',\n",
       "  'news_article': 'Ninong Ering, an MLA from Arunachal Pradesh, has written to PM Narendra Modi demanding a ban on \\'Battlegrounds Mobile India\\', an alternative for PUBG Mobile that was banned in India. The MLA alleged that the move is simply a \"trick to relaunch\" PUBG Mobile in India with minor modifications. \"It\\'s a big threat to the security of India,\" he added.',\n",
       "  'news_category': 'technology'},\n",
       " {'news_headline': \"Paytm CEO shares old video of Google's ex-CEO telling how Chrome was invented\",\n",
       "  'news_article': 'Paytm CEO Vijay Shekhar Sharma took to Twitter to share an old video of Google\\'s ex-CEO Eric Schmidt telling how Google Chrome was invented. In the video, Schmidt said Google founders would often \"play tricks\" on him and expressed their desire to build a browser. \"They hired somebody to improve Firefox\\'s performance...and this person managed to invent Chrome,\" Schmidt added.',\n",
       "  'news_category': 'technology'},\n",
       " {'news_headline': \"Delhi Police sends notice to Twitter over 'manipulated' tag on BJP leader's tweet\",\n",
       "  'news_article': \"Delhi Police has sent a notice to Twitter demanding an explanation for adding the 'manipulated media' tag on tweets by BJP leader Sambit Patra on the alleged Congress 'toolkit' against PM Narendra Modi. It asked Twitter to share the information that it has in regard to the alleged toolkit and explain why it used the tag.\",\n",
       "  'news_category': 'technology'},\n",
       " {'news_headline': 'Comedians enjoy heavy metal music with French Prez after winning YouTube bet',\n",
       "  'news_article': 'Comedians McFly and Carlito enjoyed a heavy metal gig with French President Emmanuel Macron in the gardens of the presidential palace after winning a bet. Macron had pledged in February to welcome the duo to the presidential palace if they succeeded in garnering more than 10 million views on a video. The video promoted social distancing measures during the pandemic.',\n",
       "  'news_category': 'technology'},\n",
       " {'news_headline': 'Jack Ma to step down as President of his business school: Report',\n",
       "  'news_article': \"Alibaba Group's Co-founder Jack Ma is going to step down as President of his elite business school, Financial Times reported. Hupan University, which was founded by Ma in 2015 to train entrepreneurs, has changed its name and will restructure its curriculum, the report said citing sources. Ma will not hold any high-level title at the restructured organisation, the report added.\",\n",
       "  'news_category': 'technology'},\n",
       " {'news_headline': \"Delhi Police carries out raids at Twitter India's offices in Delhi & NCR\",\n",
       "  'news_article': \"A Delhi Police Special Cell team on Monday carried out a search at Twitter India's offices in Delhi and NCR. Police officials conducted raids at the tech giant's offices in Lado Sarai and Gurugram. Police earlier sent a notice to Twitter in connection with the 'manipulated media' tag on BJP leader Sambit Patra's tweet on an alleged Congress 'toolkit'.\",\n",
       "  'news_category': 'technology'},\n",
       " {'news_headline': \"Bernard Arnault & family beat Bezos as world's richest with $186.2 bn wealth: Forbes\",\n",
       "  'news_article': \"Bernard Arnault and family, the owners of LVMH Moët Hennessy Louis Vuitton, have beat Amazon Founder Jeff Bezos to become the world's richest, according to Forbes. It pegged Bernard Arnault and his family's wealth at $186.2 billion compared to Jeff Bezos' $186 billion wealth. Arnault spent $538 million in recent months to acquire shares of his own French label brand. \",\n",
       "  'news_category': 'technology'},\n",
       " {'news_headline': \"Kerala student designs 'masks with mics' to ease communication\",\n",
       "  'news_article': 'A first-year student from Government Engineering College in Kerala\\'s Thrissur has designed \"masks with mics\" to help health workers communicate with ease amid coronavirus pandemic. Kevin Jacob said that he came up with the idea after seeing his parents, who\\'re doctors, struggling to communicate with patients. The gadget can be used for four to six hours on a 30-minute charge.',\n",
       "  'news_category': 'technology'},\n",
       " {'news_headline': 'Norway Tesla users to get $16k each for charging speed issue: Report',\n",
       "  'news_article': 'Tesla has been found guilty of throttling charging speed and battery capacity through a software update in Norway, Nettavisen reported. It has been ordered to pay $16,000 to thousands of users who have been affected by the issue. A 2019 software update was found to have affected the battery life in Tesla Model S vehicles manufactured between 2013 and 2015.',\n",
       "  'news_category': 'technology'},\n",
       " {'news_headline': 'Google gets 1 day to remove prohibited content in Russia',\n",
       "  'news_article': \"Russia's communications watchdog has given Google 24 hours to delete prohibited content or be fined and possibly face a slow down in its traffic eventually. The agency said it has sent over 26,000 calls to Google to remove illegal information, including videos containing information on drugs or violence. Earlier, Russia had slowed down Twitter's traffic in the country.\",\n",
       "  'news_category': 'technology'},\n",
       " {'news_headline': 'Cryptocurrencies are danger to public: Bank of England Governor',\n",
       "  'news_article': 'Bank of England Governor Andrew Bailey has said cryptocurrencies and similar assets are a danger to the public. \"I\\'m sceptical about crypto-assets, frankly, because they\\'re dangerous and there\\'s a huge enthusiasm out there,\" he told the British parliament\\'s Treasury Committee. Earlier this month, Bailey had said people should only buy cryptocurrencies if they are ready to lose all their money.',\n",
       "  'news_category': 'technology'},\n",
       " {'news_headline': \"I don't sell crypto, I use it to buy companies: Binance CEO\",\n",
       "  'news_article': 'Cryptocurrency exchange Binance\\'s Founder and CEO Changpeng Zhao took to Twitter to say that he has not sold a single cryptocurrency in the last few days or months and has no plans to do so in the future either. \"I don\\'t \\'sell\\' cryptocurrency. I do use cryptocurrency to buy things, from groceries to companies, except fiat,\" Zhao added.',\n",
       "  'news_category': 'technology'},\n",
       " {'news_headline': \"Good chance to buy cryptos: 'Rich Dad Poor Dad' co-author on falling prices\",\n",
       "  'news_article': 'Robert Kiyosaki, co-author of the book \\'Rich Dad Poor Dad\\', has said that the fall in prices of cryptocurrencies is \"good news\" and a buying opportunity for investors. \"I hear \\'I can\\'t afford Bitcoin\\'...Good news. Now is your chance,\" he wrote on Twitter. \"Get educated. Buy coins that outperform Bitcoin...Stop whining and take action,\" Kiyosaki added.',\n",
       "  'news_category': 'technology'},\n",
       " {'news_headline': \"It's risky: Crypto expert on owner of $12B Dogecoin coming forward\",\n",
       "  'news_article': 'Cryptocurrency expert Patrick Lodder said the only way to know who owns the address behind $12 billion worth of Dogecoin is when the owner comes forward with the cryptographic proof. This would, however, be risky considering how much money is in the account, Lodder told Insider. Previously, there have been speculations that the address is held by billionaire Elon Musk.',\n",
       "  'news_category': 'technology'},\n",
       " {'news_headline': 'Bitcoin surges by 12% to reclaim $37,500-mark, Ether rises 15%',\n",
       "  'news_article': \"The world's largest cryptocurrency Bitcoin has surged by over 12% to trade around $37,500 on Monday after plunging as much as 18% on Sunday. With this, the total market capitalisation of Bitcoin crossed $709 billion, according to CoinDesk. Ether, the coin linked to the Ethereum blockchain network, also jumped by 15% to around $2,400 on Monday.\",\n",
       "  'news_category': 'technology'},\n",
       " {'news_headline': 'Purpose of raids on Twitter is intimidation: Ex-India News Head',\n",
       "  'news_article': 'Former Twitter India News Head Raheel Khursheed said the purpose of raids at Twitter\\'s Delhi and NCR offices was \"nothing but intimidation\". He added the Delhi Police knows that no data is physically stored at the offices. The police had earlier sent a notice to Twitter in connection with the \\'manipulated media\\' tag on BJP leader Sambit Patra\\'s tweet.',\n",
       "  'news_category': 'technology'},\n",
       " {'news_headline': \"Airtel says it's ready for 5G, deploys more spectrum in K'taka, TN\",\n",
       "  'news_article': 'Bharti Airtel has said that its network is fully ready for 5G and also announced deployment of additional spectrum in Karnataka and Tamil Nadu to boost network quality. The company has deployed 11.2 MHz additional spectrum in Karnataka and 5 MHz in Tamil Nadu, both in 1800 Mhz band. \"Airtel now has the largest spectrum bank in Karnataka,\" it added.',\n",
       "  'news_category': 'technology'},\n",
       " {'news_headline': \"Won't limit features for Indian users till data law arrives: WhatsApp\",\n",
       "  'news_article': \"WhatsApp has said that it will not limit the functionality of user accounts in India who do not accept its new policy and will keep sending them reminders to accept it. It said it'll maintain this approach until at least the forthcoming Personal Data Protection (PDP) law comes into effect. Earlier, the government had asked WhatsApp to withdraw the policy.\\n\",\n",
       "  'news_category': 'technology'},\n",
       " {'news_headline': 'Crypto exchange Huobi stops miner hosting services in China',\n",
       "  'news_article': \"Cryptocurrency exchange Huobi has stopped its miner hosting services in mainland China following warnings from China that it would crackdown on cryptocurrency mining, Coindesk reported citing Huobi's statement. It has also scaled back or suspended some of its services and products in certain countries. It didn't name the specific countries and regions where it will stop the services and products. \",\n",
       "  'news_category': 'technology'},\n",
       " {'news_headline': 'Coinbase shares could rise 36% to $306: Goldman Sachs',\n",
       "  'news_article': \"Goldman Sachs in a note on Monday said the shares of Coinbase Global could surge 36% to $306 and that it is the best way to gain exposure to cryptocurrency ecosystems. However, it also noted that Coinbase's longer-term fate will depend on the continued success or failure of cryptocurrencies as an asset class.\",\n",
       "  'news_category': 'technology'},\n",
       " {'news_headline': 'Cryptocurrencies are too volatile, lack transparency: HSBC CEO',\n",
       "  'news_article': 'HSBC does not plan to launch a cryptocurrency trading desk or offer digital coins as an investment to customers, as they are too volatile and lack transparency, CEO Noel Quinn said. \"We are not into Bitcoin as an asset class, if our clients want to be there then of course they are, but we are not promoting it,\" he added.',\n",
       "  'news_category': 'technology'},\n",
       " {'news_headline': \"Financial info wasn't accessed: Domino's parent after data leak\",\n",
       "  'news_article': 'Jubilant FoodWorks, parent company of Domino\\'s Pizza India, has acknowledged the data breach and said that the financial information of its customers was not accessed, PTI reported. \"As a policy we don\\'t store financial details or credit card data of our customers,\" it added. This comes after a cybersecurity researcher revealed that data from around 18 crore orders was leaked.',\n",
       "  'news_category': 'technology'},\n",
       " {'news_headline': 'Fan bought Knicks tickets via Bitcoin in 2013, misses $27k profit',\n",
       "  'news_article': 'Alexander Taub, a Knicks fan, bought tickets from a friend using 0.7688 Bitcoin in 2013, missing the opportunity to earn a $27,000 profit in future. Taub bought the tickets when one token was worth $730, however, today the amount he paid would be worth around $27,000. \"In hindsight, clearly it would be nice to have the money,\" Taub told CNBC.',\n",
       "  'news_category': 'technology'}]"
      ]
     },
     "execution_count": 13,
     "metadata": {},
     "output_type": "execute_result"
    }
   ],
   "source": [
    "news_data.extend(news_articles)\n",
    "news_data"
   ]
  },
  {
   "cell_type": "code",
   "execution_count": 14,
   "metadata": {},
   "outputs": [],
   "source": [
    "df = pd.DataFrame(news_data)"
   ]
  },
  {
   "cell_type": "code",
   "execution_count": 15,
   "metadata": {},
   "outputs": [],
   "source": [
    "df = df[['news_headline', 'news_article', 'news_category']]"
   ]
  },
  {
   "cell_type": "code",
   "execution_count": 16,
   "metadata": {},
   "outputs": [
    {
     "data": {
      "text/html": [
       "<div>\n",
       "<style scoped>\n",
       "    .dataframe tbody tr th:only-of-type {\n",
       "        vertical-align: middle;\n",
       "    }\n",
       "\n",
       "    .dataframe tbody tr th {\n",
       "        vertical-align: top;\n",
       "    }\n",
       "\n",
       "    .dataframe thead th {\n",
       "        text-align: right;\n",
       "    }\n",
       "</style>\n",
       "<table border=\"1\" class=\"dataframe\">\n",
       "  <thead>\n",
       "    <tr style=\"text-align: right;\">\n",
       "      <th></th>\n",
       "      <th>news_headline</th>\n",
       "      <th>news_article</th>\n",
       "      <th>news_category</th>\n",
       "    </tr>\n",
       "  </thead>\n",
       "  <tbody>\n",
       "    <tr>\n",
       "      <th>0</th>\n",
       "      <td>Singapore provisionally approves 60-second COV...</td>\n",
       "      <td>Singapore has provisionally approved a COVID-1...</td>\n",
       "      <td>technology</td>\n",
       "    </tr>\n",
       "    <tr>\n",
       "      <th>1</th>\n",
       "      <td>Gates' trust sold all Apple, Twitter shares we...</td>\n",
       "      <td>The Bill &amp; Melinda Gates Foundation sold its e...</td>\n",
       "      <td>technology</td>\n",
       "    </tr>\n",
       "    <tr>\n",
       "      <th>2</th>\n",
       "      <td>Trick to relaunch PUBG Mobile: MLA urges PM to...</td>\n",
       "      <td>Ninong Ering, an MLA from Arunachal Pradesh, h...</td>\n",
       "      <td>technology</td>\n",
       "    </tr>\n",
       "    <tr>\n",
       "      <th>3</th>\n",
       "      <td>Paytm CEO shares old video of Google's ex-CEO ...</td>\n",
       "      <td>Paytm CEO Vijay Shekhar Sharma took to Twitter...</td>\n",
       "      <td>technology</td>\n",
       "    </tr>\n",
       "    <tr>\n",
       "      <th>4</th>\n",
       "      <td>Delhi Police sends notice to Twitter over 'man...</td>\n",
       "      <td>Delhi Police has sent a notice to Twitter dema...</td>\n",
       "      <td>technology</td>\n",
       "    </tr>\n",
       "  </tbody>\n",
       "</table>\n",
       "</div>"
      ],
      "text/plain": [
       "                                       news_headline  \\\n",
       "0  Singapore provisionally approves 60-second COV...   \n",
       "1  Gates' trust sold all Apple, Twitter shares we...   \n",
       "2  Trick to relaunch PUBG Mobile: MLA urges PM to...   \n",
       "3  Paytm CEO shares old video of Google's ex-CEO ...   \n",
       "4  Delhi Police sends notice to Twitter over 'man...   \n",
       "\n",
       "                                        news_article news_category  \n",
       "0  Singapore has provisionally approved a COVID-1...    technology  \n",
       "1  The Bill & Melinda Gates Foundation sold its e...    technology  \n",
       "2  Ninong Ering, an MLA from Arunachal Pradesh, h...    technology  \n",
       "3  Paytm CEO Vijay Shekhar Sharma took to Twitter...    technology  \n",
       "4  Delhi Police has sent a notice to Twitter dema...    technology  "
      ]
     },
     "execution_count": 16,
     "metadata": {},
     "output_type": "execute_result"
    }
   ],
   "source": [
    "df.head(5)"
   ]
  },
  {
   "cell_type": "code",
   "execution_count": 17,
   "metadata": {},
   "outputs": [
    {
     "data": {
      "text/plain": [
       "(25, 3)"
      ]
     },
     "execution_count": 17,
     "metadata": {},
     "output_type": "execute_result"
    }
   ],
   "source": [
    "df.shape"
   ]
  },
  {
   "cell_type": "markdown",
   "metadata": {},
   "source": [
    "# Prepare user defined function to extract data from inshorts.com\n",
    "\n",
    "## I have taken five different categories of news from inshorts.com"
   ]
  },
  {
   "cell_type": "code",
   "execution_count": 18,
   "metadata": {},
   "outputs": [],
   "source": [
    "urls_list = ['https://inshorts.com/en/read/technology',\n",
    "             'https://inshorts.com/en/read/sports',\n",
    "             'https://inshorts.com/en/read/world',\n",
    "            'https://inshorts.com/en/read/travel',\n",
    "           'https://inshorts.com/en/read/science']"
   ]
  },
  {
   "cell_type": "code",
   "execution_count": 19,
   "metadata": {},
   "outputs": [],
   "source": [
    "def datasetPrepare(urls_list):\n",
    "    news_data = []\n",
    "    for url in urls_list:\n",
    "        news_category = url.split('/')[-1]\n",
    "        data = requests.get(url)\n",
    "        soup = BeautifulSoup(data.content, 'html.parser')\n",
    "        news_articles = [{'news_headline': headline.find('span', attrs={\"itemprop\": \"headline\"}).string,\n",
    "                          'news_article': article.find('div', attrs={\"itemprop\": \"articleBody\"}).string,\n",
    "                          'news_category': news_category}\n",
    "                         \n",
    "                            for headline, article in \n",
    "                             zip(soup.find_all('div', class_=[\"news-card-title news-right-box\"]),\n",
    "                                 soup.find_all('div', class_=[\"news-card-content news-right-box\"]))\n",
    "                        ]\n",
    "        news_data.extend(news_articles) \n",
    "    df =  pd.DataFrame(news_data)\n",
    "    df = df[['news_headline', 'news_article', 'news_category']]\n",
    "    return df    "
   ]
  },
  {
   "cell_type": "code",
   "execution_count": 20,
   "metadata": {},
   "outputs": [],
   "source": [
    "news_df = datasetPrepare(urls_list)"
   ]
  },
  {
   "cell_type": "code",
   "execution_count": 21,
   "metadata": {},
   "outputs": [
    {
     "name": "stdout",
     "output_type": "stream",
     "text": [
      "<class 'pandas.core.frame.DataFrame'>\n",
      "RangeIndex: 123 entries, 0 to 122\n",
      "Data columns (total 3 columns):\n",
      " #   Column         Non-Null Count  Dtype \n",
      "---  ------         --------------  ----- \n",
      " 0   news_headline  123 non-null    object\n",
      " 1   news_article   123 non-null    object\n",
      " 2   news_category  123 non-null    object\n",
      "dtypes: object(3)\n",
      "memory usage: 3.0+ KB\n"
     ]
    }
   ],
   "source": [
    "news_df.info()"
   ]
  },
  {
   "cell_type": "code",
   "execution_count": 22,
   "metadata": {},
   "outputs": [
    {
     "data": {
      "text/html": [
       "<div>\n",
       "<style scoped>\n",
       "    .dataframe tbody tr th:only-of-type {\n",
       "        vertical-align: middle;\n",
       "    }\n",
       "\n",
       "    .dataframe tbody tr th {\n",
       "        vertical-align: top;\n",
       "    }\n",
       "\n",
       "    .dataframe thead th {\n",
       "        text-align: right;\n",
       "    }\n",
       "</style>\n",
       "<table border=\"1\" class=\"dataframe\">\n",
       "  <thead>\n",
       "    <tr style=\"text-align: right;\">\n",
       "      <th></th>\n",
       "      <th>news_headline</th>\n",
       "      <th>news_article</th>\n",
       "      <th>news_category</th>\n",
       "    </tr>\n",
       "  </thead>\n",
       "  <tbody>\n",
       "    <tr>\n",
       "      <th>0</th>\n",
       "      <td>Singapore provisionally approves 60-second COV...</td>\n",
       "      <td>Singapore has provisionally approved a COVID-1...</td>\n",
       "      <td>technology</td>\n",
       "    </tr>\n",
       "    <tr>\n",
       "      <th>1</th>\n",
       "      <td>Delhi Police sends notice to Twitter over 'man...</td>\n",
       "      <td>Delhi Police has sent a notice to Twitter dema...</td>\n",
       "      <td>technology</td>\n",
       "    </tr>\n",
       "    <tr>\n",
       "      <th>2</th>\n",
       "      <td>Trick to relaunch PUBG Mobile: MLA urges PM to...</td>\n",
       "      <td>Ninong Ering, an MLA from Arunachal Pradesh, h...</td>\n",
       "      <td>technology</td>\n",
       "    </tr>\n",
       "    <tr>\n",
       "      <th>3</th>\n",
       "      <td>Gates' trust sold all Apple, Twitter shares we...</td>\n",
       "      <td>The Bill &amp; Melinda Gates Foundation sold its e...</td>\n",
       "      <td>technology</td>\n",
       "    </tr>\n",
       "    <tr>\n",
       "      <th>4</th>\n",
       "      <td>Delhi Police carries out raids at Twitter Indi...</td>\n",
       "      <td>A Delhi Police Special Cell team on Monday car...</td>\n",
       "      <td>technology</td>\n",
       "    </tr>\n",
       "  </tbody>\n",
       "</table>\n",
       "</div>"
      ],
      "text/plain": [
       "                                       news_headline  \\\n",
       "0  Singapore provisionally approves 60-second COV...   \n",
       "1  Delhi Police sends notice to Twitter over 'man...   \n",
       "2  Trick to relaunch PUBG Mobile: MLA urges PM to...   \n",
       "3  Gates' trust sold all Apple, Twitter shares we...   \n",
       "4  Delhi Police carries out raids at Twitter Indi...   \n",
       "\n",
       "                                        news_article news_category  \n",
       "0  Singapore has provisionally approved a COVID-1...    technology  \n",
       "1  Delhi Police has sent a notice to Twitter dema...    technology  \n",
       "2  Ninong Ering, an MLA from Arunachal Pradesh, h...    technology  \n",
       "3  The Bill & Melinda Gates Foundation sold its e...    technology  \n",
       "4  A Delhi Police Special Cell team on Monday car...    technology  "
      ]
     },
     "execution_count": 22,
     "metadata": {},
     "output_type": "execute_result"
    }
   ],
   "source": [
    "news_df.head(5)"
   ]
  },
  {
   "cell_type": "code",
   "execution_count": 23,
   "metadata": {},
   "outputs": [
    {
     "data": {
      "text/plain": [
       "technology    25\n",
       "sports        25\n",
       "world         25\n",
       "science       24\n",
       "travel        24\n",
       "Name: news_category, dtype: int64"
      ]
     },
     "execution_count": 23,
     "metadata": {},
     "output_type": "execute_result"
    }
   ],
   "source": [
    "news_df.news_category.value_counts()"
   ]
  },
  {
   "cell_type": "markdown",
   "metadata": {},
   "source": [
    "# Text Wrangling and Pre-processing"
   ]
  },
  {
   "cell_type": "code",
   "execution_count": 24,
   "metadata": {},
   "outputs": [],
   "source": [
    "import spacy\n",
    "import nltk\n",
    "from nltk.tokenize.toktok import ToktokTokenizer\n",
    "import re\n",
    "import unicodedata\n",
    "import os"
   ]
  },
  {
   "cell_type": "code",
   "execution_count": 25,
   "metadata": {},
   "outputs": [],
   "source": []
  },
  {
   "cell_type": "code",
   "execution_count": 26,
   "metadata": {},
   "outputs": [],
   "source": [
    "nlp = spacy.load(\"en_core_web_sm\")"
   ]
  },
  {
   "cell_type": "code",
   "execution_count": 27,
   "metadata": {},
   "outputs": [
    {
     "name": "stderr",
     "output_type": "stream",
     "text": [
      "[nltk_data] Downloading package stopwords to\n",
      "[nltk_data]     C:\\Users\\mishr\\AppData\\Roaming\\nltk_data...\n",
      "[nltk_data]   Package stopwords is already up-to-date!\n"
     ]
    },
    {
     "data": {
      "text/plain": [
       "True"
      ]
     },
     "execution_count": 27,
     "metadata": {},
     "output_type": "execute_result"
    }
   ],
   "source": [
    "nltk.download('stopwords')"
   ]
  },
  {
   "cell_type": "code",
   "execution_count": 28,
   "metadata": {},
   "outputs": [],
   "source": [
    "tokenizer = ToktokTokenizer()\n",
    "stopword_list = nltk.corpus.stopwords.words('english')\n",
    "stopword_list.remove('no')\n",
    "stopword_list.remove('not')"
   ]
  },
  {
   "cell_type": "markdown",
   "metadata": {},
   "source": [
    "## Remove HTML tags"
   ]
  },
  {
   "cell_type": "code",
   "execution_count": 29,
   "metadata": {},
   "outputs": [
    {
     "data": {
      "text/plain": [
       "'Some important text'"
      ]
     },
     "execution_count": 29,
     "metadata": {},
     "output_type": "execute_result"
    }
   ],
   "source": [
    "def strip_html_tags(text):\n",
    "    soup = BeautifulSoup(text, \"html.parser\")\n",
    "    stripped_text = soup.get_text()\n",
    "    return stripped_text\n",
    "\n",
    "strip_html_tags('<html><h2>Some important text</h2></html>')"
   ]
  },
  {
   "cell_type": "markdown",
   "metadata": {},
   "source": [
    "## Remove accented characters"
   ]
  },
  {
   "cell_type": "code",
   "execution_count": 30,
   "metadata": {},
   "outputs": [
    {
     "data": {
      "text/plain": [
       "'Some Accented text'"
      ]
     },
     "execution_count": 30,
     "metadata": {},
     "output_type": "execute_result"
    }
   ],
   "source": [
    "def remove_accented_chars(text):\n",
    "    text = unicodedata.normalize('NFKD', text).encode('ascii', 'ignore').decode('utf-8', 'ignore')\n",
    "    return text\n",
    "\n",
    "remove_accented_chars('Sómě Áccěntěd těxt')"
   ]
  },
  {
   "cell_type": "markdown",
   "metadata": {},
   "source": [
    "## Remove special characters"
   ]
  },
  {
   "cell_type": "code",
   "execution_count": 31,
   "metadata": {},
   "outputs": [],
   "source": [
    "def remove_special_characters(text, remove_digits=False):\n",
    "    pattern = r'[^a-zA-z0-9\\s]' if not remove_digits else r'[^a-zA-z\\s]'\n",
    "    text = re.sub(pattern, '', text)\n",
    "    return text"
   ]
  },
  {
   "cell_type": "code",
   "execution_count": 32,
   "metadata": {},
   "outputs": [
    {
     "data": {
      "text/plain": [
       "'Well this was fun What do you think '"
      ]
     },
     "execution_count": 32,
     "metadata": {},
     "output_type": "execute_result"
    }
   ],
   "source": [
    "remove_special_characters(\"Well this was fun! What do you think? 123#@!\", remove_digits=True)"
   ]
  },
  {
   "cell_type": "markdown",
   "metadata": {},
   "source": [
    "## Text lemmatization"
   ]
  },
  {
   "cell_type": "code",
   "execution_count": 33,
   "metadata": {},
   "outputs": [],
   "source": [
    "def lemmatize_text(text):\n",
    "    text = nlp(text)\n",
    "    text = ' '.join([word.lemma_ if word.lemma_ != '-PRON-' else word.text for word in text])\n",
    "    return text"
   ]
  },
  {
   "cell_type": "code",
   "execution_count": 34,
   "metadata": {},
   "outputs": [
    {
     "data": {
      "text/plain": [
       "'my system keep crash ! his crashed yesterday , ours crash daily'"
      ]
     },
     "execution_count": 34,
     "metadata": {},
     "output_type": "execute_result"
    }
   ],
   "source": [
    "lemmatize_text(\"My system keeps crashing! his crashed yesterday, ours crashes daily\")"
   ]
  },
  {
   "cell_type": "markdown",
   "metadata": {},
   "source": [
    "## Text stemming"
   ]
  },
  {
   "cell_type": "code",
   "execution_count": 35,
   "metadata": {},
   "outputs": [
    {
     "data": {
      "text/plain": [
       "'My system keep crash hi crash yesterday, our crash daili'"
      ]
     },
     "execution_count": 35,
     "metadata": {},
     "output_type": "execute_result"
    }
   ],
   "source": [
    "def simple_stemmer(text):\n",
    "    ps = nltk.porter.PorterStemmer()\n",
    "    text = ' '.join([ps.stem(word) for word in text.split()])\n",
    "    return text\n",
    "\n",
    "simple_stemmer(\"My system keeps crashing his crashed yesterday, ours crashes daily\")"
   ]
  },
  {
   "cell_type": "markdown",
   "metadata": {},
   "source": [
    "## Remove stopwords"
   ]
  },
  {
   "cell_type": "code",
   "execution_count": 36,
   "metadata": {},
   "outputs": [
    {
     "data": {
      "text/plain": [
       "', , stopwords , computer not'"
      ]
     },
     "execution_count": 36,
     "metadata": {},
     "output_type": "execute_result"
    }
   ],
   "source": [
    "def remove_stopwords(text, is_lower_case=False):\n",
    "    tokens = tokenizer.tokenize(text)\n",
    "    tokens = [token.strip() for token in tokens]\n",
    "    if is_lower_case:\n",
    "        filtered_tokens = [token for token in tokens if token not in stopword_list]\n",
    "    else:\n",
    "        filtered_tokens = [token for token in tokens if token.lower() not in stopword_list]\n",
    "    filtered_text = ' '.join(filtered_tokens)    \n",
    "    return filtered_text\n",
    "\n",
    "remove_stopwords(\"The, and, if are stopwords, computer is not\")"
   ]
  },
  {
   "cell_type": "markdown",
   "metadata": {},
   "source": [
    "## Building a text normalizer"
   ]
  },
  {
   "cell_type": "code",
   "execution_count": 37,
   "metadata": {},
   "outputs": [],
   "source": [
    "def normalize_corpus(corpus, html_stripping=True, contraction_expansion=True,\n",
    "                     accented_char_removal=True, text_lower_case=True, \n",
    "                     text_lemmatization=True, special_char_removal=True, \n",
    "                     stopword_removal=True, remove_digits=True):\n",
    "    \n",
    "    normalized_corpus = []\n",
    "    # normalize each document in the corpus\n",
    "    for doc in corpus:\n",
    "        # strip HTML\n",
    "        if html_stripping:\n",
    "            doc = strip_html_tags(doc)\n",
    "        # remove accented characters\n",
    "        if accented_char_removal:\n",
    "            doc = remove_accented_chars(doc)\n",
    "        # lowercase the text    \n",
    "        if text_lower_case:\n",
    "            doc = doc.lower()\n",
    "        # remove extra newlines\n",
    "        doc = re.sub(r'[\\r|\\n|\\r\\n]+', ' ',doc)\n",
    "        # lemmatize text\n",
    "        if text_lemmatization:\n",
    "            doc = lemmatize_text(doc)\n",
    "        # remove special characters and\\or digits    \n",
    "        if special_char_removal:\n",
    "            # insert spaces between special characters to isolate them    \n",
    "            special_char_pattern = re.compile(r'([{.(-)!}])')\n",
    "            doc = special_char_pattern.sub(\" \\\\1 \", doc)\n",
    "            doc = remove_special_characters(doc, remove_digits=remove_digits)  \n",
    "        # remove extra whitespace\n",
    "        doc = re.sub(' +', ' ', doc)\n",
    "        # remove stopwords\n",
    "        if stopword_removal:\n",
    "            doc = remove_stopwords(doc, is_lower_case=text_lower_case)\n",
    "            \n",
    "        normalized_corpus.append(doc)\n",
    "        \n",
    "    return normalized_corpus"
   ]
  },
  {
   "cell_type": "markdown",
   "metadata": {},
   "source": [
    "## Pre-process and normalize news articles"
   ]
  },
  {
   "cell_type": "code",
   "execution_count": 38,
   "metadata": {},
   "outputs": [],
   "source": [
    "news_df['full_text'] = news_df[\"news_headline\"].map(str)+ '. ' + news_df[\"news_article\"]"
   ]
  },
  {
   "cell_type": "code",
   "execution_count": 39,
   "metadata": {},
   "outputs": [
    {
     "data": {
      "text/plain": [
       "{'full_text': \"Delhi Police sends notice to Twitter over 'manipulated' tag on BJP leader's tweet. Delhi Police has sent a notice to Twitter demanding an explanation for adding the 'manipulated media' tag on tweets by BJP leader Sambit Patra on the alleged Congress 'toolkit' against PM Narendra Modi. It asked Twitter to share the information that it has in regard to the alleged toolkit and explain why it used the tag.\",\n",
       " 'clean_text': 'delhi police send notice twitter manipulate tag bjp leader tweet delhi police send notice twitter demand explanation add manipulated medium tag tweet bjp leader sambit patra alleged congress toolkit pm narendra modi ask twitter share information regard alleged toolkit explain use tag'}"
      ]
     },
     "execution_count": 39,
     "metadata": {},
     "output_type": "execute_result"
    }
   ],
   "source": [
    "news_df['clean_text'] = normalize_corpus(news_df['full_text'])\n",
    "norm_corpus = list(news_df['clean_text'])\n",
    "news_df.iloc[1][['full_text', 'clean_text']].to_dict()"
   ]
  },
  {
   "cell_type": "markdown",
   "metadata": {},
   "source": [
    "# Save the news articles"
   ]
  },
  {
   "cell_type": "code",
   "execution_count": 40,
   "metadata": {},
   "outputs": [],
   "source": [
    "news_df.to_csv('news.csv', index=False, encoding='utf-8')"
   ]
  },
  {
   "cell_type": "markdown",
   "metadata": {},
   "source": [
    "# Tagging Parts of Speech"
   ]
  },
  {
   "cell_type": "code",
   "execution_count": 41,
   "metadata": {},
   "outputs": [],
   "source": [
    "news_df = pd.read_csv('news.csv')"
   ]
  },
  {
   "cell_type": "code",
   "execution_count": 42,
   "metadata": {},
   "outputs": [],
   "source": [
    "corpus = normalize_corpus(news_df['full_text'], text_lower_case=False, \n",
    "                          text_lemmatization=False, special_char_removal=False)\n",
    "\n",
    "sentence = str(news_df.iloc[1].news_headline)\n",
    "sentence_nlp = nlp(sentence)"
   ]
  },
  {
   "cell_type": "code",
   "execution_count": 43,
   "metadata": {},
   "outputs": [
    {
     "data": {
      "text/html": [
       "<div>\n",
       "<style scoped>\n",
       "    .dataframe tbody tr th:only-of-type {\n",
       "        vertical-align: middle;\n",
       "    }\n",
       "\n",
       "    .dataframe tbody tr th {\n",
       "        vertical-align: top;\n",
       "    }\n",
       "\n",
       "    .dataframe thead th {\n",
       "        text-align: right;\n",
       "    }\n",
       "</style>\n",
       "<table border=\"1\" class=\"dataframe\">\n",
       "  <thead>\n",
       "    <tr style=\"text-align: right;\">\n",
       "      <th></th>\n",
       "      <th>Word</th>\n",
       "      <th>POS tag</th>\n",
       "      <th>Tag type</th>\n",
       "    </tr>\n",
       "  </thead>\n",
       "  <tbody>\n",
       "    <tr>\n",
       "      <th>0</th>\n",
       "      <td>Delhi</td>\n",
       "      <td>NNP</td>\n",
       "      <td>PROPN</td>\n",
       "    </tr>\n",
       "    <tr>\n",
       "      <th>1</th>\n",
       "      <td>Police</td>\n",
       "      <td>NNPS</td>\n",
       "      <td>PROPN</td>\n",
       "    </tr>\n",
       "    <tr>\n",
       "      <th>2</th>\n",
       "      <td>sends</td>\n",
       "      <td>VBZ</td>\n",
       "      <td>VERB</td>\n",
       "    </tr>\n",
       "    <tr>\n",
       "      <th>3</th>\n",
       "      <td>notice</td>\n",
       "      <td>NN</td>\n",
       "      <td>NOUN</td>\n",
       "    </tr>\n",
       "    <tr>\n",
       "      <th>4</th>\n",
       "      <td>to</td>\n",
       "      <td>IN</td>\n",
       "      <td>ADP</td>\n",
       "    </tr>\n",
       "    <tr>\n",
       "      <th>5</th>\n",
       "      <td>Twitter</td>\n",
       "      <td>NNP</td>\n",
       "      <td>PROPN</td>\n",
       "    </tr>\n",
       "    <tr>\n",
       "      <th>6</th>\n",
       "      <td>over</td>\n",
       "      <td>IN</td>\n",
       "      <td>ADP</td>\n",
       "    </tr>\n",
       "    <tr>\n",
       "      <th>7</th>\n",
       "      <td>'</td>\n",
       "      <td>``</td>\n",
       "      <td>PUNCT</td>\n",
       "    </tr>\n",
       "    <tr>\n",
       "      <th>8</th>\n",
       "      <td>manipulated</td>\n",
       "      <td>VBN</td>\n",
       "      <td>VERB</td>\n",
       "    </tr>\n",
       "    <tr>\n",
       "      <th>9</th>\n",
       "      <td>'</td>\n",
       "      <td>''</td>\n",
       "      <td>PUNCT</td>\n",
       "    </tr>\n",
       "    <tr>\n",
       "      <th>10</th>\n",
       "      <td>tag</td>\n",
       "      <td>NN</td>\n",
       "      <td>NOUN</td>\n",
       "    </tr>\n",
       "    <tr>\n",
       "      <th>11</th>\n",
       "      <td>on</td>\n",
       "      <td>IN</td>\n",
       "      <td>ADP</td>\n",
       "    </tr>\n",
       "    <tr>\n",
       "      <th>12</th>\n",
       "      <td>BJP</td>\n",
       "      <td>NNP</td>\n",
       "      <td>PROPN</td>\n",
       "    </tr>\n",
       "    <tr>\n",
       "      <th>13</th>\n",
       "      <td>leader</td>\n",
       "      <td>NN</td>\n",
       "      <td>NOUN</td>\n",
       "    </tr>\n",
       "    <tr>\n",
       "      <th>14</th>\n",
       "      <td>'s</td>\n",
       "      <td>POS</td>\n",
       "      <td>PART</td>\n",
       "    </tr>\n",
       "    <tr>\n",
       "      <th>15</th>\n",
       "      <td>tweet</td>\n",
       "      <td>NN</td>\n",
       "      <td>NOUN</td>\n",
       "    </tr>\n",
       "  </tbody>\n",
       "</table>\n",
       "</div>"
      ],
      "text/plain": [
       "           Word POS tag Tag type\n",
       "0         Delhi     NNP    PROPN\n",
       "1        Police    NNPS    PROPN\n",
       "2         sends     VBZ     VERB\n",
       "3        notice      NN     NOUN\n",
       "4            to      IN      ADP\n",
       "5       Twitter     NNP    PROPN\n",
       "6          over      IN      ADP\n",
       "7             '      ``    PUNCT\n",
       "8   manipulated     VBN     VERB\n",
       "9             '      ''    PUNCT\n",
       "10          tag      NN     NOUN\n",
       "11           on      IN      ADP\n",
       "12          BJP     NNP    PROPN\n",
       "13       leader      NN     NOUN\n",
       "14           's     POS     PART\n",
       "15        tweet      NN     NOUN"
      ]
     },
     "execution_count": 43,
     "metadata": {},
     "output_type": "execute_result"
    }
   ],
   "source": [
    "spacy_pos_tagged = [(word, word.tag_, word.pos_) for word in sentence_nlp]\n",
    "pd.DataFrame(spacy_pos_tagged, columns=['Word', 'POS tag', 'Tag type'])"
   ]
  },
  {
   "cell_type": "code",
   "execution_count": 44,
   "metadata": {},
   "outputs": [
    {
     "name": "stderr",
     "output_type": "stream",
     "text": [
      "[nltk_data] Downloading package punkt to\n",
      "[nltk_data]     C:\\Users\\mishr\\AppData\\Roaming\\nltk_data...\n",
      "[nltk_data]   Package punkt is already up-to-date!\n"
     ]
    },
    {
     "data": {
      "text/plain": [
       "True"
      ]
     },
     "execution_count": 44,
     "metadata": {},
     "output_type": "execute_result"
    }
   ],
   "source": [
    "nltk.download('punkt')"
   ]
  },
  {
   "cell_type": "code",
   "execution_count": 45,
   "metadata": {},
   "outputs": [
    {
     "name": "stderr",
     "output_type": "stream",
     "text": [
      "[nltk_data] Downloading package maxent_treebank_pos_tagger to\n",
      "[nltk_data]     C:\\Users\\mishr\\AppData\\Roaming\\nltk_data...\n",
      "[nltk_data]   Package maxent_treebank_pos_tagger is already up-to-\n",
      "[nltk_data]       date!\n"
     ]
    },
    {
     "data": {
      "text/plain": [
       "True"
      ]
     },
     "execution_count": 45,
     "metadata": {},
     "output_type": "execute_result"
    }
   ],
   "source": [
    "nltk.download('maxent_treebank_pos_tagger')"
   ]
  },
  {
   "cell_type": "code",
   "execution_count": 46,
   "metadata": {},
   "outputs": [
    {
     "name": "stderr",
     "output_type": "stream",
     "text": [
      "[nltk_data] Downloading package averaged_perceptron_tagger to\n",
      "[nltk_data]     C:\\Users\\mishr\\AppData\\Roaming\\nltk_data...\n",
      "[nltk_data]   Package averaged_perceptron_tagger is already up-to-\n",
      "[nltk_data]       date!\n"
     ]
    },
    {
     "data": {
      "text/plain": [
       "True"
      ]
     },
     "execution_count": 46,
     "metadata": {},
     "output_type": "execute_result"
    }
   ],
   "source": [
    "nltk.download('averaged_perceptron_tagger')"
   ]
  },
  {
   "cell_type": "code",
   "execution_count": 47,
   "metadata": {},
   "outputs": [],
   "source": [
    "nltk_pos_tagged = nltk.pos_tag(sentence.split())"
   ]
  },
  {
   "cell_type": "code",
   "execution_count": 48,
   "metadata": {},
   "outputs": [
    {
     "data": {
      "text/html": [
       "<div>\n",
       "<style scoped>\n",
       "    .dataframe tbody tr th:only-of-type {\n",
       "        vertical-align: middle;\n",
       "    }\n",
       "\n",
       "    .dataframe tbody tr th {\n",
       "        vertical-align: top;\n",
       "    }\n",
       "\n",
       "    .dataframe thead th {\n",
       "        text-align: right;\n",
       "    }\n",
       "</style>\n",
       "<table border=\"1\" class=\"dataframe\">\n",
       "  <thead>\n",
       "    <tr style=\"text-align: right;\">\n",
       "      <th></th>\n",
       "      <th>Word</th>\n",
       "      <th>POS tag</th>\n",
       "    </tr>\n",
       "  </thead>\n",
       "  <tbody>\n",
       "    <tr>\n",
       "      <th>0</th>\n",
       "      <td>Delhi</td>\n",
       "      <td>NNP</td>\n",
       "    </tr>\n",
       "    <tr>\n",
       "      <th>1</th>\n",
       "      <td>Police</td>\n",
       "      <td>NNP</td>\n",
       "    </tr>\n",
       "    <tr>\n",
       "      <th>2</th>\n",
       "      <td>sends</td>\n",
       "      <td>VBZ</td>\n",
       "    </tr>\n",
       "    <tr>\n",
       "      <th>3</th>\n",
       "      <td>notice</td>\n",
       "      <td>NN</td>\n",
       "    </tr>\n",
       "    <tr>\n",
       "      <th>4</th>\n",
       "      <td>to</td>\n",
       "      <td>TO</td>\n",
       "    </tr>\n",
       "    <tr>\n",
       "      <th>5</th>\n",
       "      <td>Twitter</td>\n",
       "      <td>NNP</td>\n",
       "    </tr>\n",
       "    <tr>\n",
       "      <th>6</th>\n",
       "      <td>over</td>\n",
       "      <td>IN</td>\n",
       "    </tr>\n",
       "    <tr>\n",
       "      <th>7</th>\n",
       "      <td>'manipulated'</td>\n",
       "      <td>NNP</td>\n",
       "    </tr>\n",
       "    <tr>\n",
       "      <th>8</th>\n",
       "      <td>tag</td>\n",
       "      <td>NN</td>\n",
       "    </tr>\n",
       "    <tr>\n",
       "      <th>9</th>\n",
       "      <td>on</td>\n",
       "      <td>IN</td>\n",
       "    </tr>\n",
       "    <tr>\n",
       "      <th>10</th>\n",
       "      <td>BJP</td>\n",
       "      <td>NNP</td>\n",
       "    </tr>\n",
       "    <tr>\n",
       "      <th>11</th>\n",
       "      <td>leader's</td>\n",
       "      <td>NN</td>\n",
       "    </tr>\n",
       "    <tr>\n",
       "      <th>12</th>\n",
       "      <td>tweet</td>\n",
       "      <td>NN</td>\n",
       "    </tr>\n",
       "  </tbody>\n",
       "</table>\n",
       "</div>"
      ],
      "text/plain": [
       "             Word POS tag\n",
       "0           Delhi     NNP\n",
       "1          Police     NNP\n",
       "2           sends     VBZ\n",
       "3          notice      NN\n",
       "4              to      TO\n",
       "5         Twitter     NNP\n",
       "6            over      IN\n",
       "7   'manipulated'     NNP\n",
       "8             tag      NN\n",
       "9              on      IN\n",
       "10            BJP     NNP\n",
       "11       leader's      NN\n",
       "12          tweet      NN"
      ]
     },
     "execution_count": 48,
     "metadata": {},
     "output_type": "execute_result"
    }
   ],
   "source": [
    "pd.DataFrame(nltk_pos_tagged, columns=['Word', 'POS tag'])"
   ]
  },
  {
   "cell_type": "markdown",
   "metadata": {},
   "source": [
    "# Named Entity Recognition"
   ]
  },
  {
   "cell_type": "code",
   "execution_count": 49,
   "metadata": {},
   "outputs": [],
   "source": [
    "sentence = str(news_df.iloc[1].full_text)"
   ]
  },
  {
   "cell_type": "code",
   "execution_count": 50,
   "metadata": {},
   "outputs": [
    {
     "data": {
      "text/plain": [
       "\"Delhi Police sends notice to Twitter over 'manipulated' tag on BJP leader's tweet. Delhi Police has sent a notice to Twitter demanding an explanation for adding the 'manipulated media' tag on tweets by BJP leader Sambit Patra on the alleged Congress 'toolkit' against PM Narendra Modi. It asked Twitter to share the information that it has in regard to the alleged toolkit and explain why it used the tag.\""
      ]
     },
     "execution_count": 50,
     "metadata": {},
     "output_type": "execute_result"
    }
   ],
   "source": [
    "sentence"
   ]
  },
  {
   "cell_type": "code",
   "execution_count": 51,
   "metadata": {},
   "outputs": [],
   "source": [
    "sentence_nlp = nlp(sentence)"
   ]
  },
  {
   "cell_type": "code",
   "execution_count": 52,
   "metadata": {},
   "outputs": [
    {
     "data": {
      "text/plain": [
       "Delhi Police sends notice to Twitter over 'manipulated' tag on BJP leader's tweet. Delhi Police has sent a notice to Twitter demanding an explanation for adding the 'manipulated media' tag on tweets by BJP leader Sambit Patra on the alleged Congress 'toolkit' against PM Narendra Modi. It asked Twitter to share the information that it has in regard to the alleged toolkit and explain why it used the tag."
      ]
     },
     "execution_count": 52,
     "metadata": {},
     "output_type": "execute_result"
    }
   ],
   "source": [
    "sentence_nlp"
   ]
  },
  {
   "cell_type": "code",
   "execution_count": 53,
   "metadata": {},
   "outputs": [
    {
     "name": "stdout",
     "output_type": "stream",
     "text": [
      "[(Delhi, 'PERSON'), (Police, 'PERSON'), (Twitter, 'PRODUCT'), (BJP, 'ORG'), (Delhi, 'PERSON'), (Police, 'PERSON'), (BJP, 'ORG'), (Sambit, 'PERSON'), (Patra, 'PERSON'), (Congress, 'ORG'), (Narendra, 'PERSON'), (Modi, 'PERSON'), (Twitter, 'PRODUCT')]\n"
     ]
    }
   ],
   "source": [
    "print([(word, word.ent_type_) for word in sentence_nlp if word.ent_type_])"
   ]
  },
  {
   "cell_type": "code",
   "execution_count": 54,
   "metadata": {},
   "outputs": [],
   "source": [
    "named_entities = []\n",
    "for sentence in corpus:\n",
    "    temp_entity_name = ''\n",
    "    temp_named_entity = None\n",
    "    sentence = nlp(sentence)\n",
    "    for word in sentence:\n",
    "        term = word.text \n",
    "        tag = word.ent_type_\n",
    "        if tag:\n",
    "            temp_entity_name = ' '.join([temp_entity_name, term]).strip()\n",
    "            temp_named_entity = (temp_entity_name, tag)\n",
    "        else:\n",
    "            if temp_named_entity:\n",
    "                named_entities.append(temp_named_entity)\n",
    "                temp_entity_name = ''\n",
    "                temp_named_entity = None\n",
    "\n",
    "entity_frame = pd.DataFrame(named_entities, \n",
    "                            columns=['Entity Name', 'Entity Type'])"
   ]
  },
  {
   "cell_type": "code",
   "execution_count": 55,
   "metadata": {},
   "outputs": [
    {
     "data": {
      "text/html": [
       "<div>\n",
       "<style scoped>\n",
       "    .dataframe tbody tr th:only-of-type {\n",
       "        vertical-align: middle;\n",
       "    }\n",
       "\n",
       "    .dataframe tbody tr th {\n",
       "        vertical-align: top;\n",
       "    }\n",
       "\n",
       "    .dataframe thead th {\n",
       "        text-align: right;\n",
       "    }\n",
       "</style>\n",
       "<table border=\"1\" class=\"dataframe\">\n",
       "  <thead>\n",
       "    <tr style=\"text-align: right;\">\n",
       "      <th></th>\n",
       "      <th>0</th>\n",
       "      <th>1</th>\n",
       "      <th>2</th>\n",
       "      <th>3</th>\n",
       "      <th>4</th>\n",
       "      <th>5</th>\n",
       "      <th>6</th>\n",
       "      <th>7</th>\n",
       "      <th>8</th>\n",
       "      <th>9</th>\n",
       "      <th>10</th>\n",
       "      <th>11</th>\n",
       "      <th>12</th>\n",
       "      <th>13</th>\n",
       "      <th>14</th>\n",
       "    </tr>\n",
       "  </thead>\n",
       "  <tbody>\n",
       "    <tr>\n",
       "      <th>Entity Name</th>\n",
       "      <td>India</td>\n",
       "      <td>China</td>\n",
       "      <td>US</td>\n",
       "      <td>COVID-19</td>\n",
       "      <td>first</td>\n",
       "      <td>two</td>\n",
       "      <td>Monday</td>\n",
       "      <td>Singapore</td>\n",
       "      <td>New Zealand</td>\n",
       "      <td>Delhi Police</td>\n",
       "      <td>Brazil</td>\n",
       "      <td>Russia</td>\n",
       "      <td>COVID-19</td>\n",
       "      <td>Sushil</td>\n",
       "      <td>Moon</td>\n",
       "    </tr>\n",
       "    <tr>\n",
       "      <th>Entity Type</th>\n",
       "      <td>GPE</td>\n",
       "      <td>GPE</td>\n",
       "      <td>GPE</td>\n",
       "      <td>PERSON</td>\n",
       "      <td>ORDINAL</td>\n",
       "      <td>CARDINAL</td>\n",
       "      <td>DATE</td>\n",
       "      <td>GPE</td>\n",
       "      <td>GPE</td>\n",
       "      <td>PERSON</td>\n",
       "      <td>GPE</td>\n",
       "      <td>GPE</td>\n",
       "      <td>PRODUCT</td>\n",
       "      <td>PERSON</td>\n",
       "      <td>PERSON</td>\n",
       "    </tr>\n",
       "    <tr>\n",
       "      <th>Frequency</th>\n",
       "      <td>35</td>\n",
       "      <td>15</td>\n",
       "      <td>14</td>\n",
       "      <td>13</td>\n",
       "      <td>12</td>\n",
       "      <td>9</td>\n",
       "      <td>7</td>\n",
       "      <td>7</td>\n",
       "      <td>7</td>\n",
       "      <td>6</td>\n",
       "      <td>6</td>\n",
       "      <td>6</td>\n",
       "      <td>6</td>\n",
       "      <td>6</td>\n",
       "      <td>6</td>\n",
       "    </tr>\n",
       "  </tbody>\n",
       "</table>\n",
       "</div>"
      ],
      "text/plain": [
       "                 0      1    2         3        4         5       6  \\\n",
       "Entity Name  India  China   US  COVID-19    first       two  Monday   \n",
       "Entity Type    GPE    GPE  GPE    PERSON  ORDINAL  CARDINAL    DATE   \n",
       "Frequency       35     15   14        13       12         9       7   \n",
       "\n",
       "                     7            8             9      10      11        12  \\\n",
       "Entity Name  Singapore  New Zealand  Delhi Police  Brazil  Russia  COVID-19   \n",
       "Entity Type        GPE          GPE        PERSON     GPE     GPE   PRODUCT   \n",
       "Frequency            7            7             6       6       6         6   \n",
       "\n",
       "                 13      14  \n",
       "Entity Name  Sushil    Moon  \n",
       "Entity Type  PERSON  PERSON  \n",
       "Frequency         6       6  "
      ]
     },
     "execution_count": 55,
     "metadata": {},
     "output_type": "execute_result"
    }
   ],
   "source": [
    "top_entities = (entity_frame.groupby(by=['Entity Name', 'Entity Type'])\n",
    "                           .size()\n",
    "                           .sort_values(ascending=False)\n",
    "                           .reset_index().rename(columns={0 : 'Frequency'}))\n",
    "top_entities.T.iloc[:,:15]"
   ]
  },
  {
   "cell_type": "code",
   "execution_count": 56,
   "metadata": {},
   "outputs": [
    {
     "data": {
      "text/html": [
       "<div>\n",
       "<style scoped>\n",
       "    .dataframe tbody tr th:only-of-type {\n",
       "        vertical-align: middle;\n",
       "    }\n",
       "\n",
       "    .dataframe tbody tr th {\n",
       "        vertical-align: top;\n",
       "    }\n",
       "\n",
       "    .dataframe thead th {\n",
       "        text-align: right;\n",
       "    }\n",
       "</style>\n",
       "<table border=\"1\" class=\"dataframe\">\n",
       "  <thead>\n",
       "    <tr style=\"text-align: right;\">\n",
       "      <th></th>\n",
       "      <th>0</th>\n",
       "      <th>1</th>\n",
       "      <th>2</th>\n",
       "      <th>3</th>\n",
       "      <th>4</th>\n",
       "      <th>5</th>\n",
       "      <th>6</th>\n",
       "      <th>7</th>\n",
       "      <th>8</th>\n",
       "      <th>9</th>\n",
       "      <th>10</th>\n",
       "      <th>11</th>\n",
       "      <th>12</th>\n",
       "      <th>13</th>\n",
       "      <th>14</th>\n",
       "    </tr>\n",
       "  </thead>\n",
       "  <tbody>\n",
       "    <tr>\n",
       "      <th>Entity Type</th>\n",
       "      <td>PERSON</td>\n",
       "      <td>ORG</td>\n",
       "      <td>GPE</td>\n",
       "      <td>DATE</td>\n",
       "      <td>CARDINAL</td>\n",
       "      <td>NORP</td>\n",
       "      <td>ORDINAL</td>\n",
       "      <td>LOC</td>\n",
       "      <td>MONEY</td>\n",
       "      <td>PRODUCT</td>\n",
       "      <td>TIME</td>\n",
       "      <td>PERCENT</td>\n",
       "      <td>QUANTITY</td>\n",
       "      <td>EVENT</td>\n",
       "      <td>WORK_OF_ART</td>\n",
       "    </tr>\n",
       "    <tr>\n",
       "      <th>Frequency</th>\n",
       "      <td>230</td>\n",
       "      <td>212</td>\n",
       "      <td>183</td>\n",
       "      <td>150</td>\n",
       "      <td>103</td>\n",
       "      <td>43</td>\n",
       "      <td>26</td>\n",
       "      <td>25</td>\n",
       "      <td>16</td>\n",
       "      <td>16</td>\n",
       "      <td>15</td>\n",
       "      <td>14</td>\n",
       "      <td>13</td>\n",
       "      <td>10</td>\n",
       "      <td>7</td>\n",
       "    </tr>\n",
       "  </tbody>\n",
       "</table>\n",
       "</div>"
      ],
      "text/plain": [
       "                  0    1    2     3         4     5        6    7      8  \\\n",
       "Entity Type  PERSON  ORG  GPE  DATE  CARDINAL  NORP  ORDINAL  LOC  MONEY   \n",
       "Frequency       230  212  183   150       103    43       26   25     16   \n",
       "\n",
       "                   9    10       11        12     13           14  \n",
       "Entity Type  PRODUCT  TIME  PERCENT  QUANTITY  EVENT  WORK_OF_ART  \n",
       "Frequency         16    15       14        13     10            7  "
      ]
     },
     "execution_count": 56,
     "metadata": {},
     "output_type": "execute_result"
    }
   ],
   "source": [
    "top_entities = (entity_frame.groupby(by=['Entity Type'])\n",
    "                           .size()\n",
    "                           .sort_values(ascending=False)\n",
    "                           .reset_index().rename(columns={0 : 'Frequency'}))\n",
    "top_entities.T.iloc[:,:15]"
   ]
  },
  {
   "cell_type": "markdown",
   "metadata": {},
   "source": [
    "# Emotion and Sentiment Analysis"
   ]
  },
  {
   "cell_type": "code",
   "execution_count": 57,
   "metadata": {},
   "outputs": [],
   "source": [
    "from afinn import Afinn"
   ]
  },
  {
   "cell_type": "code",
   "execution_count": 58,
   "metadata": {},
   "outputs": [],
   "source": [
    "af = Afinn()"
   ]
  },
  {
   "cell_type": "code",
   "execution_count": 59,
   "metadata": {},
   "outputs": [],
   "source": [
    "sentiment_scores = [af.score(article) for article in corpus]"
   ]
  },
  {
   "cell_type": "code",
   "execution_count": 60,
   "metadata": {},
   "outputs": [],
   "source": [
    "sentiment_category = ['positive' if score > 0 \n",
    "                          else 'negative' if score < 0 \n",
    "                              else 'neutral' \n",
    "                                  for score in sentiment_scores]"
   ]
  },
  {
   "cell_type": "code",
   "execution_count": 61,
   "metadata": {},
   "outputs": [],
   "source": [
    "df = pd.DataFrame([list(news_df['news_category']), sentiment_scores, sentiment_category]).T"
   ]
  },
  {
   "cell_type": "code",
   "execution_count": 62,
   "metadata": {},
   "outputs": [],
   "source": [
    "df.columns = ['news_category', 'sentiment_score', 'sentiment_category']"
   ]
  },
  {
   "cell_type": "code",
   "execution_count": 63,
   "metadata": {},
   "outputs": [],
   "source": [
    "df['sentiment_score'] = df.sentiment_score.astype('float')"
   ]
  },
  {
   "cell_type": "code",
   "execution_count": 83,
   "metadata": {},
   "outputs": [
    {
     "data": {
      "text/html": [
       "<div>\n",
       "<style scoped>\n",
       "    .dataframe tbody tr th:only-of-type {\n",
       "        vertical-align: middle;\n",
       "    }\n",
       "\n",
       "    .dataframe tbody tr th {\n",
       "        vertical-align: top;\n",
       "    }\n",
       "\n",
       "    .dataframe thead th {\n",
       "        text-align: right;\n",
       "    }\n",
       "</style>\n",
       "<table border=\"1\" class=\"dataframe\">\n",
       "  <thead>\n",
       "    <tr style=\"text-align: right;\">\n",
       "      <th></th>\n",
       "      <th>news_category</th>\n",
       "      <th>sentiment_score</th>\n",
       "      <th>sentiment_category</th>\n",
       "    </tr>\n",
       "  </thead>\n",
       "  <tbody>\n",
       "    <tr>\n",
       "      <th>0</th>\n",
       "      <td>technology</td>\n",
       "      <td>-0.200</td>\n",
       "      <td>negative</td>\n",
       "    </tr>\n",
       "    <tr>\n",
       "      <th>1</th>\n",
       "      <td>technology</td>\n",
       "      <td>-0.100</td>\n",
       "      <td>negative</td>\n",
       "    </tr>\n",
       "    <tr>\n",
       "      <th>2</th>\n",
       "      <td>technology</td>\n",
       "      <td>-0.017</td>\n",
       "      <td>negative</td>\n",
       "    </tr>\n",
       "    <tr>\n",
       "      <th>3</th>\n",
       "      <td>technology</td>\n",
       "      <td>0.050</td>\n",
       "      <td>positive</td>\n",
       "    </tr>\n",
       "    <tr>\n",
       "      <th>4</th>\n",
       "      <td>technology</td>\n",
       "      <td>0.089</td>\n",
       "      <td>positive</td>\n",
       "    </tr>\n",
       "    <tr>\n",
       "      <th>...</th>\n",
       "      <td>...</td>\n",
       "      <td>...</td>\n",
       "      <td>...</td>\n",
       "    </tr>\n",
       "    <tr>\n",
       "      <th>118</th>\n",
       "      <td>science</td>\n",
       "      <td>0.000</td>\n",
       "      <td>neutral</td>\n",
       "    </tr>\n",
       "    <tr>\n",
       "      <th>119</th>\n",
       "      <td>science</td>\n",
       "      <td>0.000</td>\n",
       "      <td>neutral</td>\n",
       "    </tr>\n",
       "    <tr>\n",
       "      <th>120</th>\n",
       "      <td>science</td>\n",
       "      <td>0.250</td>\n",
       "      <td>positive</td>\n",
       "    </tr>\n",
       "    <tr>\n",
       "      <th>121</th>\n",
       "      <td>science</td>\n",
       "      <td>0.125</td>\n",
       "      <td>positive</td>\n",
       "    </tr>\n",
       "    <tr>\n",
       "      <th>122</th>\n",
       "      <td>science</td>\n",
       "      <td>0.254</td>\n",
       "      <td>positive</td>\n",
       "    </tr>\n",
       "  </tbody>\n",
       "</table>\n",
       "<p>123 rows × 3 columns</p>\n",
       "</div>"
      ],
      "text/plain": [
       "    news_category  sentiment_score sentiment_category\n",
       "0      technology           -0.200           negative\n",
       "1      technology           -0.100           negative\n",
       "2      technology           -0.017           negative\n",
       "3      technology            0.050           positive\n",
       "4      technology            0.089           positive\n",
       "..            ...              ...                ...\n",
       "118       science            0.000            neutral\n",
       "119       science            0.000            neutral\n",
       "120       science            0.250           positive\n",
       "121       science            0.125           positive\n",
       "122       science            0.254           positive\n",
       "\n",
       "[123 rows x 3 columns]"
      ]
     },
     "execution_count": 83,
     "metadata": {},
     "output_type": "execute_result"
    }
   ],
   "source": [
    "df"
   ]
  },
  {
   "cell_type": "code",
   "execution_count": 64,
   "metadata": {},
   "outputs": [
    {
     "data": {
      "text/html": [
       "<div>\n",
       "<style scoped>\n",
       "    .dataframe tbody tr th:only-of-type {\n",
       "        vertical-align: middle;\n",
       "    }\n",
       "\n",
       "    .dataframe tbody tr th {\n",
       "        vertical-align: top;\n",
       "    }\n",
       "\n",
       "    .dataframe thead tr th {\n",
       "        text-align: left;\n",
       "    }\n",
       "\n",
       "    .dataframe thead tr:last-of-type th {\n",
       "        text-align: right;\n",
       "    }\n",
       "</style>\n",
       "<table border=\"1\" class=\"dataframe\">\n",
       "  <thead>\n",
       "    <tr>\n",
       "      <th></th>\n",
       "      <th colspan=\"8\" halign=\"left\">sentiment_score</th>\n",
       "    </tr>\n",
       "    <tr>\n",
       "      <th></th>\n",
       "      <th>count</th>\n",
       "      <th>mean</th>\n",
       "      <th>std</th>\n",
       "      <th>min</th>\n",
       "      <th>25%</th>\n",
       "      <th>50%</th>\n",
       "      <th>75%</th>\n",
       "      <th>max</th>\n",
       "    </tr>\n",
       "    <tr>\n",
       "      <th>news_category</th>\n",
       "      <th></th>\n",
       "      <th></th>\n",
       "      <th></th>\n",
       "      <th></th>\n",
       "      <th></th>\n",
       "      <th></th>\n",
       "      <th></th>\n",
       "      <th></th>\n",
       "    </tr>\n",
       "  </thead>\n",
       "  <tbody>\n",
       "    <tr>\n",
       "      <th>science</th>\n",
       "      <td>24.0</td>\n",
       "      <td>0.875000</td>\n",
       "      <td>2.908944</td>\n",
       "      <td>-4.0</td>\n",
       "      <td>-0.25</td>\n",
       "      <td>0.0</td>\n",
       "      <td>2.25</td>\n",
       "      <td>10.0</td>\n",
       "    </tr>\n",
       "    <tr>\n",
       "      <th>sports</th>\n",
       "      <td>25.0</td>\n",
       "      <td>1.920000</td>\n",
       "      <td>8.726970</td>\n",
       "      <td>-14.0</td>\n",
       "      <td>-1.00</td>\n",
       "      <td>0.0</td>\n",
       "      <td>5.00</td>\n",
       "      <td>26.0</td>\n",
       "    </tr>\n",
       "    <tr>\n",
       "      <th>technology</th>\n",
       "      <td>25.0</td>\n",
       "      <td>2.000000</td>\n",
       "      <td>7.262920</td>\n",
       "      <td>-8.0</td>\n",
       "      <td>-2.00</td>\n",
       "      <td>0.0</td>\n",
       "      <td>5.00</td>\n",
       "      <td>19.0</td>\n",
       "    </tr>\n",
       "    <tr>\n",
       "      <th>travel</th>\n",
       "      <td>24.0</td>\n",
       "      <td>-0.416667</td>\n",
       "      <td>3.610572</td>\n",
       "      <td>-6.0</td>\n",
       "      <td>-3.00</td>\n",
       "      <td>-1.0</td>\n",
       "      <td>1.00</td>\n",
       "      <td>10.0</td>\n",
       "    </tr>\n",
       "    <tr>\n",
       "      <th>world</th>\n",
       "      <td>25.0</td>\n",
       "      <td>-4.200000</td>\n",
       "      <td>6.763875</td>\n",
       "      <td>-19.0</td>\n",
       "      <td>-8.00</td>\n",
       "      <td>-6.0</td>\n",
       "      <td>2.00</td>\n",
       "      <td>6.0</td>\n",
       "    </tr>\n",
       "  </tbody>\n",
       "</table>\n",
       "</div>"
      ],
      "text/plain": [
       "              sentiment_score                                                 \n",
       "                        count      mean       std   min   25%  50%   75%   max\n",
       "news_category                                                                 \n",
       "science                  24.0  0.875000  2.908944  -4.0 -0.25  0.0  2.25  10.0\n",
       "sports                   25.0  1.920000  8.726970 -14.0 -1.00  0.0  5.00  26.0\n",
       "technology               25.0  2.000000  7.262920  -8.0 -2.00  0.0  5.00  19.0\n",
       "travel                   24.0 -0.416667  3.610572  -6.0 -3.00 -1.0  1.00  10.0\n",
       "world                    25.0 -4.200000  6.763875 -19.0 -8.00 -6.0  2.00   6.0"
      ]
     },
     "execution_count": 64,
     "metadata": {},
     "output_type": "execute_result"
    }
   ],
   "source": [
    "df.groupby(by=['news_category']).describe()"
   ]
  },
  {
   "cell_type": "code",
   "execution_count": 65,
   "metadata": {},
   "outputs": [
    {
     "data": {
      "image/png": "[encoded data removed]",
      "text/plain": [
       "<Figure size 1008x288 with 2 Axes>"
      ]
     },
     "metadata": {
      "needs_background": "light"
     },
     "output_type": "display_data"
    }
   ],
   "source": [
    "f, (ax1, ax2) = plt.subplots(1, 2, figsize=(14, 4))\n",
    "sp = sns.stripplot(x='news_category', y=\"sentiment_score\",  hue='news_category', data=df, ax=ax1)\n",
    "bp = sns.boxplot(x='news_category', y=\"sentiment_score\", hue='news_category', data=df, palette=\"Set2\", ax=ax2)\n",
    "t = f.suptitle('Visualizing News Sentiment', fontsize=14)"
   ]
  },
  {
   "cell_type": "code",
   "execution_count": 66,
   "metadata": {},
   "outputs": [
    {
     "name": "stderr",
     "output_type": "stream",
     "text": [
      "C:\\Users\\mishr\\anaconda3\\lib\\site-packages\\seaborn\\categorical.py:3669: UserWarning: The `factorplot` function has been renamed to `catplot`. The original name will be removed in a future release. Please update your code. Note that the default `kind` in `factorplot` (`'point'`) has changed `'strip'` in `catplot`.\n",
      "  warnings.warn(msg)\n"
     ]
    },
    {
     "data": {
      "image/png": "[encoded data removed]",
      "text/plain": [
       "<Figure size 467.5x360 with 1 Axes>"
      ]
     },
     "metadata": {
      "needs_background": "light"
     },
     "output_type": "display_data"
    }
   ],
   "source": [
    "fc = sns.factorplot(x=\"news_category\", hue=\"sentiment_category\", \n",
    "                    data=df, kind=\"count\", \n",
    "                    palette={\"negative\": \"#FE2020\", \n",
    "                             \"positive\": \"#BADD07\", \n",
    "                             \"neutral\": \"#68BFF5\"})"
   ]
  },
  {
   "cell_type": "code",
   "execution_count": 67,
   "metadata": {},
   "outputs": [],
   "source": [
    "pos_idx = df[(df.news_category=='technology') & (df.sentiment_score == 2)].index[0]"
   ]
  },
  {
   "cell_type": "code",
   "execution_count": 68,
   "metadata": {},
   "outputs": [],
   "source": [
    "neg_idx = df[(df.news_category=='technology') & (df.sentiment_score == -2)].index[0]"
   ]
  },
  {
   "cell_type": "code",
   "execution_count": 69,
   "metadata": {},
   "outputs": [
    {
     "name": "stdout",
     "output_type": "stream",
     "text": [
      "Most Negative Tech News Article: Delhi Police has sent a notice to Twitter demanding an explanation for adding the 'manipulated media' tag on tweets by BJP leader Sambit Patra on the alleged Congress 'toolkit' against PM Narendra Modi. It asked Twitter to share the information that it has in regard to the alleged toolkit and explain why it used the tag.\n",
      "\n",
      "Most Positive Tech News Article: Singapore has provisionally approved a COVID-19 breath test that can detect if someone is infected with COVID-19 within 60 seconds. The test, developed by the National University of Singapore's spin-off Breathonix, achieved more than 90% accuracy in a Singapore-based pilot clinical trial last year. A trial of the technology is now expected at one of Singapore's border points with Malaysia.\n"
     ]
    }
   ],
   "source": [
    "print('Most Negative Tech News Article:', news_df.iloc[neg_idx][['news_article']][0])\n",
    "print()\n",
    "print('Most Positive Tech News Article:', news_df.iloc[pos_idx][['news_article']][0])"
   ]
  },
  {
   "cell_type": "code",
   "execution_count": 70,
   "metadata": {},
   "outputs": [
    {
     "data": {
      "text/plain": [
       "array([ -4.,   2.,   5., -12.,  -6.,  -2.,  -8., -11.,  -1.,   4.,   6.,\n",
       "         3., -14., -10., -19.,   0.])"
      ]
     },
     "execution_count": 70,
     "metadata": {},
     "output_type": "execute_result"
    }
   ],
   "source": [
    "df1 = df[df.news_category=='world']\n",
    "pd.unique(df1.sentiment_score)"
   ]
  },
  {
   "cell_type": "code",
   "execution_count": 71,
   "metadata": {},
   "outputs": [
    {
     "name": "stdout",
     "output_type": "stream",
     "text": [
      "Most Negative World News Article: Indian High Commission (IHC) in Islamabad on Monday clarified that an official's spouse, who was reported to have been tested COVID-19 positive by Pakistani media, has tested COVID-19 negative upon her arrival. Earlier, Pakistan asked the officials to quarantine, along with their families and drivers. All 12 passengers reportedly carried negative Polymerase Chain Reaction COVID-19 reports.\n",
      "\n",
      "Most Positive World News Article: Russia's Sputnik V COVID-19 vaccine is \"highly effective\" against coronavirus variant first discovered in Brazil, according to the Russian Direct Investment Fund (RDIF) and a study conducted in Argentina. According to the study, 85.5% of individuals developed antibodies against the variant 14 days after taking the first dose. The variant was behind a surge in COVID-19 cases in Brazil.\n"
     ]
    }
   ],
   "source": [
    "pos_idx = df[(df.news_category=='world') & (df.sentiment_score == 4)].index[0]\n",
    "neg_idx = df[(df.news_category=='world') & (df.sentiment_score == -4.)].index[0]\n",
    "\n",
    "print('Most Negative World News Article:', news_df.iloc[neg_idx][['news_article']][0])\n",
    "print()\n",
    "print('Most Positive World News Article:', news_df.iloc[pos_idx][['news_article']][0])"
   ]
  },
  {
   "cell_type": "code",
   "execution_count": 72,
   "metadata": {},
   "outputs": [],
   "source": [
    "from textblob import TextBlob"
   ]
  },
  {
   "cell_type": "code",
   "execution_count": 73,
   "metadata": {},
   "outputs": [],
   "source": [
    "sentiment_scores_tb = [round(TextBlob(article).sentiment.polarity, 3) for article in news_df['clean_text']]"
   ]
  },
  {
   "cell_type": "code",
   "execution_count": 74,
   "metadata": {},
   "outputs": [],
   "source": [
    "sentiment_category_tb = ['positive' if score > 0 \n",
    "                             else 'negative' if score < 0 \n",
    "                                 else 'neutral' \n",
    "                                     for score in sentiment_scores_tb]"
   ]
  },
  {
   "cell_type": "code",
   "execution_count": 75,
   "metadata": {},
   "outputs": [
    {
     "data": {
      "text/html": [
       "<div>\n",
       "<style scoped>\n",
       "    .dataframe tbody tr th:only-of-type {\n",
       "        vertical-align: middle;\n",
       "    }\n",
       "\n",
       "    .dataframe tbody tr th {\n",
       "        vertical-align: top;\n",
       "    }\n",
       "\n",
       "    .dataframe thead tr th {\n",
       "        text-align: left;\n",
       "    }\n",
       "\n",
       "    .dataframe thead tr:last-of-type th {\n",
       "        text-align: right;\n",
       "    }\n",
       "</style>\n",
       "<table border=\"1\" class=\"dataframe\">\n",
       "  <thead>\n",
       "    <tr>\n",
       "      <th></th>\n",
       "      <th colspan=\"8\" halign=\"left\">sentiment_score</th>\n",
       "    </tr>\n",
       "    <tr>\n",
       "      <th></th>\n",
       "      <th>count</th>\n",
       "      <th>mean</th>\n",
       "      <th>std</th>\n",
       "      <th>min</th>\n",
       "      <th>25%</th>\n",
       "      <th>50%</th>\n",
       "      <th>75%</th>\n",
       "      <th>max</th>\n",
       "    </tr>\n",
       "    <tr>\n",
       "      <th>news_category</th>\n",
       "      <th></th>\n",
       "      <th></th>\n",
       "      <th></th>\n",
       "      <th></th>\n",
       "      <th></th>\n",
       "      <th></th>\n",
       "      <th></th>\n",
       "      <th></th>\n",
       "    </tr>\n",
       "  </thead>\n",
       "  <tbody>\n",
       "    <tr>\n",
       "      <th>science</th>\n",
       "      <td>24.0</td>\n",
       "      <td>0.052000</td>\n",
       "      <td>0.139853</td>\n",
       "      <td>-0.267</td>\n",
       "      <td>-0.00225</td>\n",
       "      <td>0.0375</td>\n",
       "      <td>0.10925</td>\n",
       "      <td>0.387</td>\n",
       "    </tr>\n",
       "    <tr>\n",
       "      <th>sports</th>\n",
       "      <td>25.0</td>\n",
       "      <td>0.080440</td>\n",
       "      <td>0.160979</td>\n",
       "      <td>-0.183</td>\n",
       "      <td>-0.00800</td>\n",
       "      <td>0.0450</td>\n",
       "      <td>0.19200</td>\n",
       "      <td>0.431</td>\n",
       "    </tr>\n",
       "    <tr>\n",
       "      <th>technology</th>\n",
       "      <td>25.0</td>\n",
       "      <td>0.046040</td>\n",
       "      <td>0.168054</td>\n",
       "      <td>-0.500</td>\n",
       "      <td>-0.01700</td>\n",
       "      <td>0.0500</td>\n",
       "      <td>0.12700</td>\n",
       "      <td>0.283</td>\n",
       "    </tr>\n",
       "    <tr>\n",
       "      <th>travel</th>\n",
       "      <td>24.0</td>\n",
       "      <td>0.073833</td>\n",
       "      <td>0.123785</td>\n",
       "      <td>-0.125</td>\n",
       "      <td>0.00000</td>\n",
       "      <td>0.0520</td>\n",
       "      <td>0.14650</td>\n",
       "      <td>0.400</td>\n",
       "    </tr>\n",
       "    <tr>\n",
       "      <th>world</th>\n",
       "      <td>25.0</td>\n",
       "      <td>0.030480</td>\n",
       "      <td>0.191862</td>\n",
       "      <td>-0.225</td>\n",
       "      <td>-0.10000</td>\n",
       "      <td>0.0080</td>\n",
       "      <td>0.14800</td>\n",
       "      <td>0.500</td>\n",
       "    </tr>\n",
       "  </tbody>\n",
       "</table>\n",
       "</div>"
      ],
      "text/plain": [
       "              sentiment_score                                              \\\n",
       "                        count      mean       std    min      25%     50%   \n",
       "news_category                                                               \n",
       "science                  24.0  0.052000  0.139853 -0.267 -0.00225  0.0375   \n",
       "sports                   25.0  0.080440  0.160979 -0.183 -0.00800  0.0450   \n",
       "technology               25.0  0.046040  0.168054 -0.500 -0.01700  0.0500   \n",
       "travel                   24.0  0.073833  0.123785 -0.125  0.00000  0.0520   \n",
       "world                    25.0  0.030480  0.191862 -0.225 -0.10000  0.0080   \n",
       "\n",
       "                               \n",
       "                   75%    max  \n",
       "news_category                  \n",
       "science        0.10925  0.387  \n",
       "sports         0.19200  0.431  \n",
       "technology     0.12700  0.283  \n",
       "travel         0.14650  0.400  \n",
       "world          0.14800  0.500  "
      ]
     },
     "execution_count": 75,
     "metadata": {},
     "output_type": "execute_result"
    }
   ],
   "source": [
    "df = pd.DataFrame([list(news_df['news_category']), sentiment_scores_tb, sentiment_category_tb]).T\n",
    "df.columns = ['news_category', 'sentiment_score', 'sentiment_category']\n",
    "df['sentiment_score'] = df.sentiment_score.astype('float')\n",
    "df.groupby(by=['news_category']).describe()"
   ]
  },
  {
   "cell_type": "code",
   "execution_count": 76,
   "metadata": {},
   "outputs": [
    {
     "data": {
      "text/html": [
       "<div>\n",
       "<style scoped>\n",
       "    .dataframe tbody tr th:only-of-type {\n",
       "        vertical-align: middle;\n",
       "    }\n",
       "\n",
       "    .dataframe tbody tr th {\n",
       "        vertical-align: top;\n",
       "    }\n",
       "\n",
       "    .dataframe thead th {\n",
       "        text-align: right;\n",
       "    }\n",
       "</style>\n",
       "<table border=\"1\" class=\"dataframe\">\n",
       "  <thead>\n",
       "    <tr style=\"text-align: right;\">\n",
       "      <th></th>\n",
       "      <th>news_category</th>\n",
       "      <th>sentiment_score</th>\n",
       "      <th>sentiment_category</th>\n",
       "    </tr>\n",
       "  </thead>\n",
       "  <tbody>\n",
       "    <tr>\n",
       "      <th>0</th>\n",
       "      <td>technology</td>\n",
       "      <td>-0.200</td>\n",
       "      <td>negative</td>\n",
       "    </tr>\n",
       "    <tr>\n",
       "      <th>1</th>\n",
       "      <td>technology</td>\n",
       "      <td>-0.100</td>\n",
       "      <td>negative</td>\n",
       "    </tr>\n",
       "    <tr>\n",
       "      <th>2</th>\n",
       "      <td>technology</td>\n",
       "      <td>-0.017</td>\n",
       "      <td>negative</td>\n",
       "    </tr>\n",
       "    <tr>\n",
       "      <th>3</th>\n",
       "      <td>technology</td>\n",
       "      <td>0.050</td>\n",
       "      <td>positive</td>\n",
       "    </tr>\n",
       "    <tr>\n",
       "      <th>4</th>\n",
       "      <td>technology</td>\n",
       "      <td>0.089</td>\n",
       "      <td>positive</td>\n",
       "    </tr>\n",
       "  </tbody>\n",
       "</table>\n",
       "</div>"
      ],
      "text/plain": [
       "  news_category  sentiment_score sentiment_category\n",
       "0    technology           -0.200           negative\n",
       "1    technology           -0.100           negative\n",
       "2    technology           -0.017           negative\n",
       "3    technology            0.050           positive\n",
       "4    technology            0.089           positive"
      ]
     },
     "execution_count": 76,
     "metadata": {},
     "output_type": "execute_result"
    }
   ],
   "source": [
    "df.head()"
   ]
  },
  {
   "cell_type": "code",
   "execution_count": 77,
   "metadata": {},
   "outputs": [
    {
     "name": "stderr",
     "output_type": "stream",
     "text": [
      "C:\\Users\\mishr\\anaconda3\\lib\\site-packages\\seaborn\\categorical.py:3669: UserWarning: The `factorplot` function has been renamed to `catplot`. The original name will be removed in a future release. Please update your code. Note that the default `kind` in `factorplot` (`'point'`) has changed `'strip'` in `catplot`.\n",
      "  warnings.warn(msg)\n"
     ]
    },
    {
     "data": {
      "image/png": "[encoded data removed]",
      "text/plain": [
       "<Figure size 467.5x360 with 1 Axes>"
      ]
     },
     "metadata": {
      "needs_background": "light"
     },
     "output_type": "display_data"
    }
   ],
   "source": [
    "fc = sns.factorplot(x=\"news_category\", hue=\"sentiment_category\", \n",
    "                    data=df, kind=\"count\", \n",
    "                    palette={\"negative\": \"#FE2020\", \n",
    "                             \"positive\": \"#BADD07\", \n",
    "                             \"neutral\": \"#68BFF5\"})"
   ]
  },
  {
   "cell_type": "code",
   "execution_count": 78,
   "metadata": {},
   "outputs": [
    {
     "name": "stdout",
     "output_type": "stream",
     "text": [
      "Most Negative World News Article: Singapore has provisionally approved a COVID-19 breath test that can detect if someone is infected with COVID-19 within 60 seconds. The test, developed by the National University of Singapore's spin-off Breathonix, achieved more than 90% accuracy in a Singapore-based pilot clinical trial last year. A trial of the technology is now expected at one of Singapore's border points with Malaysia.\n",
      "\n",
      "Most Positive World News Article: Indian High Commission (IHC) in Islamabad on Monday clarified that an official's spouse, who was reported to have been tested COVID-19 positive by Pakistani media, has tested COVID-19 negative upon her arrival. Earlier, Pakistan asked the officials to quarantine, along with their families and drivers. All 12 passengers reportedly carried negative Polymerase Chain Reaction COVID-19 reports.\n"
     ]
    }
   ],
   "source": [
    "pos_idx = df[(df.news_category=='world') & (df.sentiment_score > 0.)].index[0]\n",
    "neg_idx = df[(df.news_category=='world') & (df.sentiment_score < -0.)].index[0]\n",
    "\n",
    "print('Most Negative World News Article:', news_df.iloc[neg_idx][['news_article']][0])\n",
    "print()\n",
    "print('Most Positive World News Article:', news_df.iloc[pos_idx][['news_article']][0])"
   ]
  },
  {
   "cell_type": "code",
   "execution_count": null,
   "metadata": {},
   "outputs": [],
   "source": []
  },
  {
   "cell_type": "code",
   "execution_count": null,
   "metadata": {},
   "outputs": [],
   "source": []
  },
  {
   "cell_type": "code",
   "execution_count": null,
   "metadata": {},
   "outputs": [],
   "source": []
  }
 ],
 "metadata": {
  "anaconda-cloud": {},
  "kernelspec": {
   "display_name": "Python 3",
   "language": "python",
   "name": "python3"
  },
  "language_info": {
   "codemirror_mode": {
    "name": "ipython",
    "version": 3
   },
   "file_extension": ".py",
   "mimetype": "text/x-python",
   "name": "python",
   "nbconvert_exporter": "python",
   "pygments_lexer": "ipython3",
   "version": "3.7.6"
  }
 },
 "nbformat": 4,
 "nbformat_minor": 2
}
